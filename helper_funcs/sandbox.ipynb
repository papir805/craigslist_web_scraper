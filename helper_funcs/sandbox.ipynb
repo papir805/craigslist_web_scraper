{
 "cells": [
  {
   "cell_type": "code",
   "execution_count": 1,
   "id": "7288edee-e45b-4c64-b7b2-df605fd7c76e",
   "metadata": {},
   "outputs": [],
   "source": [
    "from tqdm import tqdm\n",
    "\n",
    "from helper_funcs import get_state_to_region_dict, get_region_search_pg_urls, get_urls_of_posts, process_and_get_urls, convert_urls_to_soup_objs, extract_post_features"
   ]
  },
  {
   "cell_type": "code",
   "execution_count": 2,
   "id": "1d93a37e-b523-41e7-ab22-ad4787d06669",
   "metadata": {},
   "outputs": [],
   "source": [
    "test_dict = {'hey':(1, 3), 'ya':(1,2,3)}"
   ]
  },
  {
   "cell_type": "code",
   "execution_count": 3,
   "id": "f7294fe0-ab60-4d1c-a400-8c6332a10f03",
   "metadata": {},
   "outputs": [],
   "source": [
    "%store -r"
   ]
  },
  {
   "cell_type": "code",
   "execution_count": null,
   "id": "d57f3387-f462-4733-b94e-3615d62e47dc",
   "metadata": {
    "tags": []
   },
   "outputs": [],
   "source": [
    "stored_search_pages"
   ]
  },
  {
   "cell_type": "code",
   "execution_count": null,
   "id": "f564481d-937e-4fe5-9a33-5eae798c1636",
   "metadata": {},
   "outputs": [],
   "source": [
    "stored_search_pages[('California', 'sfbay')]"
   ]
  },
  {
   "cell_type": "code",
   "execution_count": null,
   "id": "88129dcb-af6b-40af-a871-213f12aeec19",
   "metadata": {
    "tags": []
   },
   "outputs": [],
   "source": [
    "search_page_url_dict[('California', 'sfbay')]"
   ]
  },
  {
   "cell_type": "code",
   "execution_count": null,
   "id": "aa4adbad-a138-4164-a356-cd50f96bc8d9",
   "metadata": {
    "tags": []
   },
   "outputs": [],
   "source": [
    "soup_objects_test_dict[('Arizona', 'tucson')]"
   ]
  },
  {
   "cell_type": "code",
   "execution_count": 4,
   "id": "3b05626a-8f34-4720-9c5e-b4f964de91a1",
   "metadata": {},
   "outputs": [
    {
     "name": "stdout",
     "output_type": "stream",
     "text": [
      "df shape: (103, 9)\n",
      "There were 0 errors getting links and 0 getting text\n"
     ]
    },
    {
     "data": {
      "text/plain": [
       "(103, 9)"
      ]
     },
     "execution_count": 4,
     "metadata": {},
     "output_type": "execute_result"
    }
   ],
   "source": [
    "df, err_list1, err_list2 = extract_post_features(soup_objects_test_dict, include_errors=True)"
   ]
  },
  {
   "cell_type": "code",
   "execution_count": 5,
   "id": "69de0f8d-48d6-4d61-85ba-0148c2430873",
   "metadata": {},
   "outputs": [
    {
     "name": "stdout",
     "output_type": "stream",
     "text": [
      "df shape: (103, 9)\n"
     ]
    }
   ],
   "source": [
    "df = extract_post_features(soup_objects_test_dict, include_errors=False)"
   ]
  },
  {
   "cell_type": "code",
   "execution_count": 6,
   "id": "19542fc3-e900-45d9-ad1b-a2b7863c6bc7",
   "metadata": {},
   "outputs": [
    {
     "data": {
      "text/html": [
       "<div>\n",
       "<style scoped>\n",
       "    .dataframe tbody tr th:only-of-type {\n",
       "        vertical-align: middle;\n",
       "    }\n",
       "\n",
       "    .dataframe tbody tr th {\n",
       "        vertical-align: top;\n",
       "    }\n",
       "\n",
       "    .dataframe thead th {\n",
       "        text-align: right;\n",
       "    }\n",
       "</style>\n",
       "<table border=\"1\" class=\"dataframe\">\n",
       "  <thead>\n",
       "    <tr style=\"text-align: right;\">\n",
       "      <th></th>\n",
       "      <th>date_posted</th>\n",
       "      <th>link</th>\n",
       "      <th>price</th>\n",
       "      <th>city</th>\n",
       "      <th>subregion</th>\n",
       "      <th>region</th>\n",
       "      <th>state</th>\n",
       "      <th>post_text</th>\n",
       "      <th>price_list</th>\n",
       "    </tr>\n",
       "  </thead>\n",
       "  <tbody>\n",
       "    <tr>\n",
       "      <th>0</th>\n",
       "      <td>2022-01-17T06:45:48-0600</td>\n",
       "      <td>https://montgomery.craigslist.org/lss/d/montgo...</td>\n",
       "      <td>25.0</td>\n",
       "      <td>no city found</td>\n",
       "      <td>no subregion found</td>\n",
       "      <td>montgomery</td>\n",
       "      <td>Alabama</td>\n",
       "      <td>\\n\\n\\n\\n\\nAt OmniKen Edu. we offer many differ...</td>\n",
       "      <td>[25]</td>\n",
       "    </tr>\n",
       "    <tr>\n",
       "      <th>1</th>\n",
       "      <td>2022-01-20T21:46:36-0900</td>\n",
       "      <td>https://anchorage.craigslist.org/lss/d/anchora...</td>\n",
       "      <td>NaN</td>\n",
       "      <td>Anchorage &amp; Surrounding Communities</td>\n",
       "      <td>no subregion found</td>\n",
       "      <td>anchorage</td>\n",
       "      <td>Alaska</td>\n",
       "      <td>\\n\\n\\n\\n\\n📈Online Tutoring   📝Affordable Compe...</td>\n",
       "      <td>[]</td>\n",
       "    </tr>\n",
       "    <tr>\n",
       "      <th>2</th>\n",
       "      <td>2022-01-31T10:22:46-0900</td>\n",
       "      <td>https://anchorage.craigslist.org/lss/d/nome-12...</td>\n",
       "      <td>NaN</td>\n",
       "      <td>no city found</td>\n",
       "      <td>no subregion found</td>\n",
       "      <td>anchorage</td>\n",
       "      <td>Alaska</td>\n",
       "      <td>\\n\\n\\n\\n\\nOur tutors are real full-time teache...</td>\n",
       "      <td>[]</td>\n",
       "    </tr>\n",
       "    <tr>\n",
       "      <th>3</th>\n",
       "      <td>2022-01-19T12:19:40-0900</td>\n",
       "      <td>https://anchorage.craigslist.org/lss/d/tatitle...</td>\n",
       "      <td>NaN</td>\n",
       "      <td>no city found</td>\n",
       "      <td>no subregion found</td>\n",
       "      <td>anchorage</td>\n",
       "      <td>Alaska</td>\n",
       "      <td>\\n\\n\\n\\n\\nOur tutors are real full-time teache...</td>\n",
       "      <td>[]</td>\n",
       "    </tr>\n",
       "    <tr>\n",
       "      <th>4</th>\n",
       "      <td>2022-01-30T14:03:22-0700</td>\n",
       "      <td>https://flagstaff.craigslist.org/lss/d/flagsta...</td>\n",
       "      <td>30.0</td>\n",
       "      <td>Flagstaff</td>\n",
       "      <td>no subregion found</td>\n",
       "      <td>flagstaff</td>\n",
       "      <td>Arizona</td>\n",
       "      <td>\\n\\n\\n\\n\\nCertified teacher, available for mos...</td>\n",
       "      <td>[30]</td>\n",
       "    </tr>\n",
       "  </tbody>\n",
       "</table>\n",
       "</div>"
      ],
      "text/plain": [
       "                date_posted  \\\n",
       "0  2022-01-17T06:45:48-0600   \n",
       "1  2022-01-20T21:46:36-0900   \n",
       "2  2022-01-31T10:22:46-0900   \n",
       "3  2022-01-19T12:19:40-0900   \n",
       "4  2022-01-30T14:03:22-0700   \n",
       "\n",
       "                                                link  price  \\\n",
       "0  https://montgomery.craigslist.org/lss/d/montgo...   25.0   \n",
       "1  https://anchorage.craigslist.org/lss/d/anchora...    NaN   \n",
       "2  https://anchorage.craigslist.org/lss/d/nome-12...    NaN   \n",
       "3  https://anchorage.craigslist.org/lss/d/tatitle...    NaN   \n",
       "4  https://flagstaff.craigslist.org/lss/d/flagsta...   30.0   \n",
       "\n",
       "                                  city           subregion      region  \\\n",
       "0                        no city found  no subregion found  montgomery   \n",
       "1  Anchorage & Surrounding Communities  no subregion found   anchorage   \n",
       "2                        no city found  no subregion found   anchorage   \n",
       "3                        no city found  no subregion found   anchorage   \n",
       "4                            Flagstaff  no subregion found   flagstaff   \n",
       "\n",
       "     state                                          post_text price_list  \n",
       "0  Alabama  \\n\\n\\n\\n\\nAt OmniKen Edu. we offer many differ...       [25]  \n",
       "1   Alaska  \\n\\n\\n\\n\\n📈Online Tutoring   📝Affordable Compe...         []  \n",
       "2   Alaska  \\n\\n\\n\\n\\nOur tutors are real full-time teache...         []  \n",
       "3   Alaska  \\n\\n\\n\\n\\nOur tutors are real full-time teache...         []  \n",
       "4  Arizona  \\n\\n\\n\\n\\nCertified teacher, available for mos...       [30]  "
      ]
     },
     "execution_count": 6,
     "metadata": {},
     "output_type": "execute_result"
    }
   ],
   "source": [
    "df.head()"
   ]
  },
  {
   "cell_type": "code",
   "execution_count": null,
   "id": "777f5a8c-c673-4537-b4e7-73171daec52c",
   "metadata": {},
   "outputs": [],
   "source": []
  }
 ],
 "metadata": {
  "kernelspec": {
   "display_name": "Python 3 (ipykernel)",
   "language": "python",
   "name": "python3"
  },
  "language_info": {
   "codemirror_mode": {
    "name": "ipython",
    "version": 3
   },
   "file_extension": ".py",
   "mimetype": "text/x-python",
   "name": "python",
   "nbconvert_exporter": "python",
   "pygments_lexer": "ipython3",
   "version": "3.9.9"
  }
 },
 "nbformat": 4,
 "nbformat_minor": 5
}
