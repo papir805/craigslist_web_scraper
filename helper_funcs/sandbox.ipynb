{
 "cells": [
  {
   "cell_type": "code",
   "execution_count": 1,
   "id": "7288edee-e45b-4c64-b7b2-df605fd7c76e",
   "metadata": {},
   "outputs": [],
   "source": [
    "from tqdm import tqdm\n",
    "import pandas as pd\n",
    "\n",
    "from helper_funcs import get_state_to_region_dict, get_region_search_pg_urls, get_urls_of_posts, process_and_get_urls, convert_urls_to_soup_objs, extract_post_features, drop_exact_duplicates, drop_posts_with_similar_text, drop_posts_without_prices"
   ]
  },
  {
   "cell_type": "code",
   "execution_count": 2,
   "id": "1d93a37e-b523-41e7-ab22-ad4787d06669",
   "metadata": {},
   "outputs": [],
   "source": [
    "test_dict = {'hey':(1, 3), 'ya':(1,2,3)}"
   ]
  },
  {
   "cell_type": "code",
   "execution_count": 3,
   "id": "f7294fe0-ab60-4d1c-a400-8c6332a10f03",
   "metadata": {},
   "outputs": [],
   "source": [
    "%store -r"
   ]
  },
  {
   "cell_type": "code",
   "execution_count": 4,
   "id": "d57f3387-f462-4733-b94e-3615d62e47dc",
   "metadata": {
    "tags": []
   },
   "outputs": [],
   "source": [
    "# stored_search_pages"
   ]
  },
  {
   "cell_type": "code",
   "execution_count": 5,
   "id": "f564481d-937e-4fe5-9a33-5eae798c1636",
   "metadata": {},
   "outputs": [],
   "source": [
    "# stored_search_pages[('California', 'sfbay')]"
   ]
  },
  {
   "cell_type": "code",
   "execution_count": 6,
   "id": "88129dcb-af6b-40af-a871-213f12aeec19",
   "metadata": {
    "tags": []
   },
   "outputs": [],
   "source": [
    "# search_page_url_dict[('California', 'sfbay')]"
   ]
  },
  {
   "cell_type": "code",
   "execution_count": 7,
   "id": "aa4adbad-a138-4164-a356-cd50f96bc8d9",
   "metadata": {
    "tags": []
   },
   "outputs": [],
   "source": [
    "# soup_objects_test_dict[('Arizona', 'tucson')]"
   ]
  },
  {
   "cell_type": "code",
   "execution_count": 8,
   "id": "3b05626a-8f34-4720-9c5e-b4f964de91a1",
   "metadata": {},
   "outputs": [],
   "source": [
    "# df, err_list1, err_list2 = extract_post_features(soup_objects_test_dict, include_errors=True)"
   ]
  },
  {
   "cell_type": "code",
   "execution_count": 9,
   "id": "69de0f8d-48d6-4d61-85ba-0148c2430873",
   "metadata": {},
   "outputs": [
    {
     "name": "stdout",
     "output_type": "stream",
     "text": [
      "df shape: (103, 10)\n"
     ]
    }
   ],
   "source": [
    "df = extract_post_features(soup_objects_test_dict, include_errors=False)"
   ]
  },
  {
   "cell_type": "code",
   "execution_count": 10,
   "id": "19542fc3-e900-45d9-ad1b-a2b7863c6bc7",
   "metadata": {},
   "outputs": [
    {
     "data": {
      "text/html": [
       "<div>\n",
       "<style scoped>\n",
       "    .dataframe tbody tr th:only-of-type {\n",
       "        vertical-align: middle;\n",
       "    }\n",
       "\n",
       "    .dataframe tbody tr th {\n",
       "        vertical-align: top;\n",
       "    }\n",
       "\n",
       "    .dataframe thead th {\n",
       "        text-align: right;\n",
       "    }\n",
       "</style>\n",
       "<table border=\"1\" class=\"dataframe\">\n",
       "  <thead>\n",
       "    <tr style=\"text-align: right;\">\n",
       "      <th></th>\n",
       "      <th>date_posted</th>\n",
       "      <th>link</th>\n",
       "      <th>price</th>\n",
       "      <th>city</th>\n",
       "      <th>subregion</th>\n",
       "      <th>region</th>\n",
       "      <th>state</th>\n",
       "      <th>post_text</th>\n",
       "      <th>price_list</th>\n",
       "      <th>posts_scraped_on</th>\n",
       "    </tr>\n",
       "  </thead>\n",
       "  <tbody>\n",
       "    <tr>\n",
       "      <th>0</th>\n",
       "      <td>2022-01-17T06:45:48-0600</td>\n",
       "      <td>https://montgomery.craigslist.org/lss/d/montgo...</td>\n",
       "      <td>25.0</td>\n",
       "      <td>no city found</td>\n",
       "      <td>no subregion found</td>\n",
       "      <td>montgomery</td>\n",
       "      <td>Alabama</td>\n",
       "      <td>\\n\\n\\n\\n\\nAt OmniKen Edu. we offer many differ...</td>\n",
       "      <td>[25]</td>\n",
       "      <td>2022-02-06</td>\n",
       "    </tr>\n",
       "    <tr>\n",
       "      <th>1</th>\n",
       "      <td>2022-01-20T21:46:36-0900</td>\n",
       "      <td>https://anchorage.craigslist.org/lss/d/anchora...</td>\n",
       "      <td>NaN</td>\n",
       "      <td>Anchorage &amp; Surrounding Communities</td>\n",
       "      <td>no subregion found</td>\n",
       "      <td>anchorage</td>\n",
       "      <td>Alaska</td>\n",
       "      <td>\\n\\n\\n\\n\\n📈Online Tutoring   📝Affordable Compe...</td>\n",
       "      <td>[]</td>\n",
       "      <td>2022-02-06</td>\n",
       "    </tr>\n",
       "    <tr>\n",
       "      <th>2</th>\n",
       "      <td>2022-01-31T10:22:46-0900</td>\n",
       "      <td>https://anchorage.craigslist.org/lss/d/nome-12...</td>\n",
       "      <td>NaN</td>\n",
       "      <td>no city found</td>\n",
       "      <td>no subregion found</td>\n",
       "      <td>anchorage</td>\n",
       "      <td>Alaska</td>\n",
       "      <td>\\n\\n\\n\\n\\nOur tutors are real full-time teache...</td>\n",
       "      <td>[]</td>\n",
       "      <td>2022-02-06</td>\n",
       "    </tr>\n",
       "    <tr>\n",
       "      <th>3</th>\n",
       "      <td>2022-01-19T12:19:40-0900</td>\n",
       "      <td>https://anchorage.craigslist.org/lss/d/tatitle...</td>\n",
       "      <td>NaN</td>\n",
       "      <td>no city found</td>\n",
       "      <td>no subregion found</td>\n",
       "      <td>anchorage</td>\n",
       "      <td>Alaska</td>\n",
       "      <td>\\n\\n\\n\\n\\nOur tutors are real full-time teache...</td>\n",
       "      <td>[]</td>\n",
       "      <td>2022-02-06</td>\n",
       "    </tr>\n",
       "    <tr>\n",
       "      <th>4</th>\n",
       "      <td>2022-01-30T14:03:22-0700</td>\n",
       "      <td>https://flagstaff.craigslist.org/lss/d/flagsta...</td>\n",
       "      <td>30.0</td>\n",
       "      <td>Flagstaff</td>\n",
       "      <td>no subregion found</td>\n",
       "      <td>flagstaff</td>\n",
       "      <td>Arizona</td>\n",
       "      <td>\\n\\n\\n\\n\\nCertified teacher, available for mos...</td>\n",
       "      <td>[30]</td>\n",
       "      <td>2022-02-06</td>\n",
       "    </tr>\n",
       "  </tbody>\n",
       "</table>\n",
       "</div>"
      ],
      "text/plain": [
       "                date_posted  \\\n",
       "0  2022-01-17T06:45:48-0600   \n",
       "1  2022-01-20T21:46:36-0900   \n",
       "2  2022-01-31T10:22:46-0900   \n",
       "3  2022-01-19T12:19:40-0900   \n",
       "4  2022-01-30T14:03:22-0700   \n",
       "\n",
       "                                                link  price  \\\n",
       "0  https://montgomery.craigslist.org/lss/d/montgo...   25.0   \n",
       "1  https://anchorage.craigslist.org/lss/d/anchora...    NaN   \n",
       "2  https://anchorage.craigslist.org/lss/d/nome-12...    NaN   \n",
       "3  https://anchorage.craigslist.org/lss/d/tatitle...    NaN   \n",
       "4  https://flagstaff.craigslist.org/lss/d/flagsta...   30.0   \n",
       "\n",
       "                                  city           subregion      region  \\\n",
       "0                        no city found  no subregion found  montgomery   \n",
       "1  Anchorage & Surrounding Communities  no subregion found   anchorage   \n",
       "2                        no city found  no subregion found   anchorage   \n",
       "3                        no city found  no subregion found   anchorage   \n",
       "4                            Flagstaff  no subregion found   flagstaff   \n",
       "\n",
       "     state                                          post_text price_list  \\\n",
       "0  Alabama  \\n\\n\\n\\n\\nAt OmniKen Edu. we offer many differ...       [25]   \n",
       "1   Alaska  \\n\\n\\n\\n\\n📈Online Tutoring   📝Affordable Compe...         []   \n",
       "2   Alaska  \\n\\n\\n\\n\\nOur tutors are real full-time teache...         []   \n",
       "3   Alaska  \\n\\n\\n\\n\\nOur tutors are real full-time teache...         []   \n",
       "4  Arizona  \\n\\n\\n\\n\\nCertified teacher, available for mos...       [30]   \n",
       "\n",
       "  posts_scraped_on  \n",
       "0       2022-02-06  \n",
       "1       2022-02-06  \n",
       "2       2022-02-06  \n",
       "3       2022-02-06  \n",
       "4       2022-02-06  "
      ]
     },
     "execution_count": 10,
     "metadata": {},
     "output_type": "execute_result"
    }
   ],
   "source": [
    "df.head()"
   ]
  },
  {
   "cell_type": "code",
   "execution_count": 11,
   "id": "777f5a8c-c673-4537-b4e7-73171daec52c",
   "metadata": {},
   "outputs": [
    {
     "name": "stdout",
     "output_type": "stream",
     "text": [
      "Number of rows before dropping duplicates: 103\n",
      "Number of rows before after duplicates: 76\n",
      "A difference of 27 rows.\n"
     ]
    }
   ],
   "source": [
    "df_exacts_dropped = drop_exact_duplicates(df)"
   ]
  },
  {
   "cell_type": "code",
   "execution_count": 12,
   "id": "3b0f097f-6223-4382-af3b-1182757c8073",
   "metadata": {},
   "outputs": [
    {
     "name": "stdout",
     "output_type": "stream",
     "text": [
      "Number of rows before dropping duplicates: 76\n",
      "Number of rows before after duplicates: 52\n",
      "A difference of 24 rows.\n"
     ]
    },
    {
     "name": "stderr",
     "output_type": "stream",
     "text": [
      "/Users/rancher/opt/anaconda3/envs/ox/lib/python3.9/site-packages/numpy/core/fromnumeric.py:3162: VisibleDeprecationWarning: Creating an ndarray from ragged nested sequences (which is a list-or-tuple of lists-or-tuples-or ndarrays with different lengths or shapes) is deprecated. If you meant to do this, you must specify 'dtype=object' when creating the ndarray.\n",
      "  return asarray(a).ndim\n",
      "/Users/rancher/opt/anaconda3/envs/ox/lib/python3.9/site-packages/pandas/core/internals/blocks.py:937: VisibleDeprecationWarning: Creating an ndarray from ragged nested sequences (which is a list-or-tuple of lists-or-tuples-or ndarrays with different lengths or shapes) is deprecated. If you meant to do this, you must specify 'dtype=object' when creating the ndarray.\n",
      "  arr_value = np.asarray(value)\n"
     ]
    }
   ],
   "source": [
    "df_no_dups = drop_posts_with_similar_text(df_exacts_dropped, drop_match_col=False)"
   ]
  },
  {
   "cell_type": "code",
   "execution_count": 13,
   "id": "6d672d80-09c2-461e-975a-7c786dbaceb6",
   "metadata": {},
   "outputs": [
    {
     "data": {
      "text/html": [
       "<div>\n",
       "<style scoped>\n",
       "    .dataframe tbody tr th:only-of-type {\n",
       "        vertical-align: middle;\n",
       "    }\n",
       "\n",
       "    .dataframe tbody tr th {\n",
       "        vertical-align: top;\n",
       "    }\n",
       "\n",
       "    .dataframe thead th {\n",
       "        text-align: right;\n",
       "    }\n",
       "</style>\n",
       "<table border=\"1\" class=\"dataframe\">\n",
       "  <thead>\n",
       "    <tr style=\"text-align: right;\">\n",
       "      <th></th>\n",
       "      <th>date_posted</th>\n",
       "      <th>link</th>\n",
       "      <th>price</th>\n",
       "      <th>city</th>\n",
       "      <th>subregion</th>\n",
       "      <th>region</th>\n",
       "      <th>state</th>\n",
       "      <th>post_text</th>\n",
       "      <th>price_list</th>\n",
       "      <th>posts_scraped_on</th>\n",
       "      <th>match</th>\n",
       "    </tr>\n",
       "  </thead>\n",
       "  <tbody>\n",
       "    <tr>\n",
       "      <th>0</th>\n",
       "      <td>2022-01-17T06:45:48-0600</td>\n",
       "      <td>https://montgomery.craigslist.org/lss/d/montgo...</td>\n",
       "      <td>25.0</td>\n",
       "      <td>no city found</td>\n",
       "      <td>no subregion found</td>\n",
       "      <td>montgomery</td>\n",
       "      <td>Alabama</td>\n",
       "      <td>\\n\\n\\n\\n\\nAt OmniKen Edu. we offer many differ...</td>\n",
       "      <td>[25]</td>\n",
       "      <td>2022-02-06</td>\n",
       "      <td>[0]</td>\n",
       "    </tr>\n",
       "    <tr>\n",
       "      <th>1</th>\n",
       "      <td>2022-01-20T21:46:36-0900</td>\n",
       "      <td>https://anchorage.craigslist.org/lss/d/anchora...</td>\n",
       "      <td>NaN</td>\n",
       "      <td>Anchorage &amp; Surrounding Communities</td>\n",
       "      <td>no subregion found</td>\n",
       "      <td>anchorage</td>\n",
       "      <td>Alaska</td>\n",
       "      <td>\\n\\n\\n\\n\\n📈Online Tutoring   📝Affordable Compe...</td>\n",
       "      <td>[]</td>\n",
       "      <td>2022-02-06</td>\n",
       "      <td>[1]</td>\n",
       "    </tr>\n",
       "    <tr>\n",
       "      <th>2</th>\n",
       "      <td>2022-01-31T10:22:46-0900</td>\n",
       "      <td>https://anchorage.craigslist.org/lss/d/nome-12...</td>\n",
       "      <td>NaN</td>\n",
       "      <td>no city found</td>\n",
       "      <td>no subregion found</td>\n",
       "      <td>anchorage</td>\n",
       "      <td>Alaska</td>\n",
       "      <td>\\n\\n\\n\\n\\nOur tutors are real full-time teache...</td>\n",
       "      <td>[]</td>\n",
       "      <td>2022-02-06</td>\n",
       "      <td>[3, 68]</td>\n",
       "    </tr>\n",
       "    <tr>\n",
       "      <th>4</th>\n",
       "      <td>2022-01-30T14:03:22-0700</td>\n",
       "      <td>https://flagstaff.craigslist.org/lss/d/flagsta...</td>\n",
       "      <td>30.0</td>\n",
       "      <td>Flagstaff</td>\n",
       "      <td>no subregion found</td>\n",
       "      <td>flagstaff</td>\n",
       "      <td>Arizona</td>\n",
       "      <td>\\n\\n\\n\\n\\nCertified teacher, available for mos...</td>\n",
       "      <td>[30]</td>\n",
       "      <td>2022-02-06</td>\n",
       "      <td>[5]</td>\n",
       "    </tr>\n",
       "    <tr>\n",
       "      <th>6</th>\n",
       "      <td>2022-01-10T06:34:09-0700</td>\n",
       "      <td>https://flagstaff.craigslist.org/lss/d/flagsta...</td>\n",
       "      <td>NaN</td>\n",
       "      <td>no city found</td>\n",
       "      <td>no subregion found</td>\n",
       "      <td>flagstaff</td>\n",
       "      <td>Arizona</td>\n",
       "      <td>\\n\\n\\n\\n\\nHi, I’m Tiffany and I along with 3 o...</td>\n",
       "      <td>[]</td>\n",
       "      <td>2022-02-06</td>\n",
       "      <td>[41]</td>\n",
       "    </tr>\n",
       "  </tbody>\n",
       "</table>\n",
       "</div>"
      ],
      "text/plain": [
       "                date_posted  \\\n",
       "0  2022-01-17T06:45:48-0600   \n",
       "1  2022-01-20T21:46:36-0900   \n",
       "2  2022-01-31T10:22:46-0900   \n",
       "4  2022-01-30T14:03:22-0700   \n",
       "6  2022-01-10T06:34:09-0700   \n",
       "\n",
       "                                                link  price  \\\n",
       "0  https://montgomery.craigslist.org/lss/d/montgo...   25.0   \n",
       "1  https://anchorage.craigslist.org/lss/d/anchora...    NaN   \n",
       "2  https://anchorage.craigslist.org/lss/d/nome-12...    NaN   \n",
       "4  https://flagstaff.craigslist.org/lss/d/flagsta...   30.0   \n",
       "6  https://flagstaff.craigslist.org/lss/d/flagsta...    NaN   \n",
       "\n",
       "                                  city           subregion      region  \\\n",
       "0                        no city found  no subregion found  montgomery   \n",
       "1  Anchorage & Surrounding Communities  no subregion found   anchorage   \n",
       "2                        no city found  no subregion found   anchorage   \n",
       "4                            Flagstaff  no subregion found   flagstaff   \n",
       "6                        no city found  no subregion found   flagstaff   \n",
       "\n",
       "     state                                          post_text price_list  \\\n",
       "0  Alabama  \\n\\n\\n\\n\\nAt OmniKen Edu. we offer many differ...       [25]   \n",
       "1   Alaska  \\n\\n\\n\\n\\n📈Online Tutoring   📝Affordable Compe...         []   \n",
       "2   Alaska  \\n\\n\\n\\n\\nOur tutors are real full-time teache...         []   \n",
       "4  Arizona  \\n\\n\\n\\n\\nCertified teacher, available for mos...       [30]   \n",
       "6  Arizona  \\n\\n\\n\\n\\nHi, I’m Tiffany and I along with 3 o...         []   \n",
       "\n",
       "  posts_scraped_on    match  \n",
       "0       2022-02-06      [0]  \n",
       "1       2022-02-06      [1]  \n",
       "2       2022-02-06  [3, 68]  \n",
       "4       2022-02-06      [5]  \n",
       "6       2022-02-06     [41]  "
      ]
     },
     "execution_count": 13,
     "metadata": {},
     "output_type": "execute_result"
    }
   ],
   "source": [
    "df_no_dups.head()"
   ]
  },
  {
   "cell_type": "code",
   "execution_count": 14,
   "id": "0adeef4e-faec-4249-a2bb-78de4465b304",
   "metadata": {},
   "outputs": [
    {
     "name": "stdout",
     "output_type": "stream",
     "text": [
      "Number of rows before dropping duplicates: 52\n",
      "Number of rows before after duplicates: 22\n",
      "A difference of 30 rows.\n"
     ]
    }
   ],
   "source": [
    "df_with_prices = drop_posts_without_prices(df_no_dups)"
   ]
  },
  {
   "cell_type": "code",
   "execution_count": null,
   "id": "016e06f0-1bb5-43cf-88c2-4ec15b743bc9",
   "metadata": {},
   "outputs": [],
   "source": []
  }
 ],
 "metadata": {
  "kernelspec": {
   "display_name": "Python 3 (ipykernel)",
   "language": "python",
   "name": "python3"
  },
  "language_info": {
   "codemirror_mode": {
    "name": "ipython",
    "version": 3
   },
   "file_extension": ".py",
   "mimetype": "text/x-python",
   "name": "python",
   "nbconvert_exporter": "python",
   "pygments_lexer": "ipython3",
   "version": "3.9.9"
  }
 },
 "nbformat": 4,
 "nbformat_minor": 5
}
