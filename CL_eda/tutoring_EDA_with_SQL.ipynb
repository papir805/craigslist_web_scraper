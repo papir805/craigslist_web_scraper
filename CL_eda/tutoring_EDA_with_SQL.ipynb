{
 "cells": [
  {
   "cell_type": "code",
   "execution_count": 1,
   "metadata": {},
   "outputs": [],
   "source": [
    "import pandas as pd\n",
    "import numpy as np\n",
    "import matplotlib.pyplot as plt\n",
    "import psycopg2\n",
    "import seaborn as sns"
   ]
  },
  {
   "cell_type": "markdown",
   "metadata": {},
   "source": [
    "# Pulling data from database to check that it was stored correctly and also to start analyzing it"
   ]
  },
  {
   "cell_type": "code",
   "execution_count": 2,
   "metadata": {},
   "outputs": [],
   "source": [
    "conn = psycopg2.connect(\"host=localhost dbname=rancher port=5430\")"
   ]
  },
  {
   "cell_type": "code",
   "execution_count": 3,
   "metadata": {},
   "outputs": [],
   "source": [
    "def db_table_exists(conn, tablename):\n",
    "    # thanks to Peter Hansen's answer for this sql\n",
    "    sql = f\"\"\"SELECT * FROM information_schema.tables\n",
    "            WHERE table_name='{tablename}'\"\"\"\n",
    "    \n",
    "    # return results of sql query from conn as a pandas dataframe\n",
    "    results_df = pd.read_sql_query(sql, conn)\n",
    "    \n",
    "    # True if we got any results back, False if we didn't\n",
    "    return bool(len(results_df))"
   ]
  },
  {
   "cell_type": "code",
   "execution_count": 4,
   "metadata": {},
   "outputs": [
    {
     "name": "stderr",
     "output_type": "stream",
     "text": [
      "/Users/rancher/opt/anaconda3/envs/ox/lib/python3.9/site-packages/pandas/io/sql.py:761: UserWarning: pandas only support SQLAlchemy connectable(engine/connection) ordatabase string URI or sqlite3 DBAPI2 connectionother DBAPI2 objects are not tested, please consider using SQLAlchemy\n",
      "  warnings.warn(\n"
     ]
    }
   ],
   "source": [
    "# Instantiate a new cursor object\n",
    "cur = conn.cursor()\n",
    "\n",
    "# Use cursor object to create a database for storing the information we scraped and cleaned, if one doesn't already exist.\n",
    "cur.execute(\"\"\"    \n",
    "    CREATE TABLE IF NOT EXISTS us_census_regions(\n",
    "    state text PRIMARY KEY,\n",
    "    state_code text,\n",
    "    us_region text,\n",
    "    us_division text\n",
    "    )\n",
    "\"\"\")\n",
    "\n",
    "# Copy data from our CSV file into database.  \n",
    "### Note, we can use the ; separator freely because we replaced all instances of semicolons in post_text to commas during the preprocessing stage, ensuring that psycopg2 won't misinterpret a semicolon in the body of a post as a separator.\n",
    "### Also, we must specify null=\"\" because Python represents null values as an empty string when writing to a CSV file and psycopg2 needs to know how null values are represented in the CSV file in order to properly insert null values into the database\n",
    "if not db_table_exists(conn, 'us_census_regions'):\n",
    "    with open('../census-regions/us_census_regions.csv', 'r') as file:\n",
    "        next(file) # Skip the header row\n",
    "        cur.copy_from(file, 'us_census_regions', null=\"\", sep=',')\n",
    "    \n",
    "# Commit changes to database\n",
    "conn.commit()"
   ]
  },
  {
   "cell_type": "code",
   "execution_count": 5,
   "metadata": {},
   "outputs": [
    {
     "name": "stderr",
     "output_type": "stream",
     "text": [
      "/Users/rancher/opt/anaconda3/envs/ox/lib/python3.9/site-packages/pandas/io/sql.py:761: UserWarning: pandas only support SQLAlchemy connectable(engine/connection) ordatabase string URI or sqlite3 DBAPI2 connectionother DBAPI2 objects are not tested, please consider using SQLAlchemy\n",
      "  warnings.warn(\n"
     ]
    }
   ],
   "source": [
    "df_sql = pd.read_sql_query(\"\"\"SELECT cl.*, cr.us_region, cr.us_division\n",
    "                              FROM cl_tutoring AS cl\n",
    "                              LEFT JOIN us_census_regions as cr\n",
    "                                ON cl.state = cr.state\n",
    "                              WHERE date_scraped = '2022-02-03'\"\"\", con=conn)"
   ]
  },
  {
   "cell_type": "code",
   "execution_count": 6,
   "metadata": {},
   "outputs": [
    {
     "data": {
      "text/html": [
       "<div>\n",
       "<style scoped>\n",
       "    .dataframe tbody tr th:only-of-type {\n",
       "        vertical-align: middle;\n",
       "    }\n",
       "\n",
       "    .dataframe tbody tr th {\n",
       "        vertical-align: top;\n",
       "    }\n",
       "\n",
       "    .dataframe thead th {\n",
       "        text-align: right;\n",
       "    }\n",
       "</style>\n",
       "<table border=\"1\" class=\"dataframe\">\n",
       "  <thead>\n",
       "    <tr style=\"text-align: right;\">\n",
       "      <th></th>\n",
       "      <th>id</th>\n",
       "      <th>date_scraped</th>\n",
       "      <th>price</th>\n",
       "      <th>city</th>\n",
       "      <th>subregion</th>\n",
       "      <th>region</th>\n",
       "      <th>state</th>\n",
       "      <th>post_text</th>\n",
       "      <th>date_posted</th>\n",
       "      <th>us_region</th>\n",
       "      <th>us_division</th>\n",
       "    </tr>\n",
       "  </thead>\n",
       "  <tbody>\n",
       "    <tr>\n",
       "      <th>357</th>\n",
       "      <td>1024</td>\n",
       "      <td>2022-02-03</td>\n",
       "      <td>40.0</td>\n",
       "      <td>Portland-Seattle</td>\n",
       "      <td>Seattle</td>\n",
       "      <td>seattle</td>\n",
       "      <td>Washington</td>\n",
       "      <td>\\n\\n\\n\\n\\nNote: I'm actually based in Portland...</td>\n",
       "      <td>2022-01-22 05:13:48</td>\n",
       "      <td>West</td>\n",
       "      <td>Pacific</td>\n",
       "    </tr>\n",
       "    <tr>\n",
       "      <th>358</th>\n",
       "      <td>1025</td>\n",
       "      <td>2022-02-03</td>\n",
       "      <td>45.0</td>\n",
       "      <td>Olympia</td>\n",
       "      <td>Olympia</td>\n",
       "      <td>seattle</td>\n",
       "      <td>Washington</td>\n",
       "      <td>\\n\\n\\n\\n\\nHow can I help you?\\n\\nI have decade...</td>\n",
       "      <td>2022-01-19 13:39:09</td>\n",
       "      <td>West</td>\n",
       "      <td>Pacific</td>\n",
       "    </tr>\n",
       "    <tr>\n",
       "      <th>359</th>\n",
       "      <td>1026</td>\n",
       "      <td>2022-02-03</td>\n",
       "      <td>45.0</td>\n",
       "      <td>Online</td>\n",
       "      <td>no subregion found</td>\n",
       "      <td>skagit</td>\n",
       "      <td>Washington</td>\n",
       "      <td>\\n\\n\\n\\n\\nI love math! I taught my two childre...</td>\n",
       "      <td>2022-01-17 13:29:06</td>\n",
       "      <td>West</td>\n",
       "      <td>Pacific</td>\n",
       "    </tr>\n",
       "    <tr>\n",
       "      <th>360</th>\n",
       "      <td>1027</td>\n",
       "      <td>2022-02-03</td>\n",
       "      <td>25.0</td>\n",
       "      <td>Evansville</td>\n",
       "      <td>no subregion found</td>\n",
       "      <td>madison</td>\n",
       "      <td>Wisconsin</td>\n",
       "      <td>\\n\\n\\n\\n\\nHighschool math teacher, 38 years. T...</td>\n",
       "      <td>2022-01-17 16:55:14</td>\n",
       "      <td>Midwest</td>\n",
       "      <td>East North Central</td>\n",
       "    </tr>\n",
       "    <tr>\n",
       "      <th>361</th>\n",
       "      <td>1028</td>\n",
       "      <td>2022-02-03</td>\n",
       "      <td>45.0</td>\n",
       "      <td>no city found</td>\n",
       "      <td>no subregion found</td>\n",
       "      <td>madison</td>\n",
       "      <td>Wisconsin</td>\n",
       "      <td>\\n\\n\\n\\n\\nHi! My name is Michelle and I am an ...</td>\n",
       "      <td>2022-01-14 15:21:43</td>\n",
       "      <td>Midwest</td>\n",
       "      <td>East North Central</td>\n",
       "    </tr>\n",
       "  </tbody>\n",
       "</table>\n",
       "</div>"
      ],
      "text/plain": [
       "       id date_scraped  price              city           subregion   region  \\\n",
       "357  1024   2022-02-03   40.0  Portland-Seattle             Seattle  seattle   \n",
       "358  1025   2022-02-03   45.0           Olympia             Olympia  seattle   \n",
       "359  1026   2022-02-03   45.0            Online  no subregion found   skagit   \n",
       "360  1027   2022-02-03   25.0        Evansville  no subregion found  madison   \n",
       "361  1028   2022-02-03   45.0     no city found  no subregion found  madison   \n",
       "\n",
       "          state                                          post_text  \\\n",
       "357  Washington  \\n\\n\\n\\n\\nNote: I'm actually based in Portland...   \n",
       "358  Washington  \\n\\n\\n\\n\\nHow can I help you?\\n\\nI have decade...   \n",
       "359  Washington  \\n\\n\\n\\n\\nI love math! I taught my two childre...   \n",
       "360   Wisconsin  \\n\\n\\n\\n\\nHighschool math teacher, 38 years. T...   \n",
       "361   Wisconsin  \\n\\n\\n\\n\\nHi! My name is Michelle and I am an ...   \n",
       "\n",
       "            date_posted us_region         us_division  \n",
       "357 2022-01-22 05:13:48      West             Pacific  \n",
       "358 2022-01-19 13:39:09      West             Pacific  \n",
       "359 2022-01-17 13:29:06      West             Pacific  \n",
       "360 2022-01-17 16:55:14   Midwest  East North Central  \n",
       "361 2022-01-14 15:21:43   Midwest  East North Central  "
      ]
     },
     "execution_count": 6,
     "metadata": {},
     "output_type": "execute_result"
    }
   ],
   "source": [
    "df_sql.tail()"
   ]
  },
  {
   "cell_type": "code",
   "execution_count": 7,
   "metadata": {},
   "outputs": [],
   "source": [
    "state_counts = df_sql['state'].value_counts().rename('state_counts')\n",
    "\n",
    "state_counts_df = df_sql.merge(state_counts.to_frame(),\n",
    "                               left_on='state',\n",
    "                               right_index=True)"
   ]
  },
  {
   "cell_type": "code",
   "execution_count": 10,
   "metadata": {},
   "outputs": [
    {
     "data": {
      "image/png": "[encoded data removed]",
      "text/plain": [
       "<Figure size 720x360 with 1 Axes>"
      ]
     },
     "metadata": {
      "needs_background": "light"
     },
     "output_type": "display_data"
    }
   ],
   "source": [
    "st_cnt_greater_10 = state_counts_df['state_counts']>=10\n",
    "st_avg_greater_10 = state_counts_df[st_cnt_greater_10].groupby('state')['price'].agg(['mean', 'size'])\n",
    "\n",
    "fig, ax = plt.subplots(1,1,figsize=(10,5))\n",
    "#state_counts_df[st_cnt_greater_10]['state'].value_counts().plot(kind='bar', ax=ax);\n",
    "\n",
    "st_avg_greater_10.sort_values(by='mean', ascending=False).plot(kind='bar', ax=ax)\n",
    "ax.set_yticks([0, 20, 40, st_avg_greater_10['mean'].max(), 80, 100, 120, st_avg_greater_10['size'].max()]);"
   ]
  },
  {
   "cell_type": "code",
   "execution_count": 11,
   "metadata": {},
   "outputs": [],
   "source": [
    "st_cnt_less_10 = state_counts_df['state_counts']<10\n",
    "st_avg_less_10 = state_counts_df[st_cnt_less_10]['price'].agg(['mean', 'size'])"
   ]
  },
  {
   "cell_type": "code",
   "execution_count": 12,
   "metadata": {},
   "outputs": [
    {
     "data": {
      "text/html": [
       "<div>\n",
       "<style scoped>\n",
       "    .dataframe tbody tr th:only-of-type {\n",
       "        vertical-align: middle;\n",
       "    }\n",
       "\n",
       "    .dataframe tbody tr th {\n",
       "        vertical-align: top;\n",
       "    }\n",
       "\n",
       "    .dataframe thead th {\n",
       "        text-align: right;\n",
       "    }\n",
       "</style>\n",
       "<table border=\"1\" class=\"dataframe\">\n",
       "  <thead>\n",
       "    <tr style=\"text-align: right;\">\n",
       "      <th></th>\n",
       "      <th>mean</th>\n",
       "      <th>size</th>\n",
       "    </tr>\n",
       "    <tr>\n",
       "      <th>state</th>\n",
       "      <th></th>\n",
       "      <th></th>\n",
       "    </tr>\n",
       "  </thead>\n",
       "  <tbody>\n",
       "    <tr>\n",
       "      <th>Arizona</th>\n",
       "      <td>42.285714</td>\n",
       "      <td>22</td>\n",
       "    </tr>\n",
       "    <tr>\n",
       "      <th>California</th>\n",
       "      <td>48.209677</td>\n",
       "      <td>135</td>\n",
       "    </tr>\n",
       "    <tr>\n",
       "      <th>Colorado</th>\n",
       "      <td>44.541667</td>\n",
       "      <td>13</td>\n",
       "    </tr>\n",
       "    <tr>\n",
       "      <th>District of Columbia</th>\n",
       "      <td>64.375000</td>\n",
       "      <td>10</td>\n",
       "    </tr>\n",
       "    <tr>\n",
       "      <th>Florida</th>\n",
       "      <td>40.090909</td>\n",
       "      <td>23</td>\n",
       "    </tr>\n",
       "    <tr>\n",
       "      <th>New Jersey</th>\n",
       "      <td>53.611111</td>\n",
       "      <td>10</td>\n",
       "    </tr>\n",
       "    <tr>\n",
       "      <th>New York</th>\n",
       "      <td>50.369565</td>\n",
       "      <td>26</td>\n",
       "    </tr>\n",
       "    <tr>\n",
       "      <th>Oregon</th>\n",
       "      <td>34.500000</td>\n",
       "      <td>15</td>\n",
       "    </tr>\n",
       "    <tr>\n",
       "      <th>Texas</th>\n",
       "      <td>36.666667</td>\n",
       "      <td>13</td>\n",
       "    </tr>\n",
       "    <tr>\n",
       "      <th>Washington</th>\n",
       "      <td>37.272727</td>\n",
       "      <td>11</td>\n",
       "    </tr>\n",
       "  </tbody>\n",
       "</table>\n",
       "</div>"
      ],
      "text/plain": [
       "                           mean  size\n",
       "state                                \n",
       "Arizona               42.285714    22\n",
       "California            48.209677   135\n",
       "Colorado              44.541667    13\n",
       "District of Columbia  64.375000    10\n",
       "Florida               40.090909    23\n",
       "New Jersey            53.611111    10\n",
       "New York              50.369565    26\n",
       "Oregon                34.500000    15\n",
       "Texas                 36.666667    13\n",
       "Washington            37.272727    11"
      ]
     },
     "execution_count": 12,
     "metadata": {},
     "output_type": "execute_result"
    }
   ],
   "source": [
    "st_avg_greater_10"
   ]
  },
  {
   "cell_type": "code",
   "execution_count": 13,
   "metadata": {},
   "outputs": [],
   "source": [
    "region_counts = df_sql['region'].value_counts().rename('region_counts')\n",
    "\n",
    "region_counts_df = df_sql.merge(region_counts.to_frame(),\n",
    "                               left_on='region',\n",
    "                               right_index=True)"
   ]
  },
  {
   "cell_type": "code",
   "execution_count": 14,
   "metadata": {},
   "outputs": [
    {
     "data": {
      "text/plain": [
       "<AxesSubplot:>"
      ]
     },
     "execution_count": 14,
     "metadata": {},
     "output_type": "execute_result"
    },
    {
     "data": {
      "image/png": "[encoded data removed]",
      "text/plain": [
       "<Figure size 432x288 with 1 Axes>"
      ]
     },
     "metadata": {
      "needs_background": "light"
     },
     "output_type": "display_data"
    }
   ],
   "source": [
    "region_counts_df[region_counts_df['region_counts']>=10]['region'].value_counts().plot(kind='bar')"
   ]
  },
  {
   "cell_type": "code",
   "execution_count": 15,
   "metadata": {},
   "outputs": [
    {
     "data": {
      "text/html": [
       "<div>\n",
       "<style scoped>\n",
       "    .dataframe tbody tr th:only-of-type {\n",
       "        vertical-align: middle;\n",
       "    }\n",
       "\n",
       "    .dataframe tbody tr th {\n",
       "        vertical-align: top;\n",
       "    }\n",
       "\n",
       "    .dataframe thead th {\n",
       "        text-align: right;\n",
       "    }\n",
       "</style>\n",
       "<table border=\"1\" class=\"dataframe\">\n",
       "  <thead>\n",
       "    <tr style=\"text-align: right;\">\n",
       "      <th></th>\n",
       "      <th>id</th>\n",
       "      <th>date_scraped</th>\n",
       "      <th>price</th>\n",
       "      <th>city</th>\n",
       "      <th>subregion</th>\n",
       "      <th>region</th>\n",
       "      <th>state</th>\n",
       "      <th>post_text</th>\n",
       "      <th>date_posted</th>\n",
       "      <th>us_region</th>\n",
       "      <th>us_division</th>\n",
       "    </tr>\n",
       "  </thead>\n",
       "  <tbody>\n",
       "    <tr>\n",
       "      <th>0</th>\n",
       "      <td>866</td>\n",
       "      <td>2022-02-03</td>\n",
       "      <td>35.0</td>\n",
       "      <td>no city found</td>\n",
       "      <td>no subregion found</td>\n",
       "      <td>orlando</td>\n",
       "      <td>Florida</td>\n",
       "      <td>\\n\\n\\n\\n\\nI tutor algebra, geometry, trigonome...</td>\n",
       "      <td>2022-01-09 15:15:33</td>\n",
       "      <td>South</td>\n",
       "      <td>South Atlantic</td>\n",
       "    </tr>\n",
       "    <tr>\n",
       "      <th>1</th>\n",
       "      <td>867</td>\n",
       "      <td>2022-02-03</td>\n",
       "      <td>40.0</td>\n",
       "      <td>Orlando And Surrounding Areas</td>\n",
       "      <td>no subregion found</td>\n",
       "      <td>orlando</td>\n",
       "      <td>Florida</td>\n",
       "      <td>\\n\\n\\n\\n\\nHello! I have a bachelors degree in ...</td>\n",
       "      <td>2022-01-06 19:13:09</td>\n",
       "      <td>South</td>\n",
       "      <td>South Atlantic</td>\n",
       "    </tr>\n",
       "    <tr>\n",
       "      <th>2</th>\n",
       "      <td>868</td>\n",
       "      <td>2022-02-03</td>\n",
       "      <td>40.0</td>\n",
       "      <td>Sarasota</td>\n",
       "      <td>no subregion found</td>\n",
       "      <td>sarasota</td>\n",
       "      <td>Florida</td>\n",
       "      <td>\"\\n\\n\\n\\n\\nAdvanced HS and College Math Tutor ...</td>\n",
       "      <td>2022-01-30 19:22:56</td>\n",
       "      <td>South</td>\n",
       "      <td>South Atlantic</td>\n",
       "    </tr>\n",
       "    <tr>\n",
       "      <th>3</th>\n",
       "      <td>869</td>\n",
       "      <td>2022-02-03</td>\n",
       "      <td>15.0</td>\n",
       "      <td>Tallahassee</td>\n",
       "      <td>no subregion found</td>\n",
       "      <td>tallahassee</td>\n",
       "      <td>Florida</td>\n",
       "      <td>\\n\\n\\n\\n\\nI have 5 years of experience tutorin...</td>\n",
       "      <td>2022-01-15 06:19:12</td>\n",
       "      <td>South</td>\n",
       "      <td>South Atlantic</td>\n",
       "    </tr>\n",
       "    <tr>\n",
       "      <th>4</th>\n",
       "      <td>912</td>\n",
       "      <td>2022-02-03</td>\n",
       "      <td>75.0</td>\n",
       "      <td>Savage</td>\n",
       "      <td>Dakota/Scott</td>\n",
       "      <td>minneapolis</td>\n",
       "      <td>Minnesota</td>\n",
       "      <td>\\n\\n\\n\\n\\nI own a test prep company, Prep 720....</td>\n",
       "      <td>2022-01-21 16:37:50</td>\n",
       "      <td>Midwest</td>\n",
       "      <td>West North Central</td>\n",
       "    </tr>\n",
       "  </tbody>\n",
       "</table>\n",
       "</div>"
      ],
      "text/plain": [
       "    id date_scraped  price                           city           subregion  \\\n",
       "0  866   2022-02-03   35.0                  no city found  no subregion found   \n",
       "1  867   2022-02-03   40.0  Orlando And Surrounding Areas  no subregion found   \n",
       "2  868   2022-02-03   40.0                       Sarasota  no subregion found   \n",
       "3  869   2022-02-03   15.0                    Tallahassee  no subregion found   \n",
       "4  912   2022-02-03   75.0                         Savage        Dakota/Scott   \n",
       "\n",
       "        region      state                                          post_text  \\\n",
       "0      orlando    Florida  \\n\\n\\n\\n\\nI tutor algebra, geometry, trigonome...   \n",
       "1      orlando    Florida  \\n\\n\\n\\n\\nHello! I have a bachelors degree in ...   \n",
       "2     sarasota    Florida  \"\\n\\n\\n\\n\\nAdvanced HS and College Math Tutor ...   \n",
       "3  tallahassee    Florida  \\n\\n\\n\\n\\nI have 5 years of experience tutorin...   \n",
       "4  minneapolis  Minnesota  \\n\\n\\n\\n\\nI own a test prep company, Prep 720....   \n",
       "\n",
       "          date_posted us_region         us_division  \n",
       "0 2022-01-09 15:15:33     South      South Atlantic  \n",
       "1 2022-01-06 19:13:09     South      South Atlantic  \n",
       "2 2022-01-30 19:22:56     South      South Atlantic  \n",
       "3 2022-01-15 06:19:12     South      South Atlantic  \n",
       "4 2022-01-21 16:37:50   Midwest  West North Central  "
      ]
     },
     "execution_count": 15,
     "metadata": {},
     "output_type": "execute_result"
    }
   ],
   "source": [
    "df_sql.head()"
   ]
  },
  {
   "cell_type": "code",
   "execution_count": 16,
   "metadata": {},
   "outputs": [],
   "source": [
    "state_list_greater_10 = st_avg_greater_10.index.to_list()\n",
    "\n",
    "def state_grouper_by_count(df, ind, col):\n",
    "    state = df[col].loc[ind]\n",
    "    if df[col].loc[ind] in state_list_greater_10:\n",
    "        return state \n",
    "    else:\n",
    "        return 'Other'\n",
    "    \n",
    "states_grpby_count = df_sql.groupby(lambda x: state_grouper_by_count(df_sql, x, 'state'))"
   ]
  },
  {
   "cell_type": "code",
   "execution_count": 17,
   "metadata": {},
   "outputs": [
    {
     "data": {
      "image/png": "[encoded data removed]",
      "text/plain": [
       "<Figure size 720x360 with 1 Axes>"
      ]
     },
     "metadata": {
      "needs_background": "light"
     },
     "output_type": "display_data"
    }
   ],
   "source": [
    "fig, ax = plt.subplots(1,1,figsize=(10,5))\n",
    "states_grpby_count['price'].agg(['mean', 'size']).sort_values(by='mean', ascending=False).plot.bar(ax=ax);"
   ]
  },
  {
   "cell_type": "code",
   "execution_count": 18,
   "metadata": {},
   "outputs": [],
   "source": [
    "states_grpby_count = df_sql.groupby(lambda x: state_grouper_by_count(df_sql, x, 'state'))"
   ]
  },
  {
   "cell_type": "code",
   "execution_count": 19,
   "metadata": {},
   "outputs": [
    {
     "data": {
      "text/html": [
       "<div>\n",
       "<style scoped>\n",
       "    .dataframe tbody tr th:only-of-type {\n",
       "        vertical-align: middle;\n",
       "    }\n",
       "\n",
       "    .dataframe tbody tr th {\n",
       "        vertical-align: top;\n",
       "    }\n",
       "\n",
       "    .dataframe thead th {\n",
       "        text-align: right;\n",
       "    }\n",
       "</style>\n",
       "<table border=\"1\" class=\"dataframe\">\n",
       "  <thead>\n",
       "    <tr style=\"text-align: right;\">\n",
       "      <th></th>\n",
       "      <th>mean</th>\n",
       "      <th>size</th>\n",
       "    </tr>\n",
       "    <tr>\n",
       "      <th>us_region</th>\n",
       "      <th></th>\n",
       "      <th></th>\n",
       "    </tr>\n",
       "  </thead>\n",
       "  <tbody>\n",
       "    <tr>\n",
       "      <th>Midwest</th>\n",
       "      <td>38.181159</td>\n",
       "      <td>24</td>\n",
       "    </tr>\n",
       "    <tr>\n",
       "      <th>Northeast</th>\n",
       "      <td>48.981481</td>\n",
       "      <td>50</td>\n",
       "    </tr>\n",
       "    <tr>\n",
       "      <th>South</th>\n",
       "      <td>40.931818</td>\n",
       "      <td>71</td>\n",
       "    </tr>\n",
       "    <tr>\n",
       "      <th>West</th>\n",
       "      <td>45.013201</td>\n",
       "      <td>217</td>\n",
       "    </tr>\n",
       "  </tbody>\n",
       "</table>\n",
       "</div>"
      ],
      "text/plain": [
       "                mean  size\n",
       "us_region                 \n",
       "Midwest    38.181159    24\n",
       "Northeast  48.981481    50\n",
       "South      40.931818    71\n",
       "West       45.013201   217"
      ]
     },
     "execution_count": 19,
     "metadata": {},
     "output_type": "execute_result"
    }
   ],
   "source": [
    "df_sql.groupby('us_region')['price'].agg(['mean', 'size'])"
   ]
  },
  {
   "cell_type": "code",
   "execution_count": 20,
   "metadata": {},
   "outputs": [
    {
     "data": {
      "text/html": [
       "<div>\n",
       "<style scoped>\n",
       "    .dataframe tbody tr th:only-of-type {\n",
       "        vertical-align: middle;\n",
       "    }\n",
       "\n",
       "    .dataframe tbody tr th {\n",
       "        vertical-align: top;\n",
       "    }\n",
       "\n",
       "    .dataframe thead th {\n",
       "        text-align: right;\n",
       "    }\n",
       "</style>\n",
       "<table border=\"1\" class=\"dataframe\">\n",
       "  <thead>\n",
       "    <tr style=\"text-align: right;\">\n",
       "      <th></th>\n",
       "      <th>mean</th>\n",
       "      <th>size</th>\n",
       "    </tr>\n",
       "    <tr>\n",
       "      <th>us_division</th>\n",
       "      <th></th>\n",
       "      <th></th>\n",
       "    </tr>\n",
       "  </thead>\n",
       "  <tbody>\n",
       "    <tr>\n",
       "      <th>East North Central</th>\n",
       "      <td>34.510417</td>\n",
       "      <td>17</td>\n",
       "    </tr>\n",
       "    <tr>\n",
       "      <th>East South Central</th>\n",
       "      <td>49.166667</td>\n",
       "      <td>3</td>\n",
       "    </tr>\n",
       "    <tr>\n",
       "      <th>Middle Atlantic</th>\n",
       "      <td>49.402778</td>\n",
       "      <td>40</td>\n",
       "    </tr>\n",
       "    <tr>\n",
       "      <th>Mountain</th>\n",
       "      <td>41.819728</td>\n",
       "      <td>52</td>\n",
       "    </tr>\n",
       "    <tr>\n",
       "      <th>New England</th>\n",
       "      <td>47.296296</td>\n",
       "      <td>10</td>\n",
       "    </tr>\n",
       "    <tr>\n",
       "      <th>Pacific</th>\n",
       "      <td>46.035948</td>\n",
       "      <td>165</td>\n",
       "    </tr>\n",
       "    <tr>\n",
       "      <th>South Atlantic</th>\n",
       "      <td>42.585106</td>\n",
       "      <td>51</td>\n",
       "    </tr>\n",
       "    <tr>\n",
       "      <th>West North Central</th>\n",
       "      <td>46.571429</td>\n",
       "      <td>7</td>\n",
       "    </tr>\n",
       "    <tr>\n",
       "      <th>West South Central</th>\n",
       "      <td>34.531250</td>\n",
       "      <td>17</td>\n",
       "    </tr>\n",
       "  </tbody>\n",
       "</table>\n",
       "</div>"
      ],
      "text/plain": [
       "                         mean  size\n",
       "us_division                        \n",
       "East North Central  34.510417    17\n",
       "East South Central  49.166667     3\n",
       "Middle Atlantic     49.402778    40\n",
       "Mountain            41.819728    52\n",
       "New England         47.296296    10\n",
       "Pacific             46.035948   165\n",
       "South Atlantic      42.585106    51\n",
       "West North Central  46.571429     7\n",
       "West South Central  34.531250    17"
      ]
     },
     "execution_count": 20,
     "metadata": {},
     "output_type": "execute_result"
    }
   ],
   "source": [
    "df_sql.groupby('us_division')['price'].agg(['mean', 'size'])"
   ]
  },
  {
   "cell_type": "code",
   "execution_count": null,
   "metadata": {},
   "outputs": [],
   "source": []
  },
  {
   "cell_type": "code",
   "execution_count": 21,
   "metadata": {},
   "outputs": [
    {
     "data": {
      "text/plain": [
       "sfbayarea     42\n",
       "losangeles    37\n",
       "orangeco      18\n",
       "newyork       18\n",
       "phoenix       17\n",
       "              ..\n",
       "ventura        1\n",
       "stockton       1\n",
       "charlotte      1\n",
       "greensboro     1\n",
       "baltimore      1\n",
       "Name: region, Length: 100, dtype: int64"
      ]
     },
     "execution_count": 21,
     "metadata": {},
     "output_type": "execute_result"
    }
   ],
   "source": [
    "df_sql['region'].value_counts()"
   ]
  },
  {
   "cell_type": "code",
   "execution_count": 22,
   "metadata": {},
   "outputs": [
    {
     "data": {
      "text/plain": [
       "no subregion found      173\n",
       "San Francisco            13\n",
       "Westside-Southbay        12\n",
       "East Bay                 12\n",
       "Central La               10\n",
       "Manhattan                 9\n",
       "South Bay                 7\n",
       "Central/South Phx         7\n",
       "East Valley               6\n",
       "City Of San Diego         6\n",
       "Northern Virginia         6\n",
       "Long Beach                5\n",
       "San Gabriel Valley        5\n",
       "Hillsborough Co           4\n",
       "Hennepin Co               4\n",
       "Queens                    4\n",
       "Peninsula                 4\n",
       "North Sd County           4\n",
       "Seattle                   4\n",
       "Sf Valley                 4\n",
       "Multnomah Co              4\n",
       "Oahu                      3\n",
       "North Bay                 3\n",
       "Santa Cruz                3\n",
       "Eastside                  3\n",
       "Broward County            3\n",
       "Phx North                 3\n",
       "Dallas                    2\n",
       "Boston/Camb/Brook         2\n",
       "Long Island               2\n",
       "City Of Chicago           2\n",
       "District Of Columbia      2\n",
       "Atlanta                   2\n",
       "Clark/Cowlitz             2\n",
       "Pinellas Co               2\n",
       "Clackamas Co              2\n",
       "Miami / Dade              2\n",
       "Maryland                  2\n",
       "Washington Co             1\n",
       "Staten Island             1\n",
       "Bronx                     1\n",
       "North Dfw                 1\n",
       "Westchester               1\n",
       "Otp North                 1\n",
       "Ramsey Co                 1\n",
       "Anok/Chis/Isa             1\n",
       "Wayne Co                  1\n",
       "Northwest/Merrimack       1\n",
       "North Shore               1\n",
       "Metro West                1\n",
       "South Chicagoland         1\n",
       "Otp South                 1\n",
       "Dakota/Scott              1\n",
       "Collier Co                1\n",
       "Antelope Valley           1\n",
       "West Valley               1\n",
       "Olympia                   1\n",
       "Name: subregion, dtype: int64"
      ]
     },
     "execution_count": 22,
     "metadata": {},
     "output_type": "execute_result"
    }
   ],
   "source": [
    "df_sql['subregion'].value_counts()"
   ]
  },
  {
   "cell_type": "code",
   "execution_count": 23,
   "metadata": {},
   "outputs": [
    {
     "data": {
      "text/plain": [
       "44.27529761904762"
      ]
     },
     "execution_count": 23,
     "metadata": {},
     "output_type": "execute_result"
    }
   ],
   "source": [
    "df_sql['price'].mean()"
   ]
  },
  {
   "cell_type": "code",
   "execution_count": 24,
   "metadata": {},
   "outputs": [
    {
     "data": {
      "text/plain": [
       "40.0"
      ]
     },
     "execution_count": 24,
     "metadata": {},
     "output_type": "execute_result"
    }
   ],
   "source": [
    "df_sql['price'].median()"
   ]
  },
  {
   "cell_type": "code",
   "execution_count": 25,
   "metadata": {},
   "outputs": [
    {
     "data": {
      "text/html": [
       "<div>\n",
       "<style scoped>\n",
       "    .dataframe tbody tr th:only-of-type {\n",
       "        vertical-align: middle;\n",
       "    }\n",
       "\n",
       "    .dataframe tbody tr th {\n",
       "        vertical-align: top;\n",
       "    }\n",
       "\n",
       "    .dataframe thead th {\n",
       "        text-align: right;\n",
       "    }\n",
       "</style>\n",
       "<table border=\"1\" class=\"dataframe\">\n",
       "  <thead>\n",
       "    <tr style=\"text-align: right;\">\n",
       "      <th></th>\n",
       "      <th>mean</th>\n",
       "      <th>count</th>\n",
       "    </tr>\n",
       "    <tr>\n",
       "      <th>region</th>\n",
       "      <th></th>\n",
       "      <th></th>\n",
       "    </tr>\n",
       "  </thead>\n",
       "  <tbody>\n",
       "    <tr>\n",
       "      <th>centralnj</th>\n",
       "      <td>90.000000</td>\n",
       "      <td>2</td>\n",
       "    </tr>\n",
       "    <tr>\n",
       "      <th>boise</th>\n",
       "      <td>70.000000</td>\n",
       "      <td>2</td>\n",
       "    </tr>\n",
       "    <tr>\n",
       "      <th>memphis</th>\n",
       "      <td>70.000000</td>\n",
       "      <td>1</td>\n",
       "    </tr>\n",
       "    <tr>\n",
       "      <th>boston</th>\n",
       "      <td>65.433333</td>\n",
       "      <td>5</td>\n",
       "    </tr>\n",
       "    <tr>\n",
       "      <th>washington,dc</th>\n",
       "      <td>64.375000</td>\n",
       "      <td>8</td>\n",
       "    </tr>\n",
       "    <tr>\n",
       "      <th>...</th>\n",
       "      <td>...</td>\n",
       "      <td>...</td>\n",
       "    </tr>\n",
       "    <tr>\n",
       "      <th>buffalo</th>\n",
       "      <td>NaN</td>\n",
       "      <td>0</td>\n",
       "    </tr>\n",
       "    <tr>\n",
       "      <th>columbus,oh</th>\n",
       "      <td>NaN</td>\n",
       "      <td>0</td>\n",
       "    </tr>\n",
       "    <tr>\n",
       "      <th>jerseyshore</th>\n",
       "      <td>NaN</td>\n",
       "      <td>0</td>\n",
       "    </tr>\n",
       "    <tr>\n",
       "      <th>saltlake</th>\n",
       "      <td>NaN</td>\n",
       "      <td>0</td>\n",
       "    </tr>\n",
       "    <tr>\n",
       "      <th>worcester</th>\n",
       "      <td>NaN</td>\n",
       "      <td>0</td>\n",
       "    </tr>\n",
       "  </tbody>\n",
       "</table>\n",
       "<p>100 rows × 2 columns</p>\n",
       "</div>"
      ],
      "text/plain": [
       "                    mean  count\n",
       "region                         \n",
       "centralnj      90.000000      2\n",
       "boise          70.000000      2\n",
       "memphis        70.000000      1\n",
       "boston         65.433333      5\n",
       "washington,dc  64.375000      8\n",
       "...                  ...    ...\n",
       "buffalo              NaN      0\n",
       "columbus,oh          NaN      0\n",
       "jerseyshore          NaN      0\n",
       "saltlake             NaN      0\n",
       "worcester            NaN      0\n",
       "\n",
       "[100 rows x 2 columns]"
      ]
     },
     "execution_count": 25,
     "metadata": {},
     "output_type": "execute_result"
    }
   ],
   "source": [
    "df_sql.groupby(by='region')['price'].agg(['mean', 'count']).sort_values(by='mean', ascending=False)"
   ]
  },
  {
   "cell_type": "code",
   "execution_count": 26,
   "metadata": {},
   "outputs": [
    {
     "data": {
      "text/plain": [
       "Series([], Name: price, dtype: float64)"
      ]
     },
     "execution_count": 26,
     "metadata": {},
     "output_type": "execute_result"
    }
   ],
   "source": [
    "df_sql[(df_sql['region']=='los_angeles') & (df_sql['price'] > 60)]['price']"
   ]
  },
  {
   "cell_type": "code",
   "execution_count": null,
   "metadata": {},
   "outputs": [],
   "source": [
    "df_sql[df_sql['region']=='los_angeles'].boxplot(column='price')\n",
    "plt.scatter(df_sql[df_sql['region']=='los_angeles']['price'])"
   ]
  },
  {
   "cell_type": "code",
   "execution_count": null,
   "metadata": {},
   "outputs": [],
   "source": [
    "sns.boxplot(x='region', y='price', data=df_sql[df_sql['region']=='los_angeles'])\n",
    "sns.swarmplot(x='region', y='price', data=df_sql[df_sql['region']=='los_angeles'], color='r');"
   ]
  },
  {
   "cell_type": "code",
   "execution_count": null,
   "metadata": {},
   "outputs": [],
   "source": []
  }
 ],
 "metadata": {
  "kernelspec": {
   "display_name": "Python 3 (ipykernel)",
   "language": "python",
   "name": "python3"
  },
  "language_info": {
   "codemirror_mode": {
    "name": "ipython",
    "version": 3
   },
   "file_extension": ".py",
   "mimetype": "text/x-python",
   "name": "python",
   "nbconvert_exporter": "python",
   "pygments_lexer": "ipython3",
   "version": "3.9.12"
  },
  "toc-autonumbering": true,
  "toc-showcode": false,
  "toc-showmarkdowntxt": false,
  "toc-showtags": false
 },
 "nbformat": 4,
 "nbformat_minor": 4
}
