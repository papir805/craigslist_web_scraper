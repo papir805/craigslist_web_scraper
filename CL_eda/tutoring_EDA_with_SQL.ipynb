{
 "cells": [
  {
   "cell_type": "code",
   "execution_count": 1,
   "metadata": {},
   "outputs": [],
   "source": [
    "import pandas as pd\n",
    "import numpy as np\n",
    "import matplotlib.pyplot as plt\n",
    "import psycopg2\n",
    "import seaborn as sns"
   ]
  },
  {
   "cell_type": "markdown",
   "metadata": {},
   "source": [
    "# Pulling data from database to check that it was stored correctly and also to start analyzing it"
   ]
  },
  {
   "cell_type": "code",
   "execution_count": 6,
   "metadata": {},
   "outputs": [],
   "source": [
    "conn = psycopg2.connect(\"host=localhost dbname=rancher\")\n",
    "df_sql = pd.read_sql_query(\"\"\"SELECT * \n",
    "                              FROM cl_tutoring2\n",
    "                              WHERE date_scraped = '2021-12-30'\"\"\", con=conn)"
   ]
  },
  {
   "cell_type": "code",
   "execution_count": 7,
   "metadata": {},
   "outputs": [
    {
     "data": {
      "text/html": [
       "<div>\n",
       "<style scoped>\n",
       "    .dataframe tbody tr th:only-of-type {\n",
       "        vertical-align: middle;\n",
       "    }\n",
       "\n",
       "    .dataframe tbody tr th {\n",
       "        vertical-align: top;\n",
       "    }\n",
       "\n",
       "    .dataframe thead th {\n",
       "        text-align: right;\n",
       "    }\n",
       "</style>\n",
       "<table border=\"1\" class=\"dataframe\">\n",
       "  <thead>\n",
       "    <tr style=\"text-align: right;\">\n",
       "      <th></th>\n",
       "      <th>id</th>\n",
       "      <th>date_scraped</th>\n",
       "      <th>price</th>\n",
       "      <th>city</th>\n",
       "      <th>subregion</th>\n",
       "      <th>region</th>\n",
       "      <th>post_text</th>\n",
       "      <th>date_posted</th>\n",
       "    </tr>\n",
       "  </thead>\n",
       "  <tbody>\n",
       "    <tr>\n",
       "      <th>427</th>\n",
       "      <td>859</td>\n",
       "      <td>2021-12-30</td>\n",
       "      <td>50.0</td>\n",
       "      <td>None</td>\n",
       "      <td>None</td>\n",
       "      <td>philadelphia</td>\n",
       "      <td>\\n\\n\\n\\n\\nTutoring rate. $50/hr, Group Rate, $...</td>\n",
       "      <td>2021-12-07 21:47:32</td>\n",
       "    </tr>\n",
       "    <tr>\n",
       "      <th>428</th>\n",
       "      <td>860</td>\n",
       "      <td>2021-12-30</td>\n",
       "      <td>90.0</td>\n",
       "      <td>Free 30-Min. Trial Lesson</td>\n",
       "      <td>Dallas</td>\n",
       "      <td>dallas</td>\n",
       "      <td>\"\\n\\n\\n\\n\\nCall or Text Ash at (917) 359-9662 ...</td>\n",
       "      <td>2021-12-13 14:34:54</td>\n",
       "    </tr>\n",
       "    <tr>\n",
       "      <th>429</th>\n",
       "      <td>861</td>\n",
       "      <td>2021-12-30</td>\n",
       "      <td>25.0</td>\n",
       "      <td>None</td>\n",
       "      <td>Dallas</td>\n",
       "      <td>dallas</td>\n",
       "      <td>\\n\\n\\n\\n\\n🖥 Learn Computer Programming! 🖥\\nWit...</td>\n",
       "      <td>2021-12-20 14:15:33</td>\n",
       "    </tr>\n",
       "    <tr>\n",
       "      <th>430</th>\n",
       "      <td>862</td>\n",
       "      <td>2021-12-30</td>\n",
       "      <td>20.0</td>\n",
       "      <td>Worldwideweb</td>\n",
       "      <td>Dallas</td>\n",
       "      <td>dallas</td>\n",
       "      <td>\\n\\n\\n\\n\\nYes, you read right! I--Mr. C--am of...</td>\n",
       "      <td>2021-12-04 17:30:46</td>\n",
       "    </tr>\n",
       "    <tr>\n",
       "      <th>431</th>\n",
       "      <td>863</td>\n",
       "      <td>2021-12-30</td>\n",
       "      <td>22.5</td>\n",
       "      <td>San Antonio</td>\n",
       "      <td>None</td>\n",
       "      <td>san_antonio</td>\n",
       "      <td>\"\\n\\n\\n\\n\\nAs a former student, I always looke...</td>\n",
       "      <td>2021-12-06 15:31:29</td>\n",
       "    </tr>\n",
       "  </tbody>\n",
       "</table>\n",
       "</div>"
      ],
      "text/plain": [
       "      id date_scraped  price                       city subregion  \\\n",
       "427  859   2021-12-30   50.0                       None      None   \n",
       "428  860   2021-12-30   90.0  Free 30-Min. Trial Lesson    Dallas   \n",
       "429  861   2021-12-30   25.0                       None    Dallas   \n",
       "430  862   2021-12-30   20.0               Worldwideweb    Dallas   \n",
       "431  863   2021-12-30   22.5                San Antonio      None   \n",
       "\n",
       "           region                                          post_text  \\\n",
       "427  philadelphia  \\n\\n\\n\\n\\nTutoring rate. $50/hr, Group Rate, $...   \n",
       "428        dallas  \"\\n\\n\\n\\n\\nCall or Text Ash at (917) 359-9662 ...   \n",
       "429        dallas  \\n\\n\\n\\n\\n🖥 Learn Computer Programming! 🖥\\nWit...   \n",
       "430        dallas  \\n\\n\\n\\n\\nYes, you read right! I--Mr. C--am of...   \n",
       "431   san_antonio  \"\\n\\n\\n\\n\\nAs a former student, I always looke...   \n",
       "\n",
       "            date_posted  \n",
       "427 2021-12-07 21:47:32  \n",
       "428 2021-12-13 14:34:54  \n",
       "429 2021-12-20 14:15:33  \n",
       "430 2021-12-04 17:30:46  \n",
       "431 2021-12-06 15:31:29  "
      ]
     },
     "execution_count": 7,
     "metadata": {},
     "output_type": "execute_result"
    }
   ],
   "source": [
    "df_sql.tail()"
   ]
  },
  {
   "cell_type": "code",
   "execution_count": 4,
   "metadata": {},
   "outputs": [
    {
     "data": {
      "text/plain": [
       "sf_bay_area     152\n",
       "los_angeles     137\n",
       "new_york         98\n",
       "san_diego        62\n",
       "sacramento       60\n",
       "chicago          49\n",
       "phoenix          36\n",
       "dallas           26\n",
       "houston          22\n",
       "philadelphia     15\n",
       "san_antonio      12\n",
       "Name: region, dtype: int64"
      ]
     },
     "execution_count": 4,
     "metadata": {},
     "output_type": "execute_result"
    }
   ],
   "source": [
    "df_sql['region'].value_counts()"
   ]
  },
  {
   "cell_type": "code",
   "execution_count": 5,
   "metadata": {},
   "outputs": [
    {
     "data": {
      "text/plain": [
       "None                  90\n",
       "Manhattan             64\n",
       "San Francisco         54\n",
       "Sf Valley             46\n",
       "South Bay             45\n",
       "City Of Chicago       41\n",
       "City Of San Diego     35\n",
       "East Bay              33\n",
       "Central La            32\n",
       "Westside-Southbay     30\n",
       "Peninsula             28\n",
       "North Sd County       27\n",
       "Dallas                22\n",
       "Queens                18\n",
       "East Valley           17\n",
       "Long Beach            16\n",
       "San Gabriel Valley    13\n",
       "North Bay             10\n",
       "Central/South Phx     10\n",
       "Phx North              9\n",
       "North Chicagoland      8\n",
       "Brooklyn               8\n",
       "Fairfield              5\n",
       "Fort Worth             2\n",
       "New Jersey             2\n",
       "Westchester            1\n",
       "Santa Cruz             1\n",
       "North Dfw              1\n",
       "South Dfw              1\n",
       "Name: subregion, dtype: int64"
      ]
     },
     "execution_count": 5,
     "metadata": {},
     "output_type": "execute_result"
    }
   ],
   "source": [
    "df_sql['subregion'].value_counts()"
   ]
  },
  {
   "cell_type": "code",
   "execution_count": 6,
   "metadata": {},
   "outputs": [
    {
     "data": {
      "text/plain": [
       "47.06477329347285"
      ]
     },
     "execution_count": 6,
     "metadata": {},
     "output_type": "execute_result"
    }
   ],
   "source": [
    "df_sql['price'].mean()"
   ]
  },
  {
   "cell_type": "code",
   "execution_count": 7,
   "metadata": {},
   "outputs": [
    {
     "data": {
      "text/plain": [
       "45.0"
      ]
     },
     "execution_count": 7,
     "metadata": {},
     "output_type": "execute_result"
    }
   ],
   "source": [
    "df_sql['price'].median()"
   ]
  },
  {
   "cell_type": "code",
   "execution_count": 8,
   "metadata": {},
   "outputs": [
    {
     "data": {
      "text/html": [
       "<div>\n",
       "<style scoped>\n",
       "    .dataframe tbody tr th:only-of-type {\n",
       "        vertical-align: middle;\n",
       "    }\n",
       "\n",
       "    .dataframe tbody tr th {\n",
       "        vertical-align: top;\n",
       "    }\n",
       "\n",
       "    .dataframe thead th {\n",
       "        text-align: right;\n",
       "    }\n",
       "</style>\n",
       "<table border=\"1\" class=\"dataframe\">\n",
       "  <thead>\n",
       "    <tr style=\"text-align: right;\">\n",
       "      <th></th>\n",
       "      <th>mean</th>\n",
       "      <th>count</th>\n",
       "    </tr>\n",
       "    <tr>\n",
       "      <th>region</th>\n",
       "      <th></th>\n",
       "      <th></th>\n",
       "    </tr>\n",
       "  </thead>\n",
       "  <tbody>\n",
       "    <tr>\n",
       "      <th>chicago</th>\n",
       "      <td>53.438776</td>\n",
       "      <td>49</td>\n",
       "    </tr>\n",
       "    <tr>\n",
       "      <th>houston</th>\n",
       "      <td>51.295455</td>\n",
       "      <td>22</td>\n",
       "    </tr>\n",
       "    <tr>\n",
       "      <th>new_york</th>\n",
       "      <td>50.574830</td>\n",
       "      <td>98</td>\n",
       "    </tr>\n",
       "    <tr>\n",
       "      <th>los_angeles</th>\n",
       "      <td>49.083942</td>\n",
       "      <td>137</td>\n",
       "    </tr>\n",
       "    <tr>\n",
       "      <th>sf_bay_area</th>\n",
       "      <td>45.827851</td>\n",
       "      <td>152</td>\n",
       "    </tr>\n",
       "    <tr>\n",
       "      <th>dallas</th>\n",
       "      <td>45.557692</td>\n",
       "      <td>26</td>\n",
       "    </tr>\n",
       "    <tr>\n",
       "      <th>sacramento</th>\n",
       "      <td>45.277778</td>\n",
       "      <td>60</td>\n",
       "    </tr>\n",
       "    <tr>\n",
       "      <th>san_diego</th>\n",
       "      <td>44.024194</td>\n",
       "      <td>62</td>\n",
       "    </tr>\n",
       "    <tr>\n",
       "      <th>philadelphia</th>\n",
       "      <td>43.133333</td>\n",
       "      <td>15</td>\n",
       "    </tr>\n",
       "    <tr>\n",
       "      <th>phoenix</th>\n",
       "      <td>41.166667</td>\n",
       "      <td>36</td>\n",
       "    </tr>\n",
       "    <tr>\n",
       "      <th>san_antonio</th>\n",
       "      <td>27.750000</td>\n",
       "      <td>12</td>\n",
       "    </tr>\n",
       "  </tbody>\n",
       "</table>\n",
       "</div>"
      ],
      "text/plain": [
       "                   mean  count\n",
       "region                        \n",
       "chicago       53.438776     49\n",
       "houston       51.295455     22\n",
       "new_york      50.574830     98\n",
       "los_angeles   49.083942    137\n",
       "sf_bay_area   45.827851    152\n",
       "dallas        45.557692     26\n",
       "sacramento    45.277778     60\n",
       "san_diego     44.024194     62\n",
       "philadelphia  43.133333     15\n",
       "phoenix       41.166667     36\n",
       "san_antonio   27.750000     12"
      ]
     },
     "execution_count": 8,
     "metadata": {},
     "output_type": "execute_result"
    }
   ],
   "source": [
    "df_sql.groupby(by='region')['price'].agg(['mean', 'count']).sort_values(by='mean', ascending=False)"
   ]
  },
  {
   "cell_type": "code",
   "execution_count": 9,
   "metadata": {},
   "outputs": [
    {
     "data": {
      "text/plain": [
       "60      65.0\n",
       "75      70.0\n",
       "76     120.0\n",
       "77     100.0\n",
       "78      80.0\n",
       "87      70.0\n",
       "90      70.0\n",
       "93      70.0\n",
       "273     65.0\n",
       "284     70.0\n",
       "285    120.0\n",
       "286    100.0\n",
       "291     70.0\n",
       "292     80.0\n",
       "298     70.0\n",
       "398     65.0\n",
       "406     70.0\n",
       "407    120.0\n",
       "412     70.0\n",
       "414     80.0\n",
       "416     70.0\n",
       "507     65.0\n",
       "514     70.0\n",
       "515    120.0\n",
       "518     70.0\n",
       "522     80.0\n",
       "524     70.0\n",
       "614     65.0\n",
       "623     70.0\n",
       "624    120.0\n",
       "627     70.0\n",
       "629     80.0\n",
       "632     70.0\n",
       "Name: price, dtype: float64"
      ]
     },
     "execution_count": 9,
     "metadata": {},
     "output_type": "execute_result"
    }
   ],
   "source": [
    "df_sql[(df_sql['region']=='los_angeles') & (df_sql['price'] > 60)]['price']"
   ]
  },
  {
   "cell_type": "code",
   "execution_count": 10,
   "metadata": {},
   "outputs": [
    {
     "ename": "TypeError",
     "evalue": "scatter() missing 1 required positional argument: 'y'",
     "output_type": "error",
     "traceback": [
      "\u001b[0;31m---------------------------------------------------------------------------\u001b[0m",
      "\u001b[0;31mTypeError\u001b[0m                                 Traceback (most recent call last)",
      "\u001b[0;32m<ipython-input-10-15a48d46e088>\u001b[0m in \u001b[0;36m<module>\u001b[0;34m\u001b[0m\n\u001b[1;32m      1\u001b[0m \u001b[0mdf_sql\u001b[0m\u001b[0;34m[\u001b[0m\u001b[0mdf_sql\u001b[0m\u001b[0;34m[\u001b[0m\u001b[0;34m'region'\u001b[0m\u001b[0;34m]\u001b[0m\u001b[0;34m==\u001b[0m\u001b[0;34m'los_angeles'\u001b[0m\u001b[0;34m]\u001b[0m\u001b[0;34m.\u001b[0m\u001b[0mboxplot\u001b[0m\u001b[0;34m(\u001b[0m\u001b[0mcolumn\u001b[0m\u001b[0;34m=\u001b[0m\u001b[0;34m'price'\u001b[0m\u001b[0;34m)\u001b[0m\u001b[0;34m\u001b[0m\u001b[0;34m\u001b[0m\u001b[0m\n\u001b[0;32m----> 2\u001b[0;31m \u001b[0mplt\u001b[0m\u001b[0;34m.\u001b[0m\u001b[0mscatter\u001b[0m\u001b[0;34m(\u001b[0m\u001b[0mdf_sql\u001b[0m\u001b[0;34m[\u001b[0m\u001b[0mdf_sql\u001b[0m\u001b[0;34m[\u001b[0m\u001b[0;34m'region'\u001b[0m\u001b[0;34m]\u001b[0m\u001b[0;34m==\u001b[0m\u001b[0;34m'los_angeles'\u001b[0m\u001b[0;34m]\u001b[0m\u001b[0;34m[\u001b[0m\u001b[0;34m'price'\u001b[0m\u001b[0;34m]\u001b[0m\u001b[0;34m)\u001b[0m\u001b[0;34m\u001b[0m\u001b[0;34m\u001b[0m\u001b[0m\n\u001b[0m",
      "\u001b[0;31mTypeError\u001b[0m: scatter() missing 1 required positional argument: 'y'"
     ]
    },
    {
     "data": {
      "image/png": "[encoded data removed]",
      "text/plain": [
       "<Figure size 432x288 with 1 Axes>"
      ]
     },
     "metadata": {
      "needs_background": "light"
     },
     "output_type": "display_data"
    }
   ],
   "source": [
    "df_sql[df_sql['region']=='los_angeles'].boxplot(column='price')\n",
    "plt.scatter(df_sql[df_sql['region']=='los_angeles']['price'])"
   ]
  },
  {
   "cell_type": "code",
   "execution_count": null,
   "metadata": {},
   "outputs": [],
   "source": [
    "sns.boxplot(x='region', y='price', data=df_sql[df_sql['region']=='los_angeles'])\n",
    "sns.swarmplot(x='region', y='price', data=df_sql[df_sql['region']=='los_angeles'], color='r');"
   ]
  },
  {
   "cell_type": "code",
   "execution_count": null,
   "metadata": {},
   "outputs": [],
   "source": []
  }
 ],
 "metadata": {
  "kernelspec": {
   "display_name": "Python 3 (ipykernel)",
   "language": "python",
   "name": "python3"
  },
  "language_info": {
   "codemirror_mode": {
    "name": "ipython",
    "version": 3
   },
   "file_extension": ".py",
   "mimetype": "text/x-python",
   "name": "python",
   "nbconvert_exporter": "python",
   "pygments_lexer": "ipython3",
   "version": "3.9.9"
  },
  "toc-autonumbering": true,
  "toc-showcode": false,
  "toc-showmarkdowntxt": false,
  "toc-showtags": false
 },
 "nbformat": 4,
 "nbformat_minor": 4
}
