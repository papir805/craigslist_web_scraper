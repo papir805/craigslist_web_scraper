{
 "cells": [
  {
   "cell_type": "code",
   "execution_count": 50,
   "metadata": {},
   "outputs": [],
   "source": [
    "import pandas as pd\n",
    "import numpy as np\n",
    "import matplotlib.pyplot as plt\n",
    "import glob\n",
    "import seaborn as sns"
   ]
  },
  {
   "cell_type": "code",
   "execution_count": 21,
   "metadata": {},
   "outputs": [
    {
     "name": "stdout",
     "output_type": "stream",
     "text": [
      "['./2021-12-24_dallas_with_prices.csv', './2021-12-24_san_antonio_with_prices.csv', './2021-12-24_philadelphia_with_prices.csv', './2021-12-24_phoenix_with_prices.csv', './2021-12-24_houston_with_prices.csv', './2021-12-24_san_diego_with_prices.csv', './2021-12-23_chicago_with_prices.csv', './2021-12-23_sacramento_with_prices.csv', './2021-12-23_los_angeles_with_prices.csv', './2021-12-23_new_york_with_prices.csv', './2021-12-22_with_prices.csv']\n"
     ]
    }
   ],
   "source": [
    "print(glob.glob(\"./*_with_prices.csv\"))"
   ]
  },
  {
   "cell_type": "code",
   "execution_count": 22,
   "metadata": {},
   "outputs": [],
   "source": [
    "csv_list = glob.glob(\"./*_with_prices.csv\")"
   ]
  },
  {
   "cell_type": "code",
   "execution_count": 23,
   "metadata": {},
   "outputs": [],
   "source": [
    "df = pd.concat((pd.read_csv(f, sep=';') for f in csv_list))"
   ]
  },
  {
   "cell_type": "code",
   "execution_count": 24,
   "metadata": {},
   "outputs": [
    {
     "data": {
      "text/html": [
       "<div>\n",
       "<style scoped>\n",
       "    .dataframe tbody tr th:only-of-type {\n",
       "        vertical-align: middle;\n",
       "    }\n",
       "\n",
       "    .dataframe tbody tr th {\n",
       "        vertical-align: top;\n",
       "    }\n",
       "\n",
       "    .dataframe thead th {\n",
       "        text-align: right;\n",
       "    }\n",
       "</style>\n",
       "<table border=\"1\" class=\"dataframe\">\n",
       "  <thead>\n",
       "    <tr style=\"text-align: right;\">\n",
       "      <th></th>\n",
       "      <th>date_posted</th>\n",
       "      <th>price</th>\n",
       "      <th>city</th>\n",
       "      <th>subregion</th>\n",
       "      <th>region</th>\n",
       "      <th>post_text</th>\n",
       "      <th>posts_scraped_on</th>\n",
       "    </tr>\n",
       "  </thead>\n",
       "  <tbody>\n",
       "    <tr>\n",
       "      <td>0</td>\n",
       "      <td>2021-12-14T15:24:33-0600</td>\n",
       "      <td>30.0</td>\n",
       "      <td>None</td>\n",
       "      <td>North Dfw</td>\n",
       "      <td>dallas</td>\n",
       "      <td>Feel free to text me at 909-640-3570Hi, I was ...</td>\n",
       "      <td>2021-12-24</td>\n",
       "    </tr>\n",
       "    <tr>\n",
       "      <td>1</td>\n",
       "      <td>2021-12-13T14:34:54-0600</td>\n",
       "      <td>90.0</td>\n",
       "      <td>Free 30-Min. Trial Lesson</td>\n",
       "      <td>Dallas</td>\n",
       "      <td>dallas</td>\n",
       "      <td>Call or Text Ash at (917) 359-9662 to schedule...</td>\n",
       "      <td>2021-12-24</td>\n",
       "    </tr>\n",
       "    <tr>\n",
       "      <td>2</td>\n",
       "      <td>2021-12-04T10:46:00-0600</td>\n",
       "      <td>40.0</td>\n",
       "      <td>Online</td>\n",
       "      <td>Dallas</td>\n",
       "      <td>dallas</td>\n",
       "      <td>★★ College Math Tutor★ Calculus I ,II &amp; III, A...</td>\n",
       "      <td>2021-12-24</td>\n",
       "    </tr>\n",
       "    <tr>\n",
       "      <td>3</td>\n",
       "      <td>2021-12-02T09:13:37-0600</td>\n",
       "      <td>57.0</td>\n",
       "      <td>Dallas</td>\n",
       "      <td>Dallas</td>\n",
       "      <td>dallas</td>\n",
       "      <td>BlakeTutoring.comOVER 450 5-star reviews on Wy...</td>\n",
       "      <td>2021-12-24</td>\n",
       "    </tr>\n",
       "    <tr>\n",
       "      <td>4</td>\n",
       "      <td>2021-11-29T23:17:52-0600</td>\n",
       "      <td>60.0</td>\n",
       "      <td>None</td>\n",
       "      <td>Fort Worth</td>\n",
       "      <td>dallas</td>\n",
       "      <td>Have you ever gone into a math or science test...</td>\n",
       "      <td>2021-12-24</td>\n",
       "    </tr>\n",
       "  </tbody>\n",
       "</table>\n",
       "</div>"
      ],
      "text/plain": [
       "                date_posted  price                       city   subregion  \\\n",
       "0  2021-12-14T15:24:33-0600   30.0                       None   North Dfw   \n",
       "1  2021-12-13T14:34:54-0600   90.0  Free 30-Min. Trial Lesson      Dallas   \n",
       "2  2021-12-04T10:46:00-0600   40.0                     Online      Dallas   \n",
       "3  2021-12-02T09:13:37-0600   57.0                     Dallas      Dallas   \n",
       "4  2021-11-29T23:17:52-0600   60.0                       None  Fort Worth   \n",
       "\n",
       "   region                                          post_text posts_scraped_on  \n",
       "0  dallas  Feel free to text me at 909-640-3570Hi, I was ...       2021-12-24  \n",
       "1  dallas  Call or Text Ash at (917) 359-9662 to schedule...       2021-12-24  \n",
       "2  dallas  ★★ College Math Tutor★ Calculus I ,II & III, A...       2021-12-24  \n",
       "3  dallas  BlakeTutoring.comOVER 450 5-star reviews on Wy...       2021-12-24  \n",
       "4  dallas  Have you ever gone into a math or science test...       2021-12-24  "
      ]
     },
     "execution_count": 24,
     "metadata": {},
     "output_type": "execute_result"
    }
   ],
   "source": [
    "df.head()"
   ]
  },
  {
   "cell_type": "code",
   "execution_count": 25,
   "metadata": {},
   "outputs": [
    {
     "data": {
      "text/plain": [
       "los_angeles     38\n",
       "sacramento      31\n",
       "sf_bay_area     30\n",
       "new_york        23\n",
       "san_diego       21\n",
       "chicago         15\n",
       "phoenix         12\n",
       "dallas          12\n",
       "houston         11\n",
       "philadelphia     6\n",
       "san_antonio      4\n",
       "Name: region, dtype: int64"
      ]
     },
     "execution_count": 25,
     "metadata": {},
     "output_type": "execute_result"
    }
   ],
   "source": [
    "df['region'].value_counts()"
   ]
  },
  {
   "cell_type": "code",
   "execution_count": 26,
   "metadata": {},
   "outputs": [
    {
     "data": {
      "text/plain": [
       "45.64039408866995"
      ]
     },
     "execution_count": 26,
     "metadata": {},
     "output_type": "execute_result"
    }
   ],
   "source": [
    "df['price'].mean()"
   ]
  },
  {
   "cell_type": "code",
   "execution_count": 42,
   "metadata": {},
   "outputs": [
    {
     "data": {
      "text/html": [
       "<div>\n",
       "<style scoped>\n",
       "    .dataframe tbody tr th:only-of-type {\n",
       "        vertical-align: middle;\n",
       "    }\n",
       "\n",
       "    .dataframe tbody tr th {\n",
       "        vertical-align: top;\n",
       "    }\n",
       "\n",
       "    .dataframe thead th {\n",
       "        text-align: right;\n",
       "    }\n",
       "</style>\n",
       "<table border=\"1\" class=\"dataframe\">\n",
       "  <thead>\n",
       "    <tr style=\"text-align: right;\">\n",
       "      <th></th>\n",
       "      <th>mean</th>\n",
       "      <th>count</th>\n",
       "    </tr>\n",
       "    <tr>\n",
       "      <th>region</th>\n",
       "      <th></th>\n",
       "      <th></th>\n",
       "    </tr>\n",
       "  </thead>\n",
       "  <tbody>\n",
       "    <tr>\n",
       "      <td>new_york</td>\n",
       "      <td>50.898551</td>\n",
       "      <td>23</td>\n",
       "    </tr>\n",
       "    <tr>\n",
       "      <td>chicago</td>\n",
       "      <td>50.600000</td>\n",
       "      <td>15</td>\n",
       "    </tr>\n",
       "    <tr>\n",
       "      <td>houston</td>\n",
       "      <td>48.954545</td>\n",
       "      <td>11</td>\n",
       "    </tr>\n",
       "    <tr>\n",
       "      <td>dallas</td>\n",
       "      <td>46.625000</td>\n",
       "      <td>12</td>\n",
       "    </tr>\n",
       "    <tr>\n",
       "      <td>sf_bay_area</td>\n",
       "      <td>45.138889</td>\n",
       "      <td>30</td>\n",
       "    </tr>\n",
       "    <tr>\n",
       "      <td>los_angeles</td>\n",
       "      <td>45.118421</td>\n",
       "      <td>38</td>\n",
       "    </tr>\n",
       "    <tr>\n",
       "      <td>sacramento</td>\n",
       "      <td>44.569892</td>\n",
       "      <td>31</td>\n",
       "    </tr>\n",
       "    <tr>\n",
       "      <td>san_diego</td>\n",
       "      <td>44.500000</td>\n",
       "      <td>21</td>\n",
       "    </tr>\n",
       "    <tr>\n",
       "      <td>philadelphia</td>\n",
       "      <td>41.500000</td>\n",
       "      <td>6</td>\n",
       "    </tr>\n",
       "    <tr>\n",
       "      <td>phoenix</td>\n",
       "      <td>40.166667</td>\n",
       "      <td>12</td>\n",
       "    </tr>\n",
       "    <tr>\n",
       "      <td>san_antonio</td>\n",
       "      <td>30.375000</td>\n",
       "      <td>4</td>\n",
       "    </tr>\n",
       "  </tbody>\n",
       "</table>\n",
       "</div>"
      ],
      "text/plain": [
       "                   mean  count\n",
       "region                        \n",
       "new_york      50.898551     23\n",
       "chicago       50.600000     15\n",
       "houston       48.954545     11\n",
       "dallas        46.625000     12\n",
       "sf_bay_area   45.138889     30\n",
       "los_angeles   45.118421     38\n",
       "sacramento    44.569892     31\n",
       "san_diego     44.500000     21\n",
       "philadelphia  41.500000      6\n",
       "phoenix       40.166667     12\n",
       "san_antonio   30.375000      4"
      ]
     },
     "execution_count": 42,
     "metadata": {},
     "output_type": "execute_result"
    }
   ],
   "source": [
    "df.groupby(by='region')['price'].agg(['mean', 'count']).sort_values(by='mean', ascending=False)"
   ]
  },
  {
   "cell_type": "code",
   "execution_count": 48,
   "metadata": {},
   "outputs": [
    {
     "data": {
      "text/plain": [
       "7      65.0\n",
       "21     70.0\n",
       "22    120.0\n",
       "23    100.0\n",
       "24     80.0\n",
       "30     70.0\n",
       "33     70.0\n",
       "36     70.0\n",
       "Name: price, dtype: float64"
      ]
     },
     "execution_count": 48,
     "metadata": {},
     "output_type": "execute_result"
    }
   ],
   "source": [
    "df[(df['region']=='los_angeles') & (df['price'] > 60)]['price']"
   ]
  },
  {
   "cell_type": "code",
   "execution_count": 49,
   "metadata": {},
   "outputs": [
    {
     "ename": "TypeError",
     "evalue": "scatter() missing 1 required positional argument: 'y'",
     "output_type": "error",
     "traceback": [
      "\u001b[0;31m---------------------------------------------------------------------------\u001b[0m",
      "\u001b[0;31mTypeError\u001b[0m                                 Traceback (most recent call last)",
      "\u001b[0;32m<ipython-input-49-3ab7e85aee06>\u001b[0m in \u001b[0;36m<module>\u001b[0;34m\u001b[0m\n\u001b[1;32m      1\u001b[0m \u001b[0mdf\u001b[0m\u001b[0;34m[\u001b[0m\u001b[0mdf\u001b[0m\u001b[0;34m[\u001b[0m\u001b[0;34m'region'\u001b[0m\u001b[0;34m]\u001b[0m\u001b[0;34m==\u001b[0m\u001b[0;34m'los_angeles'\u001b[0m\u001b[0;34m]\u001b[0m\u001b[0;34m.\u001b[0m\u001b[0mboxplot\u001b[0m\u001b[0;34m(\u001b[0m\u001b[0mcolumn\u001b[0m\u001b[0;34m=\u001b[0m\u001b[0;34m'price'\u001b[0m\u001b[0;34m)\u001b[0m\u001b[0;34m\u001b[0m\u001b[0;34m\u001b[0m\u001b[0m\n\u001b[0;32m----> 2\u001b[0;31m \u001b[0mplt\u001b[0m\u001b[0;34m.\u001b[0m\u001b[0mscatter\u001b[0m\u001b[0;34m(\u001b[0m\u001b[0mdf\u001b[0m\u001b[0;34m[\u001b[0m\u001b[0mdf\u001b[0m\u001b[0;34m[\u001b[0m\u001b[0;34m'region'\u001b[0m\u001b[0;34m]\u001b[0m\u001b[0;34m==\u001b[0m\u001b[0;34m'los_angeles'\u001b[0m\u001b[0;34m]\u001b[0m\u001b[0;34m[\u001b[0m\u001b[0;34m'price'\u001b[0m\u001b[0;34m]\u001b[0m\u001b[0;34m)\u001b[0m\u001b[0;34m\u001b[0m\u001b[0;34m\u001b[0m\u001b[0m\n\u001b[0m",
      "\u001b[0;31mTypeError\u001b[0m: scatter() missing 1 required positional argument: 'y'"
     ]
    },
    {
     "data": {
      "image/png": "[encoded data removed]",
      "text/plain": [
       "<Figure size 432x288 with 1 Axes>"
      ]
     },
     "metadata": {
      "needs_background": "light"
     },
     "output_type": "display_data"
    }
   ],
   "source": [
    "df[df['region']=='los_angeles'].boxplot(column='price')\n",
    "plt.scatter(df[df['region']=='los_angeles']['price'])"
   ]
  },
  {
   "cell_type": "code",
   "execution_count": 56,
   "metadata": {},
   "outputs": [
    {
     "data": {
      "text/plain": [
       "<matplotlib.axes._subplots.AxesSubplot at 0x7fe836773b50>"
      ]
     },
     "execution_count": 56,
     "metadata": {},
     "output_type": "execute_result"
    },
    {
     "data": {
      "image/png": "[encoded data removed]",
      "text/plain": [
       "<Figure size 432x288 with 1 Axes>"
      ]
     },
     "metadata": {
      "needs_background": "light"
     },
     "output_type": "display_data"
    }
   ],
   "source": [
    "sns.boxplot(x='region', y='price', data=df[df['region']=='los_angeles'])\n",
    "sns.swarmplot(x='region', y='price', data=df[df['region']=='los_angeles'], color='r');"
   ]
  },
  {
   "cell_type": "code",
   "execution_count": null,
   "metadata": {},
   "outputs": [],
   "source": []
  }
 ],
 "metadata": {
  "kernelspec": {
   "display_name": "Python 3",
   "language": "python",
   "name": "python3"
  },
  "language_info": {
   "codemirror_mode": {
    "name": "ipython",
    "version": 3
   },
   "file_extension": ".py",
   "mimetype": "text/x-python",
   "name": "python",
   "nbconvert_exporter": "python",
   "pygments_lexer": "ipython3",
   "version": "3.7.4"
  }
 },
 "nbformat": 4,
 "nbformat_minor": 4
}
