{
 "cells": [
  {
   "cell_type": "code",
   "execution_count": 20,
   "id": "341cfe7b-7e6c-405a-9104-50cadf99250b",
   "metadata": {},
   "outputs": [],
   "source": [
    "import pandas as pd\n",
    "import numpy as np"
   ]
  },
  {
   "cell_type": "code",
   "execution_count": 21,
   "id": "d554d3c5-74bb-4a92-9e0a-be8bbf083ad6",
   "metadata": {},
   "outputs": [],
   "source": [
    "from sklearn.feature_extraction.text import TfidfVectorizer"
   ]
  },
  {
   "cell_type": "code",
   "execution_count": 199,
   "id": "9f6d1837-00c7-4de9-822f-f816330e6f4b",
   "metadata": {},
   "outputs": [],
   "source": [
    "# test_df = pd.DataFrame([[90, [1,2,3], 'This is my text'],\n",
    "#               [80, [4, 5],  'I have too many goddamn cellphone'],\n",
    "#               [70, []    ,  'I have too many goddamn cellphones'],\n",
    "#               [60, []    ,  'You have got to be kidding me'],\n",
    "#               [70, [1,1,1], \"I'm not sure what you mean\"],\n",
    "#               [10, [],      \"I'm sure what you mean\"],\n",
    "#               [0,  [1, 9],  \"I'm really not sure what you mean\"],\n",
    "#               [0,  [2, 3],  \"My name is Jonathan Papir\"],\n",
    "#               [2,  [],      \"Purple sharks are great\"]],\n",
    "#             columns=['price', 'price_list', 'post_text'])\n",
    "# test_df"
   ]
  },
  {
   "cell_type": "code",
   "execution_count": 200,
   "id": "6b32f78a-5f4a-407a-9857-93e8c1749dac",
   "metadata": {},
   "outputs": [
    {
     "data": {
      "text/html": [
       "<div>\n",
       "<style scoped>\n",
       "    .dataframe tbody tr th:only-of-type {\n",
       "        vertical-align: middle;\n",
       "    }\n",
       "\n",
       "    .dataframe tbody tr th {\n",
       "        vertical-align: top;\n",
       "    }\n",
       "\n",
       "    .dataframe thead th {\n",
       "        text-align: right;\n",
       "    }\n",
       "</style>\n",
       "<table border=\"1\" class=\"dataframe\">\n",
       "  <thead>\n",
       "    <tr style=\"text-align: right;\">\n",
       "      <th></th>\n",
       "      <th>price</th>\n",
       "      <th>price_list</th>\n",
       "      <th>post_text</th>\n",
       "    </tr>\n",
       "  </thead>\n",
       "  <tbody>\n",
       "    <tr>\n",
       "      <th>0</th>\n",
       "      <td>80</td>\n",
       "      <td>[4, 5]</td>\n",
       "      <td>I have too many goddamn cellphone</td>\n",
       "    </tr>\n",
       "    <tr>\n",
       "      <th>1</th>\n",
       "      <td>70</td>\n",
       "      <td>[]</td>\n",
       "      <td>I have too many goddamn cellphones</td>\n",
       "    </tr>\n",
       "    <tr>\n",
       "      <th>2</th>\n",
       "      <td>70</td>\n",
       "      <td>[1, 1, 1]</td>\n",
       "      <td>I'm not sure what you mean</td>\n",
       "    </tr>\n",
       "    <tr>\n",
       "      <th>3</th>\n",
       "      <td>10</td>\n",
       "      <td>[]</td>\n",
       "      <td>I'm sure what you mean</td>\n",
       "    </tr>\n",
       "    <tr>\n",
       "      <th>4</th>\n",
       "      <td>0</td>\n",
       "      <td>[1, 9]</td>\n",
       "      <td>I'm really not sure what you mean</td>\n",
       "    </tr>\n",
       "  </tbody>\n",
       "</table>\n",
       "</div>"
      ],
      "text/plain": [
       "   price price_list                           post_text\n",
       "0     80     [4, 5]   I have too many goddamn cellphone\n",
       "1     70         []  I have too many goddamn cellphones\n",
       "2     70  [1, 1, 1]          I'm not sure what you mean\n",
       "3     10         []              I'm sure what you mean\n",
       "4      0     [1, 9]   I'm really not sure what you mean"
      ]
     },
     "execution_count": 200,
     "metadata": {},
     "output_type": "execute_result"
    }
   ],
   "source": [
    "test_df = pd.DataFrame([[80, [4, 5],  'I have too many goddamn cellphone'],\n",
    "              [70, []    ,  'I have too many goddamn cellphones'],\n",
    "              [70, [1,1,1], \"I'm not sure what you mean\"],\n",
    "              [10, [],      \"I'm sure what you mean\"],\n",
    "              [0,  [1, 9],  \"I'm really not sure what you mean\"]],\n",
    "            columns=['price', 'price_list', 'post_text'])\n",
    "test_df"
   ]
  },
  {
   "cell_type": "code",
   "execution_count": null,
   "id": "9a86f551-74c2-4f72-a555-deccd3c9bfa3",
   "metadata": {},
   "outputs": [],
   "source": []
  },
  {
   "cell_type": "code",
   "execution_count": 201,
   "id": "96b31ab5-1163-4dbc-85fa-21bf13f1952f",
   "metadata": {},
   "outputs": [],
   "source": [
    "text_for_comparison_all = test_df['post_text']\n",
    "vect = TfidfVectorizer(min_df=1, stop_words='english')\n",
    "tfidf_all = vect.fit_transform(text_for_comparison_all)\n",
    "pairwise_similarity_all = tfidf_all * tfidf_all.T"
   ]
  },
  {
   "cell_type": "code",
   "execution_count": 202,
   "id": "ca99dee4-b3ff-4957-9d2e-163a2bc66c4d",
   "metadata": {},
   "outputs": [],
   "source": [
    "pairwise_array_all = pairwise_similarity_all.toarray()\n",
    "np.fill_diagonal(pairwise_array_all, np.nan)"
   ]
  },
  {
   "cell_type": "code",
   "execution_count": 203,
   "id": "bb0dbc1f-fcaf-4d87-90a1-313ffd000adb",
   "metadata": {},
   "outputs": [
    {
     "data": {
      "text/plain": [
       "array([       nan, 0.39427569, 0.        , 0.        , 0.        ])"
      ]
     },
     "execution_count": 203,
     "metadata": {},
     "output_type": "execute_result"
    }
   ],
   "source": [
    "pairwise_array_all[0]"
   ]
  },
  {
   "cell_type": "code",
   "execution_count": 204,
   "id": "c92cd6e3-144b-4453-8a30-7bcba086e7ef",
   "metadata": {},
   "outputs": [
    {
     "data": {
      "text/plain": [
       "array([[0, 1],\n",
       "       [1, 0],\n",
       "       [2, 3],\n",
       "       [2, 4],\n",
       "       [3, 2],\n",
       "       [3, 4],\n",
       "       [4, 2],\n",
       "       [4, 3]])"
      ]
     },
     "execution_count": 204,
     "metadata": {},
     "output_type": "execute_result"
    }
   ],
   "source": [
    "arg_where_arr = np.argwhere(pairwise_array_all > 0.3)\n",
    "arg_where_arr"
   ]
  },
  {
   "cell_type": "code",
   "execution_count": null,
   "id": "cde00287-b63f-44cc-9a34-fe867f4ea2ab",
   "metadata": {},
   "outputs": [],
   "source": []
  },
  {
   "cell_type": "code",
   "execution_count": 205,
   "id": "103fb066-5df0-4f5b-b2c0-9d24ec0f971b",
   "metadata": {},
   "outputs": [
    {
     "data": {
      "text/plain": [
       "array([[0, 1],\n",
       "       [0, 1],\n",
       "       [2, 3],\n",
       "       [2, 4],\n",
       "       [2, 3],\n",
       "       [3, 4],\n",
       "       [2, 4],\n",
       "       [3, 4]])"
      ]
     },
     "execution_count": 205,
     "metadata": {},
     "output_type": "execute_result"
    }
   ],
   "source": [
    "sorted_arg_where_arr = np.sort(arg_where_arr,axis=-1)\n",
    "sorted_arg_where_arr"
   ]
  },
  {
   "cell_type": "code",
   "execution_count": 206,
   "id": "a7d4502e-a06b-4d61-98f0-c900038e5e1f",
   "metadata": {},
   "outputs": [
    {
     "data": {
      "text/plain": [
       "(array([[0, 1],\n",
       "        [2, 3],\n",
       "        [2, 4],\n",
       "        [3, 4]]),\n",
       " array([0, 2, 3, 5]))"
      ]
     },
     "execution_count": 206,
     "metadata": {},
     "output_type": "execute_result"
    }
   ],
   "source": [
    "sorted_arg_where_arr = np.sort(arg_where_arr,axis=-1)\n",
    "unique_1, idx_1 = np.unique(sorted_arg_where_arr, return_index = True, axis=0)\n",
    "unique_1, idx_1"
   ]
  },
  {
   "cell_type": "code",
   "execution_count": 197,
   "id": "e201a18a-77ac-4733-b7a3-49b6ae61109e",
   "metadata": {},
   "outputs": [
    {
     "data": {
      "text/html": [
       "<div>\n",
       "<style scoped>\n",
       "    .dataframe tbody tr th:only-of-type {\n",
       "        vertical-align: middle;\n",
       "    }\n",
       "\n",
       "    .dataframe tbody tr th {\n",
       "        vertical-align: top;\n",
       "    }\n",
       "\n",
       "    .dataframe thead th {\n",
       "        text-align: right;\n",
       "    }\n",
       "</style>\n",
       "<table border=\"1\" class=\"dataframe\">\n",
       "  <thead>\n",
       "    <tr style=\"text-align: right;\">\n",
       "      <th></th>\n",
       "      <th>price</th>\n",
       "      <th>price_list</th>\n",
       "      <th>post_text</th>\n",
       "    </tr>\n",
       "  </thead>\n",
       "  <tbody>\n",
       "    <tr>\n",
       "      <th>0</th>\n",
       "      <td>80</td>\n",
       "      <td>[4, 5]</td>\n",
       "      <td>I have too many goddamn cellphone</td>\n",
       "    </tr>\n",
       "    <tr>\n",
       "      <th>1</th>\n",
       "      <td>70</td>\n",
       "      <td>[]</td>\n",
       "      <td>I have too many goddamn cellphones</td>\n",
       "    </tr>\n",
       "    <tr>\n",
       "      <th>2</th>\n",
       "      <td>70</td>\n",
       "      <td>[1, 1, 1]</td>\n",
       "      <td>I'm not sure what you mean</td>\n",
       "    </tr>\n",
       "    <tr>\n",
       "      <th>3</th>\n",
       "      <td>10</td>\n",
       "      <td>[]</td>\n",
       "      <td>I'm sure what you mean</td>\n",
       "    </tr>\n",
       "    <tr>\n",
       "      <th>4</th>\n",
       "      <td>0</td>\n",
       "      <td>[1, 9]</td>\n",
       "      <td>I'm really not sure what you mean</td>\n",
       "    </tr>\n",
       "  </tbody>\n",
       "</table>\n",
       "</div>"
      ],
      "text/plain": [
       "   price price_list                           post_text\n",
       "0     80     [4, 5]   I have too many goddamn cellphone\n",
       "1     70         []  I have too many goddamn cellphones\n",
       "2     70  [1, 1, 1]          I'm not sure what you mean\n",
       "3     10         []              I'm sure what you mean\n",
       "4      0     [1, 9]   I'm really not sure what you mean"
      ]
     },
     "execution_count": 197,
     "metadata": {},
     "output_type": "execute_result"
    }
   ],
   "source": [
    "test_df"
   ]
  },
  {
   "cell_type": "code",
   "execution_count": 198,
   "id": "7190da46-67ff-4ad1-aad3-dbaa8b361c05",
   "metadata": {},
   "outputs": [
    {
     "ename": "IndexError",
     "evalue": "positional indexers are out-of-bounds",
     "output_type": "error",
     "traceback": [
      "\u001b[0;31m---------------------------------------------------------------------------\u001b[0m",
      "\u001b[0;31mIndexError\u001b[0m                                Traceback (most recent call last)",
      "\u001b[0;32m~/opt/anaconda3/envs/ox/lib/python3.9/site-packages/pandas/core/indexing.py\u001b[0m in \u001b[0;36m_get_list_axis\u001b[0;34m(self, key, axis)\u001b[0m\n\u001b[1;32m   1529\u001b[0m         \u001b[0;32mtry\u001b[0m\u001b[0;34m:\u001b[0m\u001b[0;34m\u001b[0m\u001b[0;34m\u001b[0m\u001b[0m\n\u001b[0;32m-> 1530\u001b[0;31m             \u001b[0;32mreturn\u001b[0m \u001b[0mself\u001b[0m\u001b[0;34m.\u001b[0m\u001b[0mobj\u001b[0m\u001b[0;34m.\u001b[0m\u001b[0m_take_with_is_copy\u001b[0m\u001b[0;34m(\u001b[0m\u001b[0mkey\u001b[0m\u001b[0;34m,\u001b[0m \u001b[0maxis\u001b[0m\u001b[0;34m=\u001b[0m\u001b[0maxis\u001b[0m\u001b[0;34m)\u001b[0m\u001b[0;34m\u001b[0m\u001b[0;34m\u001b[0m\u001b[0m\n\u001b[0m\u001b[1;32m   1531\u001b[0m         \u001b[0;32mexcept\u001b[0m \u001b[0mIndexError\u001b[0m \u001b[0;32mas\u001b[0m \u001b[0merr\u001b[0m\u001b[0;34m:\u001b[0m\u001b[0;34m\u001b[0m\u001b[0;34m\u001b[0m\u001b[0m\n",
      "\u001b[0;32m~/opt/anaconda3/envs/ox/lib/python3.9/site-packages/pandas/core/generic.py\u001b[0m in \u001b[0;36m_take_with_is_copy\u001b[0;34m(self, indices, axis)\u001b[0m\n\u001b[1;32m   3627\u001b[0m         \"\"\"\n\u001b[0;32m-> 3628\u001b[0;31m         \u001b[0mresult\u001b[0m \u001b[0;34m=\u001b[0m \u001b[0mself\u001b[0m\u001b[0;34m.\u001b[0m\u001b[0mtake\u001b[0m\u001b[0;34m(\u001b[0m\u001b[0mindices\u001b[0m\u001b[0;34m=\u001b[0m\u001b[0mindices\u001b[0m\u001b[0;34m,\u001b[0m \u001b[0maxis\u001b[0m\u001b[0;34m=\u001b[0m\u001b[0maxis\u001b[0m\u001b[0;34m)\u001b[0m\u001b[0;34m\u001b[0m\u001b[0;34m\u001b[0m\u001b[0m\n\u001b[0m\u001b[1;32m   3629\u001b[0m         \u001b[0;31m# Maybe set copy if we didn't actually change the index.\u001b[0m\u001b[0;34m\u001b[0m\u001b[0;34m\u001b[0m\u001b[0m\n",
      "\u001b[0;32m~/opt/anaconda3/envs/ox/lib/python3.9/site-packages/pandas/core/generic.py\u001b[0m in \u001b[0;36mtake\u001b[0;34m(self, indices, axis, is_copy, **kwargs)\u001b[0m\n\u001b[1;32m   3614\u001b[0m \u001b[0;34m\u001b[0m\u001b[0m\n\u001b[0;32m-> 3615\u001b[0;31m         new_data = self._mgr.take(\n\u001b[0m\u001b[1;32m   3616\u001b[0m             \u001b[0mindices\u001b[0m\u001b[0;34m,\u001b[0m \u001b[0maxis\u001b[0m\u001b[0;34m=\u001b[0m\u001b[0mself\u001b[0m\u001b[0;34m.\u001b[0m\u001b[0m_get_block_manager_axis\u001b[0m\u001b[0;34m(\u001b[0m\u001b[0maxis\u001b[0m\u001b[0;34m)\u001b[0m\u001b[0;34m,\u001b[0m \u001b[0mverify\u001b[0m\u001b[0;34m=\u001b[0m\u001b[0;32mTrue\u001b[0m\u001b[0;34m\u001b[0m\u001b[0;34m\u001b[0m\u001b[0m\n",
      "\u001b[0;32m~/opt/anaconda3/envs/ox/lib/python3.9/site-packages/pandas/core/internals/managers.py\u001b[0m in \u001b[0;36mtake\u001b[0;34m(self, indexer, axis, verify)\u001b[0m\n\u001b[1;32m    861\u001b[0m         \u001b[0mn\u001b[0m \u001b[0;34m=\u001b[0m \u001b[0mself\u001b[0m\u001b[0;34m.\u001b[0m\u001b[0mshape\u001b[0m\u001b[0;34m[\u001b[0m\u001b[0maxis\u001b[0m\u001b[0;34m]\u001b[0m\u001b[0;34m\u001b[0m\u001b[0;34m\u001b[0m\u001b[0m\n\u001b[0;32m--> 862\u001b[0;31m         \u001b[0mindexer\u001b[0m \u001b[0;34m=\u001b[0m \u001b[0mmaybe_convert_indices\u001b[0m\u001b[0;34m(\u001b[0m\u001b[0mindexer\u001b[0m\u001b[0;34m,\u001b[0m \u001b[0mn\u001b[0m\u001b[0;34m,\u001b[0m \u001b[0mverify\u001b[0m\u001b[0;34m=\u001b[0m\u001b[0mverify\u001b[0m\u001b[0;34m)\u001b[0m\u001b[0;34m\u001b[0m\u001b[0;34m\u001b[0m\u001b[0m\n\u001b[0m\u001b[1;32m    863\u001b[0m \u001b[0;34m\u001b[0m\u001b[0m\n",
      "\u001b[0;32m~/opt/anaconda3/envs/ox/lib/python3.9/site-packages/pandas/core/indexers.py\u001b[0m in \u001b[0;36mmaybe_convert_indices\u001b[0;34m(indices, n, verify)\u001b[0m\n\u001b[1;32m    291\u001b[0m         \u001b[0;32mif\u001b[0m \u001b[0mmask\u001b[0m\u001b[0;34m.\u001b[0m\u001b[0many\u001b[0m\u001b[0;34m(\u001b[0m\u001b[0;34m)\u001b[0m\u001b[0;34m:\u001b[0m\u001b[0;34m\u001b[0m\u001b[0;34m\u001b[0m\u001b[0m\n\u001b[0;32m--> 292\u001b[0;31m             \u001b[0;32mraise\u001b[0m \u001b[0mIndexError\u001b[0m\u001b[0;34m(\u001b[0m\u001b[0;34m\"indices are out-of-bounds\"\u001b[0m\u001b[0;34m)\u001b[0m\u001b[0;34m\u001b[0m\u001b[0;34m\u001b[0m\u001b[0m\n\u001b[0m\u001b[1;32m    293\u001b[0m     \u001b[0;32mreturn\u001b[0m \u001b[0mindices\u001b[0m\u001b[0;34m\u001b[0m\u001b[0;34m\u001b[0m\u001b[0m\n",
      "\u001b[0;31mIndexError\u001b[0m: indices are out-of-bounds",
      "\nThe above exception was the direct cause of the following exception:\n",
      "\u001b[0;31mIndexError\u001b[0m                                Traceback (most recent call last)",
      "\u001b[0;32m/var/folders/lp/jgdr2r255gz098q__v2pjv0r0000gn/T/ipykernel_26856/3769660355.py\u001b[0m in \u001b[0;36m<module>\u001b[0;34m\u001b[0m\n\u001b[0;32m----> 1\u001b[0;31m \u001b[0mtest_df\u001b[0m\u001b[0;34m.\u001b[0m\u001b[0miloc\u001b[0m\u001b[0;34m[\u001b[0m\u001b[0midx_1\u001b[0m\u001b[0;34m]\u001b[0m\u001b[0;34m\u001b[0m\u001b[0;34m\u001b[0m\u001b[0m\n\u001b[0m",
      "\u001b[0;32m~/opt/anaconda3/envs/ox/lib/python3.9/site-packages/pandas/core/indexing.py\u001b[0m in \u001b[0;36m__getitem__\u001b[0;34m(self, key)\u001b[0m\n\u001b[1;32m    929\u001b[0m \u001b[0;34m\u001b[0m\u001b[0m\n\u001b[1;32m    930\u001b[0m             \u001b[0mmaybe_callable\u001b[0m \u001b[0;34m=\u001b[0m \u001b[0mcom\u001b[0m\u001b[0;34m.\u001b[0m\u001b[0mapply_if_callable\u001b[0m\u001b[0;34m(\u001b[0m\u001b[0mkey\u001b[0m\u001b[0;34m,\u001b[0m \u001b[0mself\u001b[0m\u001b[0;34m.\u001b[0m\u001b[0mobj\u001b[0m\u001b[0;34m)\u001b[0m\u001b[0;34m\u001b[0m\u001b[0;34m\u001b[0m\u001b[0m\n\u001b[0;32m--> 931\u001b[0;31m             \u001b[0;32mreturn\u001b[0m \u001b[0mself\u001b[0m\u001b[0;34m.\u001b[0m\u001b[0m_getitem_axis\u001b[0m\u001b[0;34m(\u001b[0m\u001b[0mmaybe_callable\u001b[0m\u001b[0;34m,\u001b[0m \u001b[0maxis\u001b[0m\u001b[0;34m=\u001b[0m\u001b[0maxis\u001b[0m\u001b[0;34m)\u001b[0m\u001b[0;34m\u001b[0m\u001b[0;34m\u001b[0m\u001b[0m\n\u001b[0m\u001b[1;32m    932\u001b[0m \u001b[0;34m\u001b[0m\u001b[0m\n\u001b[1;32m    933\u001b[0m     \u001b[0;32mdef\u001b[0m \u001b[0m_is_scalar_access\u001b[0m\u001b[0;34m(\u001b[0m\u001b[0mself\u001b[0m\u001b[0;34m,\u001b[0m \u001b[0mkey\u001b[0m\u001b[0;34m:\u001b[0m \u001b[0mtuple\u001b[0m\u001b[0;34m)\u001b[0m\u001b[0;34m:\u001b[0m\u001b[0;34m\u001b[0m\u001b[0;34m\u001b[0m\u001b[0m\n",
      "\u001b[0;32m~/opt/anaconda3/envs/ox/lib/python3.9/site-packages/pandas/core/indexing.py\u001b[0m in \u001b[0;36m_getitem_axis\u001b[0;34m(self, key, axis)\u001b[0m\n\u001b[1;32m   1555\u001b[0m         \u001b[0;31m# a list of integers\u001b[0m\u001b[0;34m\u001b[0m\u001b[0;34m\u001b[0m\u001b[0m\n\u001b[1;32m   1556\u001b[0m         \u001b[0;32melif\u001b[0m \u001b[0mis_list_like_indexer\u001b[0m\u001b[0;34m(\u001b[0m\u001b[0mkey\u001b[0m\u001b[0;34m)\u001b[0m\u001b[0;34m:\u001b[0m\u001b[0;34m\u001b[0m\u001b[0;34m\u001b[0m\u001b[0m\n\u001b[0;32m-> 1557\u001b[0;31m             \u001b[0;32mreturn\u001b[0m \u001b[0mself\u001b[0m\u001b[0;34m.\u001b[0m\u001b[0m_get_list_axis\u001b[0m\u001b[0;34m(\u001b[0m\u001b[0mkey\u001b[0m\u001b[0;34m,\u001b[0m \u001b[0maxis\u001b[0m\u001b[0;34m=\u001b[0m\u001b[0maxis\u001b[0m\u001b[0;34m)\u001b[0m\u001b[0;34m\u001b[0m\u001b[0;34m\u001b[0m\u001b[0m\n\u001b[0m\u001b[1;32m   1558\u001b[0m \u001b[0;34m\u001b[0m\u001b[0m\n\u001b[1;32m   1559\u001b[0m         \u001b[0;31m# a single integer\u001b[0m\u001b[0;34m\u001b[0m\u001b[0;34m\u001b[0m\u001b[0m\n",
      "\u001b[0;32m~/opt/anaconda3/envs/ox/lib/python3.9/site-packages/pandas/core/indexing.py\u001b[0m in \u001b[0;36m_get_list_axis\u001b[0;34m(self, key, axis)\u001b[0m\n\u001b[1;32m   1531\u001b[0m         \u001b[0;32mexcept\u001b[0m \u001b[0mIndexError\u001b[0m \u001b[0;32mas\u001b[0m \u001b[0merr\u001b[0m\u001b[0;34m:\u001b[0m\u001b[0;34m\u001b[0m\u001b[0;34m\u001b[0m\u001b[0m\n\u001b[1;32m   1532\u001b[0m             \u001b[0;31m# re-raise with different error message\u001b[0m\u001b[0;34m\u001b[0m\u001b[0;34m\u001b[0m\u001b[0m\n\u001b[0;32m-> 1533\u001b[0;31m             \u001b[0;32mraise\u001b[0m \u001b[0mIndexError\u001b[0m\u001b[0;34m(\u001b[0m\u001b[0;34m\"positional indexers are out-of-bounds\"\u001b[0m\u001b[0;34m)\u001b[0m \u001b[0;32mfrom\u001b[0m \u001b[0merr\u001b[0m\u001b[0;34m\u001b[0m\u001b[0;34m\u001b[0m\u001b[0m\n\u001b[0m\u001b[1;32m   1534\u001b[0m \u001b[0;34m\u001b[0m\u001b[0m\n\u001b[1;32m   1535\u001b[0m     \u001b[0;32mdef\u001b[0m \u001b[0m_getitem_axis\u001b[0m\u001b[0;34m(\u001b[0m\u001b[0mself\u001b[0m\u001b[0;34m,\u001b[0m \u001b[0mkey\u001b[0m\u001b[0;34m,\u001b[0m \u001b[0maxis\u001b[0m\u001b[0;34m:\u001b[0m \u001b[0mint\u001b[0m\u001b[0;34m)\u001b[0m\u001b[0;34m:\u001b[0m\u001b[0;34m\u001b[0m\u001b[0;34m\u001b[0m\u001b[0m\n",
      "\u001b[0;31mIndexError\u001b[0m: positional indexers are out-of-bounds"
     ]
    }
   ],
   "source": [
    "test_df.iloc[idx_1]"
   ]
  },
  {
   "cell_type": "code",
   "execution_count": 125,
   "id": "c631aeb4-1dd6-4f06-aa58-61e2d20f457d",
   "metadata": {},
   "outputs": [
    {
     "data": {
      "text/plain": [
       "[(1, 2), (2, 1), (4, 5), (4, 6), (5, 4), (5, 6), (6, 4), (6, 5)]"
      ]
     },
     "execution_count": 125,
     "metadata": {},
     "output_type": "execute_result"
    }
   ],
   "source": [
    "tupList = list(map(tuple, arg_where_arr))\n",
    "tupList"
   ]
  },
  {
   "cell_type": "code",
   "execution_count": 126,
   "id": "691c29f7-06d9-4a62-af15-58601bf4ceb0",
   "metadata": {},
   "outputs": [
    {
     "name": "stdout",
     "output_type": "stream",
     "text": [
      "List of Tuples after removal of duplicates : [(4, 6), (4, 5), (1, 2), (5, 6)]\n"
     ]
    }
   ],
   "source": [
    "tupListWoDup = list(set(map(tuple, map(sorted, tupList))))\n",
    "\n",
    "# Printing the list of tuples \n",
    "print(\"List of Tuples after removal of duplicates : \" + str(tupListWoDup))"
   ]
  },
  {
   "cell_type": "code",
   "execution_count": null,
   "id": "0ad128f9-56de-404f-8468-4c05964c0720",
   "metadata": {},
   "outputs": [],
   "source": [
    "no_dups_at_all = []\n",
    "for tup in tupListWoDup:\n",
    "    if "
   ]
  },
  {
   "cell_type": "code",
   "execution_count": null,
   "id": "7f9cb108-5522-443b-ac9b-cec6aec8f795",
   "metadata": {},
   "outputs": [],
   "source": []
  },
  {
   "cell_type": "code",
   "execution_count": null,
   "id": "cf18813a-0f73-489d-a974-6a9f1b840e4b",
   "metadata": {},
   "outputs": [],
   "source": []
  },
  {
   "cell_type": "code",
   "execution_count": 56,
   "id": "c6eb86b2-644b-422d-aaad-272e072e250a",
   "metadata": {},
   "outputs": [],
   "source": [
    "drop_idx = np.argwhere(pairwise_array_all > 0.3)[:,1:].flatten()"
   ]
  },
  {
   "cell_type": "code",
   "execution_count": 109,
   "id": "35087e1e-0810-4c83-bd6b-6f0a49ddff51",
   "metadata": {},
   "outputs": [
    {
     "data": {
      "text/plain": [
       "array([[1, 2],\n",
       "       [2, 1],\n",
       "       [4, 5],\n",
       "       [4, 6],\n",
       "       [6, 4],\n",
       "       [6, 5]])"
      ]
     },
     "execution_count": 109,
     "metadata": {},
     "output_type": "execute_result"
    }
   ],
   "source": [
    "np.delete(arg_where_arr, [4, 5], axis=0)"
   ]
  },
  {
   "cell_type": "code",
   "execution_count": 116,
   "id": "3ed6c0b2-abd7-4ff5-8115-9223404b452a",
   "metadata": {},
   "outputs": [
    {
     "name": "stdout",
     "output_type": "stream",
     "text": [
      "dup_idx 5\n",
      "idx_to_drop (array([], dtype=int64),)\n",
      "[[1 2]\n",
      " [2 1]\n",
      " [4 5]\n",
      " [4 6]\n",
      " [6 4]\n",
      " [6 5]]\n",
      "dup_idx 5\n",
      "idx_to_drop (array([], dtype=int64),)\n",
      "[[1 2]\n",
      " [2 1]\n",
      " [4 5]\n",
      " [4 6]\n",
      " [6 4]\n",
      " [6 5]]\n",
      "dup_idx 5\n",
      "idx_to_drop (array([], dtype=int64),)\n",
      "[[1 2]\n",
      " [2 1]\n",
      " [4 5]\n",
      " [4 6]\n",
      " [6 4]\n",
      " [6 5]]\n",
      "dup_idx 5\n",
      "idx_to_drop (array([], dtype=int64),)\n",
      "[[1 2]\n",
      " [2 1]\n",
      " [4 5]\n",
      " [4 6]\n",
      " [6 4]\n",
      " [6 5]]\n",
      "dup_idx 5\n",
      "idx_to_drop (array([], dtype=int64),)\n",
      "[[1 2]\n",
      " [2 1]\n",
      " [4 5]\n",
      " [4 6]\n",
      " [6 4]\n",
      " [6 5]]\n",
      "dup_idx 5\n",
      "idx_to_drop (array([], dtype=int64),)\n",
      "[[1 2]\n",
      " [2 1]\n",
      " [4 5]\n",
      " [4 6]\n",
      " [6 4]\n",
      " [6 5]]\n",
      "dup_idx 5\n",
      "idx_to_drop (array([], dtype=int64),)\n",
      "[[1 2]\n",
      " [2 1]\n",
      " [4 5]\n",
      " [4 6]\n",
      " [6 4]\n",
      " [6 5]]\n"
     ]
    }
   ],
   "source": [
    "arr_len = len(arg_where_arr)\n",
    "\n",
    "for i in np.arange(arr_len, -1, -1):\n",
    "    dup_idx = arg_where_arr[-1, 1]\n",
    "    print(F\"dup_idx {dup_idx}\")\n",
    "    #arg_where_arr[arg_where_arr[:,0] == idx_to_drop] \n",
    "    idx_to_drop = np.where(arg_where_arr[:,0] == dup_idx)\n",
    "    print(F\"idx_to_drop {idx_to_drop}\")\n",
    "    arg_where_arr = np.delete(arg_where_arr, idx_to_drop, axis=0)\n",
    "    print(new_arr)"
   ]
  },
  {
   "cell_type": "code",
   "execution_count": 112,
   "id": "e9d70eca-a7fa-4699-903b-66ea6d08faae",
   "metadata": {},
   "outputs": [
    {
     "data": {
      "text/plain": [
       "array([[1, 2],\n",
       "       [2, 1],\n",
       "       [4, 5],\n",
       "       [4, 6],\n",
       "       [6, 4],\n",
       "       [6, 5]])"
      ]
     },
     "execution_count": 112,
     "metadata": {},
     "output_type": "execute_result"
    }
   ],
   "source": [
    "new_arr"
   ]
  },
  {
   "cell_type": "code",
   "execution_count": 79,
   "id": "1a117063-4f96-489a-8b0e-3aeed2a7b740",
   "metadata": {},
   "outputs": [
    {
     "data": {
      "text/plain": [
       "array([5, 6])"
      ]
     },
     "execution_count": 79,
     "metadata": {},
     "output_type": "execute_result"
    }
   ],
   "source": [
    "arg_where_arr[:5]"
   ]
  },
  {
   "cell_type": "code",
   "execution_count": 85,
   "id": "005bb317-2690-49ec-98b0-a3aad5e88777",
   "metadata": {},
   "outputs": [
    {
     "data": {
      "text/plain": [
       "array([[5, 4],\n",
       "       [5, 6]])"
      ]
     },
     "execution_count": 85,
     "metadata": {},
     "output_type": "execute_result"
    }
   ],
   "source": [
    "arg_where_arr[arg_where_arr[:,0] == 5]"
   ]
  },
  {
   "cell_type": "code",
   "execution_count": 58,
   "id": "710fdc7d-79fd-4f0c-a77d-f74e5dc92bdf",
   "metadata": {},
   "outputs": [
    {
     "data": {
      "text/plain": [
       "array([2, 1, 5, 6, 4, 6, 4, 5])"
      ]
     },
     "execution_count": 58,
     "metadata": {},
     "output_type": "execute_result"
    }
   ],
   "source": [
    "drop_idx"
   ]
  },
  {
   "cell_type": "code",
   "execution_count": 59,
   "id": "811b60b7-5955-46b1-a895-3709b653e46e",
   "metadata": {
    "tags": []
   },
   "outputs": [
    {
     "data": {
      "text/plain": [
       "array([0, 1, 2, 3, 4, 5, 6])"
      ]
     },
     "execution_count": 59,
     "metadata": {},
     "output_type": "execute_result"
    }
   ],
   "source": [
    "df_idx = test_df.index.values\n",
    "df_idx"
   ]
  },
  {
   "cell_type": "code",
   "execution_count": 60,
   "id": "cfff9437-2250-4804-895a-822f2ab2c765",
   "metadata": {},
   "outputs": [],
   "source": [
    "match_list = []\n",
    "for idx in df_idx:\n",
    "    match_list.append(str(idx in drop_idx))"
   ]
  },
  {
   "cell_type": "code",
   "execution_count": 61,
   "id": "66fdff4d-bbe0-4e92-932f-1f0db65b3829",
   "metadata": {},
   "outputs": [],
   "source": [
    "test_df['match'] = match_list"
   ]
  },
  {
   "cell_type": "code",
   "execution_count": 62,
   "id": "7b6b90f9-cb09-47f1-a214-bba1e2dbe22c",
   "metadata": {},
   "outputs": [
    {
     "data": {
      "text/html": [
       "<div>\n",
       "<style scoped>\n",
       "    .dataframe tbody tr th:only-of-type {\n",
       "        vertical-align: middle;\n",
       "    }\n",
       "\n",
       "    .dataframe tbody tr th {\n",
       "        vertical-align: top;\n",
       "    }\n",
       "\n",
       "    .dataframe thead th {\n",
       "        text-align: right;\n",
       "    }\n",
       "</style>\n",
       "<table border=\"1\" class=\"dataframe\">\n",
       "  <thead>\n",
       "    <tr style=\"text-align: right;\">\n",
       "      <th></th>\n",
       "      <th>price</th>\n",
       "      <th>price_list</th>\n",
       "      <th>post_text</th>\n",
       "      <th>match</th>\n",
       "    </tr>\n",
       "  </thead>\n",
       "  <tbody>\n",
       "    <tr>\n",
       "      <th>0</th>\n",
       "      <td>90</td>\n",
       "      <td>[1, 2, 3]</td>\n",
       "      <td>This is my text</td>\n",
       "      <td>False</td>\n",
       "    </tr>\n",
       "    <tr>\n",
       "      <th>1</th>\n",
       "      <td>80</td>\n",
       "      <td>[4, 5]</td>\n",
       "      <td>I have too many goddamn cellphone</td>\n",
       "      <td>True</td>\n",
       "    </tr>\n",
       "    <tr>\n",
       "      <th>2</th>\n",
       "      <td>70</td>\n",
       "      <td>[]</td>\n",
       "      <td>I have too many goddamn cellphones</td>\n",
       "      <td>True</td>\n",
       "    </tr>\n",
       "    <tr>\n",
       "      <th>3</th>\n",
       "      <td>60</td>\n",
       "      <td>[]</td>\n",
       "      <td>You have got to be kidding me</td>\n",
       "      <td>False</td>\n",
       "    </tr>\n",
       "    <tr>\n",
       "      <th>4</th>\n",
       "      <td>70</td>\n",
       "      <td>[1, 1, 1]</td>\n",
       "      <td>I'm not sure what you mean</td>\n",
       "      <td>True</td>\n",
       "    </tr>\n",
       "    <tr>\n",
       "      <th>5</th>\n",
       "      <td>10</td>\n",
       "      <td>[]</td>\n",
       "      <td>I'm sure what you mean</td>\n",
       "      <td>True</td>\n",
       "    </tr>\n",
       "    <tr>\n",
       "      <th>6</th>\n",
       "      <td>0</td>\n",
       "      <td>[1, 9]</td>\n",
       "      <td>I'm really not sure what you mean</td>\n",
       "      <td>True</td>\n",
       "    </tr>\n",
       "  </tbody>\n",
       "</table>\n",
       "</div>"
      ],
      "text/plain": [
       "   price price_list                           post_text  match\n",
       "0     90  [1, 2, 3]                     This is my text  False\n",
       "1     80     [4, 5]   I have too many goddamn cellphone   True\n",
       "2     70         []  I have too many goddamn cellphones   True\n",
       "3     60         []       You have got to be kidding me  False\n",
       "4     70  [1, 1, 1]          I'm not sure what you mean   True\n",
       "5     10         []              I'm sure what you mean   True\n",
       "6      0     [1, 9]   I'm really not sure what you mean   True"
      ]
     },
     "execution_count": 62,
     "metadata": {},
     "output_type": "execute_result"
    }
   ],
   "source": [
    "test_df"
   ]
  },
  {
   "cell_type": "code",
   "execution_count": 117,
   "id": "56b9b1df-68db-4a93-8d30-f4a9778ab342",
   "metadata": {},
   "outputs": [
    {
     "name": "stdout",
     "output_type": "stream",
     "text": [
      "Initial List of Tuples : [(1, 2), (2, 1), (4, 5), (4, 6), (5, 4), (5, 6), (6, 4), (6, 5)]\n",
      "List of Tuples after removal of duplicates : [(4, 6), (4, 5), (1, 2), (5, 6)]\n"
     ]
    }
   ],
   "source": [
    "# Program to remove duplicate tuples \n",
    "\n",
    "# Creating and printing the list of tuples\n",
    "tupList = [(1, 2), (2, 1), (4, 5), (4, 6), (5, 4), (5, 6), (6, 4), (6,5)]\n",
    "print(\"Initial List of Tuples : \" + str(tupList))\n",
    "\n",
    "# Removing all duplicate tuples from the list\n",
    "tupListWoDup = list(set(map(tuple, map(sorted, tupList))))\n",
    "\n",
    "# Printing the list of tuples \n",
    "print(\"List of Tuples after removal of duplicates : \" + str(tupListWoDup))"
   ]
  },
  {
   "cell_type": "code",
   "execution_count": null,
   "id": "6cd72013-84ec-40a9-9bdb-0b676b61aa32",
   "metadata": {},
   "outputs": [],
   "source": []
  },
  {
   "cell_type": "code",
   "execution_count": null,
   "id": "ba758703-8b4c-4678-a920-150631384c56",
   "metadata": {},
   "outputs": [],
   "source": []
  },
  {
   "cell_type": "code",
   "execution_count": 63,
   "id": "3863953f-d87b-48bd-a5ab-91a28e9c4bbb",
   "metadata": {},
   "outputs": [],
   "source": [
    "indices = []\n",
    "for i, row in test_df.iterrows():\n",
    "    indices.append(i)\n",
    "    try:\n",
    "        test_df = test_df.drop(\n",
    "        index=[item for item in row[\"match\"] if item in indices], inplace=True, errors=\"ignore\"\n",
    "    )\n",
    "    except:\n",
    "        pass"
   ]
  },
  {
   "cell_type": "code",
   "execution_count": 64,
   "id": "842b1611-5ff8-48ac-bb68-d9b66f25b25a",
   "metadata": {},
   "outputs": [],
   "source": [
    "test_df"
   ]
  },
  {
   "cell_type": "code",
   "execution_count": null,
   "id": "4e7c43b8-5455-4c88-b7a2-3810335e2ee1",
   "metadata": {},
   "outputs": [],
   "source": []
  },
  {
   "cell_type": "code",
   "execution_count": null,
   "id": "2b624dcb-7026-441c-84c6-06ccacfbc24d",
   "metadata": {},
   "outputs": [],
   "source": []
  },
  {
   "cell_type": "code",
   "execution_count": null,
   "id": "9b97f7a5-f96f-4308-83a9-ae52c1bfeb7c",
   "metadata": {},
   "outputs": [],
   "source": [
    "# def remove_duplicate_text(x):\n",
    "#     text_for_comparison = x\n",
    "#     vect = TfidfVectorizer(min_df=1, stop_words='english')\n",
    "#     tfidf = vect.fit_transform(text_for_comparison)\n",
    "#     pairwise_sim = tfidf * tfidf.T\n",
    "#     pairwise_arr = pairwise_sim.toarray()"
   ]
  },
  {
   "cell_type": "code",
   "execution_count": null,
   "id": "dac6f87c-a581-49a2-b84b-521276105880",
   "metadata": {},
   "outputs": [],
   "source": []
  },
  {
   "cell_type": "code",
   "execution_count": null,
   "id": "c0b25de1-7822-483c-850e-2410d8aa8bb2",
   "metadata": {},
   "outputs": [],
   "source": []
  },
  {
   "cell_type": "code",
   "execution_count": null,
   "id": "0784538a-9ba7-4cd1-a47b-f5087c31f5bf",
   "metadata": {},
   "outputs": [],
   "source": []
  },
  {
   "cell_type": "code",
   "execution_count": null,
   "id": "db193dd8-f2aa-43a0-a0d3-8613f10e6b8e",
   "metadata": {},
   "outputs": [],
   "source": []
  },
  {
   "cell_type": "markdown",
   "id": "8d6b0868-a004-4cac-aa5f-b3270eb28f5f",
   "metadata": {},
   "source": [
    "# With list comprehension"
   ]
  },
  {
   "cell_type": "code",
   "execution_count": 209,
   "id": "ae687321-49d0-427e-97ff-36027d56114b",
   "metadata": {},
   "outputs": [],
   "source": [
    "import textdistance\n",
    "\n",
    "test_df = pd.DataFrame([[90, [1,2,3], 'This is my text'],\n",
    "              [80, [4, 5],  'I have too many goddamn cellphone'],\n",
    "              [70, []    ,  'I have too many goddamn cellphones'],\n",
    "              [60, []    ,  'You have got to be kidding me'],\n",
    "              [70, [1,1,1], \"I'm not sure what you mean\"],\n",
    "              [10, [],      \"I'm sure what you mean\"],\n",
    "              [0,  [1, 9],  \"I'm really not sure what you mean\"],\n",
    "              [0,  [2, 3],  \"My name is Jonathan Papir\"],\n",
    "              [2,  [],      \"Purple sharks are great\"]],\n",
    "            columns=['price', 'price_list', 'post_text'])\n",
    "\n",
    "# Calculate similarities between rows\n",
    "# and save corresponding indexes in a new column \"match\"\n",
    "test_df[\"match\"] = test_df[\"post_text\"].map(\n",
    "    lambda x: [\n",
    "        i\n",
    "        for i, text in enumerate(test_df[\"post_text\"])\n",
    "        if textdistance.jaro_winkler(x, text) >= 0.7\n",
    "    ]\n",
    ")\n",
    "\n",
    "# Iterate to remove similar rows (keeping only the first one)\n",
    "indices = []\n",
    "for i, row in test_df.iterrows():\n",
    "    indices.append(i)\n",
    "    test_df = test_df.drop(\n",
    "        index=[item for item in row[\"match\"] if item not in indices], errors=\"ignore\"\n",
    "    )"
   ]
  },
  {
   "cell_type": "code",
   "execution_count": 210,
   "id": "cab16c72-b008-467b-9b18-a19b6737dc70",
   "metadata": {},
   "outputs": [
    {
     "data": {
      "text/html": [
       "<div>\n",
       "<style scoped>\n",
       "    .dataframe tbody tr th:only-of-type {\n",
       "        vertical-align: middle;\n",
       "    }\n",
       "\n",
       "    .dataframe tbody tr th {\n",
       "        vertical-align: top;\n",
       "    }\n",
       "\n",
       "    .dataframe thead th {\n",
       "        text-align: right;\n",
       "    }\n",
       "</style>\n",
       "<table border=\"1\" class=\"dataframe\">\n",
       "  <thead>\n",
       "    <tr style=\"text-align: right;\">\n",
       "      <th></th>\n",
       "      <th>price</th>\n",
       "      <th>price_list</th>\n",
       "      <th>post_text</th>\n",
       "      <th>match</th>\n",
       "    </tr>\n",
       "  </thead>\n",
       "  <tbody>\n",
       "    <tr>\n",
       "      <th>0</th>\n",
       "      <td>90</td>\n",
       "      <td>[1, 2, 3]</td>\n",
       "      <td>This is my text</td>\n",
       "      <td>[0]</td>\n",
       "    </tr>\n",
       "    <tr>\n",
       "      <th>1</th>\n",
       "      <td>80</td>\n",
       "      <td>[4, 5]</td>\n",
       "      <td>I have too many goddamn cellphone</td>\n",
       "      <td>[1, 2]</td>\n",
       "    </tr>\n",
       "    <tr>\n",
       "      <th>3</th>\n",
       "      <td>60</td>\n",
       "      <td>[]</td>\n",
       "      <td>You have got to be kidding me</td>\n",
       "      <td>[3]</td>\n",
       "    </tr>\n",
       "    <tr>\n",
       "      <th>4</th>\n",
       "      <td>70</td>\n",
       "      <td>[1, 1, 1]</td>\n",
       "      <td>I'm not sure what you mean</td>\n",
       "      <td>[4, 5, 6]</td>\n",
       "    </tr>\n",
       "    <tr>\n",
       "      <th>7</th>\n",
       "      <td>0</td>\n",
       "      <td>[2, 3]</td>\n",
       "      <td>My name is Jonathan Papir</td>\n",
       "      <td>[7]</td>\n",
       "    </tr>\n",
       "    <tr>\n",
       "      <th>8</th>\n",
       "      <td>2</td>\n",
       "      <td>[]</td>\n",
       "      <td>Purple sharks are great</td>\n",
       "      <td>[8]</td>\n",
       "    </tr>\n",
       "  </tbody>\n",
       "</table>\n",
       "</div>"
      ],
      "text/plain": [
       "   price price_list                          post_text      match\n",
       "0     90  [1, 2, 3]                    This is my text        [0]\n",
       "1     80     [4, 5]  I have too many goddamn cellphone     [1, 2]\n",
       "3     60         []      You have got to be kidding me        [3]\n",
       "4     70  [1, 1, 1]         I'm not sure what you mean  [4, 5, 6]\n",
       "7      0     [2, 3]          My name is Jonathan Papir        [7]\n",
       "8      2         []            Purple sharks are great        [8]"
      ]
     },
     "execution_count": 210,
     "metadata": {},
     "output_type": "execute_result"
    }
   ],
   "source": [
    "test_df"
   ]
  },
  {
   "cell_type": "markdown",
   "id": "1810b21e-354e-4298-9719-2575abcc6959",
   "metadata": {},
   "source": [
    "# Without List Comprehension"
   ]
  },
  {
   "cell_type": "code",
   "execution_count": 211,
   "id": "9623e7fe-19fc-4029-bca1-cfb30fa302dc",
   "metadata": {},
   "outputs": [],
   "source": [
    "import textdistance\n",
    "\n",
    "test_df = pd.DataFrame([[90, [1,2,3], 'This is my text'],\n",
    "              [80, [4, 5],  'I have too many goddamn cellphone'],\n",
    "              [70, []    ,  'I have too many goddamn cellphones'],\n",
    "              [60, []    ,  'You have got to be kidding me'],\n",
    "              [70, [1,1,1], \"I'm not sure what you mean\"],\n",
    "              [10, [],      \"I'm sure what you mean\"],\n",
    "              [0,  [1, 9],  \"I'm really not sure what you mean\"],\n",
    "              [0,  [2, 3],  \"My name is Jonathan Papir\"],\n",
    "              [2,  [],      \"Purple sharks are great\"]],\n",
    "            columns=['price', 'price_list', 'post_text'])\n",
    "\n",
    "# Calculate similarities between rows\n",
    "# and save corresponding indexes in a new column \"match\"\n",
    "test_df[\"match\"] = test_df[\"post_text\"].map(\n",
    "    lambda x: [\n",
    "        i\n",
    "        for i, text in enumerate(test_df[\"post_text\"])\n",
    "        if textdistance.jaro_winkler(x, text) >= 0.7\n",
    "    ]\n",
    ")\n",
    "\n",
    "# Iterate to remove similar rows (keeping only the first one)\n",
    "indices = []\n",
    "for i, row in test_df.iterrows():\n",
    "    indices.append(i)\n",
    "    drop_idx = []\n",
    "    for item in row['match']:\n",
    "        if item not in indices:\n",
    "            drop_idx.append(item)\n",
    "    test_df = test_df.drop(index=drop_idx, errors=\"ignore\")"
   ]
  },
  {
   "cell_type": "code",
   "execution_count": 212,
   "id": "2782a2f7-15d9-431e-9d6d-142701628d32",
   "metadata": {},
   "outputs": [
    {
     "data": {
      "text/html": [
       "<div>\n",
       "<style scoped>\n",
       "    .dataframe tbody tr th:only-of-type {\n",
       "        vertical-align: middle;\n",
       "    }\n",
       "\n",
       "    .dataframe tbody tr th {\n",
       "        vertical-align: top;\n",
       "    }\n",
       "\n",
       "    .dataframe thead th {\n",
       "        text-align: right;\n",
       "    }\n",
       "</style>\n",
       "<table border=\"1\" class=\"dataframe\">\n",
       "  <thead>\n",
       "    <tr style=\"text-align: right;\">\n",
       "      <th></th>\n",
       "      <th>price</th>\n",
       "      <th>price_list</th>\n",
       "      <th>post_text</th>\n",
       "      <th>match</th>\n",
       "    </tr>\n",
       "  </thead>\n",
       "  <tbody>\n",
       "    <tr>\n",
       "      <th>0</th>\n",
       "      <td>90</td>\n",
       "      <td>[1, 2, 3]</td>\n",
       "      <td>This is my text</td>\n",
       "      <td>[0]</td>\n",
       "    </tr>\n",
       "    <tr>\n",
       "      <th>1</th>\n",
       "      <td>80</td>\n",
       "      <td>[4, 5]</td>\n",
       "      <td>I have too many goddamn cellphone</td>\n",
       "      <td>[1, 2]</td>\n",
       "    </tr>\n",
       "    <tr>\n",
       "      <th>3</th>\n",
       "      <td>60</td>\n",
       "      <td>[]</td>\n",
       "      <td>You have got to be kidding me</td>\n",
       "      <td>[3]</td>\n",
       "    </tr>\n",
       "    <tr>\n",
       "      <th>4</th>\n",
       "      <td>70</td>\n",
       "      <td>[1, 1, 1]</td>\n",
       "      <td>I'm not sure what you mean</td>\n",
       "      <td>[4, 5, 6]</td>\n",
       "    </tr>\n",
       "    <tr>\n",
       "      <th>7</th>\n",
       "      <td>0</td>\n",
       "      <td>[2, 3]</td>\n",
       "      <td>My name is Jonathan Papir</td>\n",
       "      <td>[7]</td>\n",
       "    </tr>\n",
       "    <tr>\n",
       "      <th>8</th>\n",
       "      <td>2</td>\n",
       "      <td>[]</td>\n",
       "      <td>Purple sharks are great</td>\n",
       "      <td>[8]</td>\n",
       "    </tr>\n",
       "  </tbody>\n",
       "</table>\n",
       "</div>"
      ],
      "text/plain": [
       "   price price_list                          post_text      match\n",
       "0     90  [1, 2, 3]                    This is my text        [0]\n",
       "1     80     [4, 5]  I have too many goddamn cellphone     [1, 2]\n",
       "3     60         []      You have got to be kidding me        [3]\n",
       "4     70  [1, 1, 1]         I'm not sure what you mean  [4, 5, 6]\n",
       "7      0     [2, 3]          My name is Jonathan Papir        [7]\n",
       "8      2         []            Purple sharks are great        [8]"
      ]
     },
     "execution_count": 212,
     "metadata": {},
     "output_type": "execute_result"
    }
   ],
   "source": [
    "test_df"
   ]
  },
  {
   "cell_type": "code",
   "execution_count": null,
   "id": "d6450aaa-bd36-44d7-b215-56ba5acfb49e",
   "metadata": {},
   "outputs": [],
   "source": []
  },
  {
   "cell_type": "code",
   "execution_count": null,
   "id": "831f186f-fda9-4c48-a2cd-645db9f36cf8",
   "metadata": {},
   "outputs": [],
   "source": []
  },
  {
   "cell_type": "code",
   "execution_count": 174,
   "id": "612614ee-4379-4c1e-af93-9ec44e4706f8",
   "metadata": {},
   "outputs": [
    {
     "data": {
      "text/html": [
       "<div>\n",
       "<style scoped>\n",
       "    .dataframe tbody tr th:only-of-type {\n",
       "        vertical-align: middle;\n",
       "    }\n",
       "\n",
       "    .dataframe tbody tr th {\n",
       "        vertical-align: top;\n",
       "    }\n",
       "\n",
       "    .dataframe thead th {\n",
       "        text-align: right;\n",
       "    }\n",
       "</style>\n",
       "<table border=\"1\" class=\"dataframe\">\n",
       "  <thead>\n",
       "    <tr style=\"text-align: right;\">\n",
       "      <th></th>\n",
       "      <th>price_list</th>\n",
       "      <th>post_text</th>\n",
       "    </tr>\n",
       "  </thead>\n",
       "  <tbody>\n",
       "    <tr>\n",
       "      <th>0</th>\n",
       "      <td>['$90', '$60', '$40']</td>\n",
       "      <td>\\n\\n\\n\\n\\nDon't wait to get a tutor! This appl...</td>\n",
       "    </tr>\n",
       "    <tr>\n",
       "      <th>1</th>\n",
       "      <td>['$30', '$35', '$45']</td>\n",
       "      <td>\\n\\n\\n\\n\\nFeel free to text me at 909-640-3570...</td>\n",
       "    </tr>\n",
       "    <tr>\n",
       "      <th>2</th>\n",
       "      <td>['$40', '$40', '$45', '$45']</td>\n",
       "      <td>\\n\\n\\n\\n\\n!!** ALL SUBJECTS PROFESSIONAL TUTOR...</td>\n",
       "    </tr>\n",
       "    <tr>\n",
       "      <th>3</th>\n",
       "      <td>['$30', '$30', '$60', '$90']</td>\n",
       "      <td>\\n\\n\\n\\n\\nExperienced, qualified Middle School...</td>\n",
       "    </tr>\n",
       "    <tr>\n",
       "      <th>4</th>\n",
       "      <td>['$60', '$50', '$100']</td>\n",
       "      <td>\\n\\n\\n\\n\\nI have been doing mathematics tutori...</td>\n",
       "    </tr>\n",
       "    <tr>\n",
       "      <th>5</th>\n",
       "      <td>['$100', '$115', '$130', '$65', '$30', '$60']</td>\n",
       "      <td>\\n\\n\\n\\n\\nLearn better, faster - and have more...</td>\n",
       "    </tr>\n",
       "    <tr>\n",
       "      <th>6</th>\n",
       "      <td>['$40', '$40', '$40', '$40', '$40']</td>\n",
       "      <td>\\n\\n\\n\\n\\n★★ College Math Tutor★ Calculus I ,I...</td>\n",
       "    </tr>\n",
       "    <tr>\n",
       "      <th>7</th>\n",
       "      <td>['$50', '$10', '$50']</td>\n",
       "      <td>\\n\\n\\n\\n\\nTutoring rate. $50/hr, Group Rate, $...</td>\n",
       "    </tr>\n",
       "    <tr>\n",
       "      <th>8</th>\n",
       "      <td>['$50', '$10', '$50']</td>\n",
       "      <td>\\n\\n\\n\\n\\nTutoring rate. $50/hr, Group Rate, $...</td>\n",
       "    </tr>\n",
       "    <tr>\n",
       "      <th>9</th>\n",
       "      <td>['$50', '$100', '$135']</td>\n",
       "      <td>\\n\\n\\n\\n\\nI hope everything is fine and I am g...</td>\n",
       "    </tr>\n",
       "    <tr>\n",
       "      <th>10</th>\n",
       "      <td>['$30', '$35', '$45']</td>\n",
       "      <td>\\n\\n\\n\\n\\nFeel free to text me at 909-640-3570...</td>\n",
       "    </tr>\n",
       "    <tr>\n",
       "      <th>11</th>\n",
       "      <td>['$30', '$50', '$500', '$900', '$60']</td>\n",
       "      <td>\\n\\n\\n\\n\\nVirtual Tutoring!\\n\\nHi! I'm Sam. I'...</td>\n",
       "    </tr>\n",
       "    <tr>\n",
       "      <th>12</th>\n",
       "      <td>['$40', '$80', '$40', '$10', '$40', '$30', '$4...</td>\n",
       "      <td>\\n\\n\\n\\n\\nNEED A PRIVATE TUTOR?\\n$40/hour for ...</td>\n",
       "    </tr>\n",
       "    <tr>\n",
       "      <th>13</th>\n",
       "      <td>['$90', '$60', '$40']</td>\n",
       "      <td>\\n\\n\\n\\n\\nDon't wait to get a tutor! This appl...</td>\n",
       "    </tr>\n",
       "    <tr>\n",
       "      <th>14</th>\n",
       "      <td>['$25', '$45', '$25']</td>\n",
       "      <td>\\n\\n\\n\\n\\nI'm a professional, NTA certified ma...</td>\n",
       "    </tr>\n",
       "    <tr>\n",
       "      <th>15</th>\n",
       "      <td>['$35', '$35', '$40', '$40', '$55', '$80']</td>\n",
       "      <td>\\n\\n\\n\\n\\nHello,\\n\\nI am an engineering workin...</td>\n",
       "    </tr>\n",
       "    <tr>\n",
       "      <th>16</th>\n",
       "      <td>['$35', '$35', '$40', '$40', '$55', '$80']</td>\n",
       "      <td>\\n\\n\\n\\n\\nHello, \\n\\nI am an engineering worki...</td>\n",
       "    </tr>\n",
       "    <tr>\n",
       "      <th>17</th>\n",
       "      <td>['$40', '$40', '$40', '$40', '$40']</td>\n",
       "      <td>\\n\\n\\n\\n\\n★★ College Math Tutor★ Calculus I ,I...</td>\n",
       "    </tr>\n",
       "    <tr>\n",
       "      <th>18</th>\n",
       "      <td>['$45', '$55', '$40', '$50']</td>\n",
       "      <td>\\n\\n\\n\\n\\nFormer UC-Berkeley economics Ph.D. s...</td>\n",
       "    </tr>\n",
       "    <tr>\n",
       "      <th>19</th>\n",
       "      <td>['$65', '$55', '$55']</td>\n",
       "      <td>\\n\\n\\n\\n\\nPark Tutoring \\n\\n\\nOne on One Tutor...</td>\n",
       "    </tr>\n",
       "    <tr>\n",
       "      <th>20</th>\n",
       "      <td>['$200', '$60,000', '$240,000']</td>\n",
       "      <td>\\n\\n\\n\\n\\ncheck out my website!\\nmd-maker.com\\...</td>\n",
       "    </tr>\n",
       "    <tr>\n",
       "      <th>21</th>\n",
       "      <td>['$20', '$25', '$30', '$30']</td>\n",
       "      <td>\\n\\n\\n\\n\\nPlease visit us at www.sharpmindclas...</td>\n",
       "    </tr>\n",
       "    <tr>\n",
       "      <th>22</th>\n",
       "      <td>['$65', '$55', '$55']</td>\n",
       "      <td>\\n\\n\\n\\n\\nPark Tutoring \\n\\n\\nOne on One Tutor...</td>\n",
       "    </tr>\n",
       "  </tbody>\n",
       "</table>\n",
       "</div>"
      ],
      "text/plain": [
       "                                           price_list  \\\n",
       "0                               ['$90', '$60', '$40']   \n",
       "1                               ['$30', '$35', '$45']   \n",
       "2                        ['$40', '$40', '$45', '$45']   \n",
       "3                        ['$30', '$30', '$60', '$90']   \n",
       "4                              ['$60', '$50', '$100']   \n",
       "5       ['$100', '$115', '$130', '$65', '$30', '$60']   \n",
       "6                 ['$40', '$40', '$40', '$40', '$40']   \n",
       "7                               ['$50', '$10', '$50']   \n",
       "8                               ['$50', '$10', '$50']   \n",
       "9                             ['$50', '$100', '$135']   \n",
       "10                              ['$30', '$35', '$45']   \n",
       "11              ['$30', '$50', '$500', '$900', '$60']   \n",
       "12  ['$40', '$80', '$40', '$10', '$40', '$30', '$4...   \n",
       "13                              ['$90', '$60', '$40']   \n",
       "14                              ['$25', '$45', '$25']   \n",
       "15         ['$35', '$35', '$40', '$40', '$55', '$80']   \n",
       "16         ['$35', '$35', '$40', '$40', '$55', '$80']   \n",
       "17                ['$40', '$40', '$40', '$40', '$40']   \n",
       "18                       ['$45', '$55', '$40', '$50']   \n",
       "19                              ['$65', '$55', '$55']   \n",
       "20                    ['$200', '$60,000', '$240,000']   \n",
       "21                       ['$20', '$25', '$30', '$30']   \n",
       "22                              ['$65', '$55', '$55']   \n",
       "\n",
       "                                            post_text  \n",
       "0   \\n\\n\\n\\n\\nDon't wait to get a tutor! This appl...  \n",
       "1   \\n\\n\\n\\n\\nFeel free to text me at 909-640-3570...  \n",
       "2   \\n\\n\\n\\n\\n!!** ALL SUBJECTS PROFESSIONAL TUTOR...  \n",
       "3   \\n\\n\\n\\n\\nExperienced, qualified Middle School...  \n",
       "4   \\n\\n\\n\\n\\nI have been doing mathematics tutori...  \n",
       "5   \\n\\n\\n\\n\\nLearn better, faster - and have more...  \n",
       "6   \\n\\n\\n\\n\\n★★ College Math Tutor★ Calculus I ,I...  \n",
       "7   \\n\\n\\n\\n\\nTutoring rate. $50/hr, Group Rate, $...  \n",
       "8   \\n\\n\\n\\n\\nTutoring rate. $50/hr, Group Rate, $...  \n",
       "9   \\n\\n\\n\\n\\nI hope everything is fine and I am g...  \n",
       "10  \\n\\n\\n\\n\\nFeel free to text me at 909-640-3570...  \n",
       "11  \\n\\n\\n\\n\\nVirtual Tutoring!\\n\\nHi! I'm Sam. I'...  \n",
       "12  \\n\\n\\n\\n\\nNEED A PRIVATE TUTOR?\\n$40/hour for ...  \n",
       "13  \\n\\n\\n\\n\\nDon't wait to get a tutor! This appl...  \n",
       "14  \\n\\n\\n\\n\\nI'm a professional, NTA certified ma...  \n",
       "15  \\n\\n\\n\\n\\nHello,\\n\\nI am an engineering workin...  \n",
       "16  \\n\\n\\n\\n\\nHello, \\n\\nI am an engineering worki...  \n",
       "17  \\n\\n\\n\\n\\n★★ College Math Tutor★ Calculus I ,I...  \n",
       "18  \\n\\n\\n\\n\\nFormer UC-Berkeley economics Ph.D. s...  \n",
       "19  \\n\\n\\n\\n\\nPark Tutoring \\n\\n\\nOne on One Tutor...  \n",
       "20  \\n\\n\\n\\n\\ncheck out my website!\\nmd-maker.com\\...  \n",
       "21  \\n\\n\\n\\n\\nPlease visit us at www.sharpmindclas...  \n",
       "22  \\n\\n\\n\\n\\nPark Tutoring \\n\\n\\nOne on One Tutor...  "
      ]
     },
     "execution_count": 174,
     "metadata": {},
     "output_type": "execute_result"
    }
   ],
   "source": [
    "duplicate_df = pd.read_csv('./duplicate_posts.csv')\n",
    "duplicate_df"
   ]
  },
  {
   "cell_type": "code",
   "execution_count": 176,
   "id": "ff9b8917-9b84-464b-87d0-06189a9708dd",
   "metadata": {},
   "outputs": [],
   "source": [
    "import textdistance\n",
    "# Calculate similarities between rows\n",
    "# and save corresponding indexes in a new column \"match\"\n",
    "duplicate_df[\"match\"] = duplicate_df[\"post_text\"].map(\n",
    "    lambda x: [\n",
    "        i\n",
    "        for i, text in enumerate(duplicate_df[\"post_text\"])\n",
    "        if textdistance.jaro_winkler(x, text) >= 0.9\n",
    "    ]\n",
    ")\n",
    "\n",
    "# Iterate to remove similar rows (keeping only the first one)\n",
    "indices = []\n",
    "for i, row in duplicate_df.iterrows():\n",
    "    print(i)\n",
    "    indices.append(i)\n",
    "    duplicate_df = duplicate_df.drop(\n",
    "        index=[item for item in row[\"match\"] if item not in indices], errors=\"ignore\"\n",
    "    )"
   ]
  },
  {
   "cell_type": "code",
   "execution_count": 177,
   "id": "25a7493f-9fa4-4213-8f44-94c5674e3ad5",
   "metadata": {},
   "outputs": [
    {
     "data": {
      "text/html": [
       "<div>\n",
       "<style scoped>\n",
       "    .dataframe tbody tr th:only-of-type {\n",
       "        vertical-align: middle;\n",
       "    }\n",
       "\n",
       "    .dataframe tbody tr th {\n",
       "        vertical-align: top;\n",
       "    }\n",
       "\n",
       "    .dataframe thead th {\n",
       "        text-align: right;\n",
       "    }\n",
       "</style>\n",
       "<table border=\"1\" class=\"dataframe\">\n",
       "  <thead>\n",
       "    <tr style=\"text-align: right;\">\n",
       "      <th></th>\n",
       "      <th>price_list</th>\n",
       "      <th>post_text</th>\n",
       "      <th>match</th>\n",
       "    </tr>\n",
       "  </thead>\n",
       "  <tbody>\n",
       "    <tr>\n",
       "      <th>0</th>\n",
       "      <td>['$90', '$60', '$40']</td>\n",
       "      <td>\\n\\n\\n\\n\\nDon't wait to get a tutor! This appl...</td>\n",
       "      <td>[0, 13]</td>\n",
       "    </tr>\n",
       "    <tr>\n",
       "      <th>1</th>\n",
       "      <td>['$30', '$35', '$45']</td>\n",
       "      <td>\\n\\n\\n\\n\\nFeel free to text me at 909-640-3570...</td>\n",
       "      <td>[1, 10]</td>\n",
       "    </tr>\n",
       "    <tr>\n",
       "      <th>2</th>\n",
       "      <td>['$40', '$40', '$45', '$45']</td>\n",
       "      <td>\\n\\n\\n\\n\\n!!** ALL SUBJECTS PROFESSIONAL TUTOR...</td>\n",
       "      <td>[2]</td>\n",
       "    </tr>\n",
       "    <tr>\n",
       "      <th>3</th>\n",
       "      <td>['$30', '$30', '$60', '$90']</td>\n",
       "      <td>\\n\\n\\n\\n\\nExperienced, qualified Middle School...</td>\n",
       "      <td>[3]</td>\n",
       "    </tr>\n",
       "    <tr>\n",
       "      <th>4</th>\n",
       "      <td>['$60', '$50', '$100']</td>\n",
       "      <td>\\n\\n\\n\\n\\nI have been doing mathematics tutori...</td>\n",
       "      <td>[4]</td>\n",
       "    </tr>\n",
       "    <tr>\n",
       "      <th>5</th>\n",
       "      <td>['$100', '$115', '$130', '$65', '$30', '$60']</td>\n",
       "      <td>\\n\\n\\n\\n\\nLearn better, faster - and have more...</td>\n",
       "      <td>[5]</td>\n",
       "    </tr>\n",
       "    <tr>\n",
       "      <th>6</th>\n",
       "      <td>['$40', '$40', '$40', '$40', '$40']</td>\n",
       "      <td>\\n\\n\\n\\n\\n★★ College Math Tutor★ Calculus I ,I...</td>\n",
       "      <td>[6, 17]</td>\n",
       "    </tr>\n",
       "    <tr>\n",
       "      <th>7</th>\n",
       "      <td>['$50', '$10', '$50']</td>\n",
       "      <td>\\n\\n\\n\\n\\nTutoring rate. $50/hr, Group Rate, $...</td>\n",
       "      <td>[7, 8]</td>\n",
       "    </tr>\n",
       "    <tr>\n",
       "      <th>8</th>\n",
       "      <td>['$50', '$10', '$50']</td>\n",
       "      <td>\\n\\n\\n\\n\\nTutoring rate. $50/hr, Group Rate, $...</td>\n",
       "      <td>[7, 8]</td>\n",
       "    </tr>\n",
       "    <tr>\n",
       "      <th>9</th>\n",
       "      <td>['$50', '$100', '$135']</td>\n",
       "      <td>\\n\\n\\n\\n\\nI hope everything is fine and I am g...</td>\n",
       "      <td>[9]</td>\n",
       "    </tr>\n",
       "    <tr>\n",
       "      <th>10</th>\n",
       "      <td>['$30', '$35', '$45']</td>\n",
       "      <td>\\n\\n\\n\\n\\nFeel free to text me at 909-640-3570...</td>\n",
       "      <td>[1, 10]</td>\n",
       "    </tr>\n",
       "    <tr>\n",
       "      <th>11</th>\n",
       "      <td>['$30', '$50', '$500', '$900', '$60']</td>\n",
       "      <td>\\n\\n\\n\\n\\nVirtual Tutoring!\\n\\nHi! I'm Sam. I'...</td>\n",
       "      <td>[11]</td>\n",
       "    </tr>\n",
       "    <tr>\n",
       "      <th>12</th>\n",
       "      <td>['$40', '$80', '$40', '$10', '$40', '$30', '$4...</td>\n",
       "      <td>\\n\\n\\n\\n\\nNEED A PRIVATE TUTOR?\\n$40/hour for ...</td>\n",
       "      <td>[12]</td>\n",
       "    </tr>\n",
       "    <tr>\n",
       "      <th>13</th>\n",
       "      <td>['$90', '$60', '$40']</td>\n",
       "      <td>\\n\\n\\n\\n\\nDon't wait to get a tutor! This appl...</td>\n",
       "      <td>[0, 13]</td>\n",
       "    </tr>\n",
       "    <tr>\n",
       "      <th>14</th>\n",
       "      <td>['$25', '$45', '$25']</td>\n",
       "      <td>\\n\\n\\n\\n\\nI'm a professional, NTA certified ma...</td>\n",
       "      <td>[14]</td>\n",
       "    </tr>\n",
       "    <tr>\n",
       "      <th>15</th>\n",
       "      <td>['$35', '$35', '$40', '$40', '$55', '$80']</td>\n",
       "      <td>\\n\\n\\n\\n\\nHello,\\n\\nI am an engineering workin...</td>\n",
       "      <td>[15, 16]</td>\n",
       "    </tr>\n",
       "    <tr>\n",
       "      <th>16</th>\n",
       "      <td>['$35', '$35', '$40', '$40', '$55', '$80']</td>\n",
       "      <td>\\n\\n\\n\\n\\nHello, \\n\\nI am an engineering worki...</td>\n",
       "      <td>[15, 16]</td>\n",
       "    </tr>\n",
       "    <tr>\n",
       "      <th>17</th>\n",
       "      <td>['$40', '$40', '$40', '$40', '$40']</td>\n",
       "      <td>\\n\\n\\n\\n\\n★★ College Math Tutor★ Calculus I ,I...</td>\n",
       "      <td>[6, 17]</td>\n",
       "    </tr>\n",
       "    <tr>\n",
       "      <th>18</th>\n",
       "      <td>['$45', '$55', '$40', '$50']</td>\n",
       "      <td>\\n\\n\\n\\n\\nFormer UC-Berkeley economics Ph.D. s...</td>\n",
       "      <td>[18]</td>\n",
       "    </tr>\n",
       "    <tr>\n",
       "      <th>19</th>\n",
       "      <td>['$65', '$55', '$55']</td>\n",
       "      <td>\\n\\n\\n\\n\\nPark Tutoring \\n\\n\\nOne on One Tutor...</td>\n",
       "      <td>[19, 22]</td>\n",
       "    </tr>\n",
       "    <tr>\n",
       "      <th>20</th>\n",
       "      <td>['$200', '$60,000', '$240,000']</td>\n",
       "      <td>\\n\\n\\n\\n\\ncheck out my website!\\nmd-maker.com\\...</td>\n",
       "      <td>[20]</td>\n",
       "    </tr>\n",
       "    <tr>\n",
       "      <th>21</th>\n",
       "      <td>['$20', '$25', '$30', '$30']</td>\n",
       "      <td>\\n\\n\\n\\n\\nPlease visit us at www.sharpmindclas...</td>\n",
       "      <td>[21]</td>\n",
       "    </tr>\n",
       "    <tr>\n",
       "      <th>22</th>\n",
       "      <td>['$65', '$55', '$55']</td>\n",
       "      <td>\\n\\n\\n\\n\\nPark Tutoring \\n\\n\\nOne on One Tutor...</td>\n",
       "      <td>[19, 22]</td>\n",
       "    </tr>\n",
       "  </tbody>\n",
       "</table>\n",
       "</div>"
      ],
      "text/plain": [
       "                                           price_list  \\\n",
       "0                               ['$90', '$60', '$40']   \n",
       "1                               ['$30', '$35', '$45']   \n",
       "2                        ['$40', '$40', '$45', '$45']   \n",
       "3                        ['$30', '$30', '$60', '$90']   \n",
       "4                              ['$60', '$50', '$100']   \n",
       "5       ['$100', '$115', '$130', '$65', '$30', '$60']   \n",
       "6                 ['$40', '$40', '$40', '$40', '$40']   \n",
       "7                               ['$50', '$10', '$50']   \n",
       "8                               ['$50', '$10', '$50']   \n",
       "9                             ['$50', '$100', '$135']   \n",
       "10                              ['$30', '$35', '$45']   \n",
       "11              ['$30', '$50', '$500', '$900', '$60']   \n",
       "12  ['$40', '$80', '$40', '$10', '$40', '$30', '$4...   \n",
       "13                              ['$90', '$60', '$40']   \n",
       "14                              ['$25', '$45', '$25']   \n",
       "15         ['$35', '$35', '$40', '$40', '$55', '$80']   \n",
       "16         ['$35', '$35', '$40', '$40', '$55', '$80']   \n",
       "17                ['$40', '$40', '$40', '$40', '$40']   \n",
       "18                       ['$45', '$55', '$40', '$50']   \n",
       "19                              ['$65', '$55', '$55']   \n",
       "20                    ['$200', '$60,000', '$240,000']   \n",
       "21                       ['$20', '$25', '$30', '$30']   \n",
       "22                              ['$65', '$55', '$55']   \n",
       "\n",
       "                                            post_text     match  \n",
       "0   \\n\\n\\n\\n\\nDon't wait to get a tutor! This appl...   [0, 13]  \n",
       "1   \\n\\n\\n\\n\\nFeel free to text me at 909-640-3570...   [1, 10]  \n",
       "2   \\n\\n\\n\\n\\n!!** ALL SUBJECTS PROFESSIONAL TUTOR...       [2]  \n",
       "3   \\n\\n\\n\\n\\nExperienced, qualified Middle School...       [3]  \n",
       "4   \\n\\n\\n\\n\\nI have been doing mathematics tutori...       [4]  \n",
       "5   \\n\\n\\n\\n\\nLearn better, faster - and have more...       [5]  \n",
       "6   \\n\\n\\n\\n\\n★★ College Math Tutor★ Calculus I ,I...   [6, 17]  \n",
       "7   \\n\\n\\n\\n\\nTutoring rate. $50/hr, Group Rate, $...    [7, 8]  \n",
       "8   \\n\\n\\n\\n\\nTutoring rate. $50/hr, Group Rate, $...    [7, 8]  \n",
       "9   \\n\\n\\n\\n\\nI hope everything is fine and I am g...       [9]  \n",
       "10  \\n\\n\\n\\n\\nFeel free to text me at 909-640-3570...   [1, 10]  \n",
       "11  \\n\\n\\n\\n\\nVirtual Tutoring!\\n\\nHi! I'm Sam. I'...      [11]  \n",
       "12  \\n\\n\\n\\n\\nNEED A PRIVATE TUTOR?\\n$40/hour for ...      [12]  \n",
       "13  \\n\\n\\n\\n\\nDon't wait to get a tutor! This appl...   [0, 13]  \n",
       "14  \\n\\n\\n\\n\\nI'm a professional, NTA certified ma...      [14]  \n",
       "15  \\n\\n\\n\\n\\nHello,\\n\\nI am an engineering workin...  [15, 16]  \n",
       "16  \\n\\n\\n\\n\\nHello, \\n\\nI am an engineering worki...  [15, 16]  \n",
       "17  \\n\\n\\n\\n\\n★★ College Math Tutor★ Calculus I ,I...   [6, 17]  \n",
       "18  \\n\\n\\n\\n\\nFormer UC-Berkeley economics Ph.D. s...      [18]  \n",
       "19  \\n\\n\\n\\n\\nPark Tutoring \\n\\n\\nOne on One Tutor...  [19, 22]  \n",
       "20  \\n\\n\\n\\n\\ncheck out my website!\\nmd-maker.com\\...      [20]  \n",
       "21  \\n\\n\\n\\n\\nPlease visit us at www.sharpmindclas...      [21]  \n",
       "22  \\n\\n\\n\\n\\nPark Tutoring \\n\\n\\nOne on One Tutor...  [19, 22]  "
      ]
     },
     "execution_count": 177,
     "metadata": {},
     "output_type": "execute_result"
    }
   ],
   "source": [
    "duplicate_df"
   ]
  },
  {
   "cell_type": "code",
   "execution_count": 178,
   "id": "c307064a-9ada-453c-9baf-d7ab73561709",
   "metadata": {
    "collapsed": true,
    "jupyter": {
     "outputs_hidden": true
    },
    "tags": []
   },
   "outputs": [
    {
     "name": "stdout",
     "output_type": "stream",
     "text": [
      "0\n",
      "1\n",
      "2\n",
      "3\n",
      "4\n",
      "5\n",
      "6\n",
      "7\n",
      "8\n",
      "9\n",
      "10\n",
      "11\n",
      "12\n",
      "13\n",
      "14\n",
      "15\n",
      "16\n",
      "17\n",
      "18\n",
      "19\n",
      "20\n",
      "21\n",
      "22\n"
     ]
    }
   ],
   "source": [
    "indices = []\n",
    "for i, row in duplicate_df.iterrows():\n",
    "    print(i)\n",
    "    indices.append(i)\n",
    "    duplicate_df = duplicate_df.drop(\n",
    "        index=[item for item in row[\"match\"] if item not in indices], errors=\"ignore\"\n",
    "    )"
   ]
  },
  {
   "cell_type": "code",
   "execution_count": 179,
   "id": "d424c50b-ecc2-44ff-b97c-720d30384c08",
   "metadata": {},
   "outputs": [
    {
     "data": {
      "text/html": [
       "<div>\n",
       "<style scoped>\n",
       "    .dataframe tbody tr th:only-of-type {\n",
       "        vertical-align: middle;\n",
       "    }\n",
       "\n",
       "    .dataframe tbody tr th {\n",
       "        vertical-align: top;\n",
       "    }\n",
       "\n",
       "    .dataframe thead th {\n",
       "        text-align: right;\n",
       "    }\n",
       "</style>\n",
       "<table border=\"1\" class=\"dataframe\">\n",
       "  <thead>\n",
       "    <tr style=\"text-align: right;\">\n",
       "      <th></th>\n",
       "      <th>price_list</th>\n",
       "      <th>post_text</th>\n",
       "      <th>match</th>\n",
       "    </tr>\n",
       "  </thead>\n",
       "  <tbody>\n",
       "    <tr>\n",
       "      <th>0</th>\n",
       "      <td>['$90', '$60', '$40']</td>\n",
       "      <td>\\n\\n\\n\\n\\nDon't wait to get a tutor! This appl...</td>\n",
       "      <td>[0, 13]</td>\n",
       "    </tr>\n",
       "    <tr>\n",
       "      <th>1</th>\n",
       "      <td>['$30', '$35', '$45']</td>\n",
       "      <td>\\n\\n\\n\\n\\nFeel free to text me at 909-640-3570...</td>\n",
       "      <td>[1, 10]</td>\n",
       "    </tr>\n",
       "    <tr>\n",
       "      <th>2</th>\n",
       "      <td>['$40', '$40', '$45', '$45']</td>\n",
       "      <td>\\n\\n\\n\\n\\n!!** ALL SUBJECTS PROFESSIONAL TUTOR...</td>\n",
       "      <td>[2]</td>\n",
       "    </tr>\n",
       "    <tr>\n",
       "      <th>3</th>\n",
       "      <td>['$30', '$30', '$60', '$90']</td>\n",
       "      <td>\\n\\n\\n\\n\\nExperienced, qualified Middle School...</td>\n",
       "      <td>[3]</td>\n",
       "    </tr>\n",
       "    <tr>\n",
       "      <th>4</th>\n",
       "      <td>['$60', '$50', '$100']</td>\n",
       "      <td>\\n\\n\\n\\n\\nI have been doing mathematics tutori...</td>\n",
       "      <td>[4]</td>\n",
       "    </tr>\n",
       "    <tr>\n",
       "      <th>5</th>\n",
       "      <td>['$100', '$115', '$130', '$65', '$30', '$60']</td>\n",
       "      <td>\\n\\n\\n\\n\\nLearn better, faster - and have more...</td>\n",
       "      <td>[5]</td>\n",
       "    </tr>\n",
       "    <tr>\n",
       "      <th>6</th>\n",
       "      <td>['$40', '$40', '$40', '$40', '$40']</td>\n",
       "      <td>\\n\\n\\n\\n\\n★★ College Math Tutor★ Calculus I ,I...</td>\n",
       "      <td>[6, 17]</td>\n",
       "    </tr>\n",
       "    <tr>\n",
       "      <th>7</th>\n",
       "      <td>['$50', '$10', '$50']</td>\n",
       "      <td>\\n\\n\\n\\n\\nTutoring rate. $50/hr, Group Rate, $...</td>\n",
       "      <td>[7, 8]</td>\n",
       "    </tr>\n",
       "    <tr>\n",
       "      <th>9</th>\n",
       "      <td>['$50', '$100', '$135']</td>\n",
       "      <td>\\n\\n\\n\\n\\nI hope everything is fine and I am g...</td>\n",
       "      <td>[9]</td>\n",
       "    </tr>\n",
       "    <tr>\n",
       "      <th>11</th>\n",
       "      <td>['$30', '$50', '$500', '$900', '$60']</td>\n",
       "      <td>\\n\\n\\n\\n\\nVirtual Tutoring!\\n\\nHi! I'm Sam. I'...</td>\n",
       "      <td>[11]</td>\n",
       "    </tr>\n",
       "    <tr>\n",
       "      <th>12</th>\n",
       "      <td>['$40', '$80', '$40', '$10', '$40', '$30', '$4...</td>\n",
       "      <td>\\n\\n\\n\\n\\nNEED A PRIVATE TUTOR?\\n$40/hour for ...</td>\n",
       "      <td>[12]</td>\n",
       "    </tr>\n",
       "    <tr>\n",
       "      <th>14</th>\n",
       "      <td>['$25', '$45', '$25']</td>\n",
       "      <td>\\n\\n\\n\\n\\nI'm a professional, NTA certified ma...</td>\n",
       "      <td>[14]</td>\n",
       "    </tr>\n",
       "    <tr>\n",
       "      <th>15</th>\n",
       "      <td>['$35', '$35', '$40', '$40', '$55', '$80']</td>\n",
       "      <td>\\n\\n\\n\\n\\nHello,\\n\\nI am an engineering workin...</td>\n",
       "      <td>[15, 16]</td>\n",
       "    </tr>\n",
       "    <tr>\n",
       "      <th>18</th>\n",
       "      <td>['$45', '$55', '$40', '$50']</td>\n",
       "      <td>\\n\\n\\n\\n\\nFormer UC-Berkeley economics Ph.D. s...</td>\n",
       "      <td>[18]</td>\n",
       "    </tr>\n",
       "    <tr>\n",
       "      <th>19</th>\n",
       "      <td>['$65', '$55', '$55']</td>\n",
       "      <td>\\n\\n\\n\\n\\nPark Tutoring \\n\\n\\nOne on One Tutor...</td>\n",
       "      <td>[19, 22]</td>\n",
       "    </tr>\n",
       "    <tr>\n",
       "      <th>20</th>\n",
       "      <td>['$200', '$60,000', '$240,000']</td>\n",
       "      <td>\\n\\n\\n\\n\\ncheck out my website!\\nmd-maker.com\\...</td>\n",
       "      <td>[20]</td>\n",
       "    </tr>\n",
       "    <tr>\n",
       "      <th>21</th>\n",
       "      <td>['$20', '$25', '$30', '$30']</td>\n",
       "      <td>\\n\\n\\n\\n\\nPlease visit us at www.sharpmindclas...</td>\n",
       "      <td>[21]</td>\n",
       "    </tr>\n",
       "  </tbody>\n",
       "</table>\n",
       "</div>"
      ],
      "text/plain": [
       "                                           price_list  \\\n",
       "0                               ['$90', '$60', '$40']   \n",
       "1                               ['$30', '$35', '$45']   \n",
       "2                        ['$40', '$40', '$45', '$45']   \n",
       "3                        ['$30', '$30', '$60', '$90']   \n",
       "4                              ['$60', '$50', '$100']   \n",
       "5       ['$100', '$115', '$130', '$65', '$30', '$60']   \n",
       "6                 ['$40', '$40', '$40', '$40', '$40']   \n",
       "7                               ['$50', '$10', '$50']   \n",
       "9                             ['$50', '$100', '$135']   \n",
       "11              ['$30', '$50', '$500', '$900', '$60']   \n",
       "12  ['$40', '$80', '$40', '$10', '$40', '$30', '$4...   \n",
       "14                              ['$25', '$45', '$25']   \n",
       "15         ['$35', '$35', '$40', '$40', '$55', '$80']   \n",
       "18                       ['$45', '$55', '$40', '$50']   \n",
       "19                              ['$65', '$55', '$55']   \n",
       "20                    ['$200', '$60,000', '$240,000']   \n",
       "21                       ['$20', '$25', '$30', '$30']   \n",
       "\n",
       "                                            post_text     match  \n",
       "0   \\n\\n\\n\\n\\nDon't wait to get a tutor! This appl...   [0, 13]  \n",
       "1   \\n\\n\\n\\n\\nFeel free to text me at 909-640-3570...   [1, 10]  \n",
       "2   \\n\\n\\n\\n\\n!!** ALL SUBJECTS PROFESSIONAL TUTOR...       [2]  \n",
       "3   \\n\\n\\n\\n\\nExperienced, qualified Middle School...       [3]  \n",
       "4   \\n\\n\\n\\n\\nI have been doing mathematics tutori...       [4]  \n",
       "5   \\n\\n\\n\\n\\nLearn better, faster - and have more...       [5]  \n",
       "6   \\n\\n\\n\\n\\n★★ College Math Tutor★ Calculus I ,I...   [6, 17]  \n",
       "7   \\n\\n\\n\\n\\nTutoring rate. $50/hr, Group Rate, $...    [7, 8]  \n",
       "9   \\n\\n\\n\\n\\nI hope everything is fine and I am g...       [9]  \n",
       "11  \\n\\n\\n\\n\\nVirtual Tutoring!\\n\\nHi! I'm Sam. I'...      [11]  \n",
       "12  \\n\\n\\n\\n\\nNEED A PRIVATE TUTOR?\\n$40/hour for ...      [12]  \n",
       "14  \\n\\n\\n\\n\\nI'm a professional, NTA certified ma...      [14]  \n",
       "15  \\n\\n\\n\\n\\nHello,\\n\\nI am an engineering workin...  [15, 16]  \n",
       "18  \\n\\n\\n\\n\\nFormer UC-Berkeley economics Ph.D. s...      [18]  \n",
       "19  \\n\\n\\n\\n\\nPark Tutoring \\n\\n\\nOne on One Tutor...  [19, 22]  \n",
       "20  \\n\\n\\n\\n\\ncheck out my website!\\nmd-maker.com\\...      [20]  \n",
       "21  \\n\\n\\n\\n\\nPlease visit us at www.sharpmindclas...      [21]  "
      ]
     },
     "execution_count": 179,
     "metadata": {},
     "output_type": "execute_result"
    }
   ],
   "source": [
    "duplicate_df"
   ]
  },
  {
   "cell_type": "code",
   "execution_count": null,
   "id": "d9028e77-ab33-4952-9111-7e1759b02c5f",
   "metadata": {},
   "outputs": [],
   "source": [
    "import textdistance\n",
    "\n",
    "test_df = pd.DataFrame([[90, [1,2,3], 'This is my text'],\n",
    "              [80, [4, 5],  'I have too many goddamn cellphone'],\n",
    "              [70, []    ,  'I have too many goddamn cellphones'],\n",
    "              [60, []    ,  'You have got to be kidding me'],\n",
    "              [70, [1,1,1], \"I'm not sure what you mean\"],\n",
    "              [10, [],      \"I'm sure what you mean\"],\n",
    "              [0,  [1, 9],  \"I'm really not sure what you mean\"]],\n",
    "            columns=['price', 'price_list', 'post_text'])\n",
    "\n",
    "# Calculate similarities between rows\n",
    "# and save corresponding indexes in a new column \"match\"\n",
    "test_df[\"match\"] = test_df[\"post_text\"].map(\n",
    "    lambda x:\n",
    "        new_list = []\n",
    "        for i, text in enumerate(test_df[\"post_text\"]):\n",
    "            if textdistance.jaro_winkler(x, text) >= 0.7:\n",
    "                new_list.append(x)\n",
    ")\n",
    "\n",
    "# Iterate to remove similar rows (keeping only the first one)\n",
    "indices = []\n",
    "for i, row in test_df.iterrows():\n",
    "    indices.append(i)\n",
    "    test_df = test_df.drop(\n",
    "        index=[item for item in row[\"match\"] if item not in indices], errors=\"ignore\"\n",
    "    )"
   ]
  },
  {
   "cell_type": "code",
   "execution_count": null,
   "id": "c7e3447d-2055-4a6f-9cce-0d50602f14b4",
   "metadata": {},
   "outputs": [],
   "source": []
  }
 ],
 "metadata": {
  "kernelspec": {
   "display_name": "Python 3 (ipykernel)",
   "language": "python",
   "name": "python3"
  },
  "language_info": {
   "codemirror_mode": {
    "name": "ipython",
    "version": 3
   },
   "file_extension": ".py",
   "mimetype": "text/x-python",
   "name": "python",
   "nbconvert_exporter": "python",
   "pygments_lexer": "ipython3",
   "version": "3.9.9"
  }
 },
 "nbformat": 4,
 "nbformat_minor": 5
}
