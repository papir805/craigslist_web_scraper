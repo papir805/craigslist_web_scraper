{
 "cells": [
  {
   "cell_type": "code",
   "execution_count": 1,
   "id": "durable-uniform",
   "metadata": {},
   "outputs": [],
   "source": [
    "from requests import get\n",
    "from bs4 import BeautifulSoup\n",
    "import re\n",
    "import pandas as pd\n",
    "import numpy as np\n",
    "import datetime as dt\n",
    "import csv \n",
    "import psycopg2\n",
    "import time"
   ]
  },
  {
   "cell_type": "code",
   "execution_count": 2,
   "id": "equivalent-trinidad",
   "metadata": {},
   "outputs": [],
   "source": [
    "# Get HTML code we want to parse.  This HTML link is a search on Craigslist for the term \"math tutor\"\n",
    "\n",
    "current_region = 'dallas'\n",
    "\n",
    "response = get('https://dallas.craigslist.org/d/services/search/bbb?query=math%20tutor&sort=rel')\n",
    "\n",
    "# Parse as BeautifulSoup object using html.parser\n",
    "html_soup = BeautifulSoup(response.text, 'html.parser')\n",
    "\n",
    "# Find all posts to scrape relevant information from later\n",
    "posts = html_soup.find_all('li', class_='result-row')"
   ]
  },
  {
   "cell_type": "code",
   "execution_count": 3,
   "id": "amended-belfast",
   "metadata": {},
   "outputs": [
    {
     "data": {
      "text/plain": [
       "<a class=\"result-image gallery empty\" href=\"https://dallas.craigslist.org/dal/lss/d/dallas-thealert-mathtutor/7425156915.html\"></a>"
      ]
     },
     "execution_count": 3,
     "metadata": {},
     "output_type": "execute_result"
    }
   ],
   "source": [
    "# Figuring out how to get the link of each search result to scrape from\n",
    "post_one = posts[0]\n",
    "post_one.a"
   ]
  },
  {
   "cell_type": "code",
   "execution_count": 737,
   "id": "threaded-substance",
   "metadata": {},
   "outputs": [],
   "source": [
    "# Create a list of soup_objects to scrape from by storing them into memory.  This way we only have to do this once and Craigslist doesn't get mad at us (ban us) for sending too many https requests\n",
    "\n",
    "soup_objects_list = []\n",
    "link_list = []\n",
    "for post in posts:\n",
    "    current_link = post.a.get('href')\n",
    "    link_list.append(current_link)\n",
    "    response_object = get(current_link)\n",
    "    soup_object = BeautifulSoup(response_object.text, 'html.parser')\n",
    "    soup_objects_list.append(soup_object)"
   ]
  },
  {
   "cell_type": "code",
   "execution_count": 759,
   "id": "swiss-external",
   "metadata": {},
   "outputs": [],
   "source": [
    "# Initialize several lists to store relevant information for analysis\n",
    "price_list = []\n",
    "city_list = []\n",
    "datetime_list = []\n",
    "body_text_list = []\n",
    "subregion_list = []\n",
    "region_list = []\n",
    "\n",
    "\n",
    "# Walk through each soup object in the list\n",
    "for soup in soup_objects_list:\n",
    "    \n",
    "    # Extract region of Craigslist\n",
    "    # This will allow for comparison of prices across different\n",
    "    # states or metropolitan areas\n",
    "    ### We do this FIRST because Craigslist shows postings from neighboring areas as \n",
    "    ### the bottom of the search page.  If we compare the region against \n",
    "    ### current_region, it will ensure only the results from the region we care about \n",
    "    ### get into our dataframe later\n",
    "    region = soup.find_all('li',class_='crumb area')[0].find('a').get_text()\n",
    "    region = region.replace(' ', '_')\n",
    "    region = region.lower()\n",
    "    if region == current_region:\n",
    "        region_list.append(region)\n",
    "\n",
    "\n",
    "\n",
    "\n",
    "        # Get text of postingbody of the post and remove unwanted text\n",
    "        text = soup.find('section', id='postingbody').get_text()\n",
    "        text = text.replace('\\n', '')\n",
    "        text = text.replace(';', ',') # We do this so that we can use ; as a \n",
    "                                      # delimiter when copying data from a CSV file \n",
    "                                      # into a SQL database later\n",
    "        text = text.replace('QR Code Link to This Post', '') # We do this because this\n",
    "                                                             # text from one post in \n",
    "                                                             # particular was giving me \n",
    "                                                             # trouble and I couldn't  \n",
    "                                                             # figure out a better way to \n",
    "                                                             # handle it\n",
    "        body_text_list.append(text)\n",
    "\n",
    "\n",
    "\n",
    "        # Use regular expressions to find all instances of prices in the text\n",
    "        #old_prices = re.findall('(?:[\\$]{1}[,\\d]+.?\\d*)', text)\n",
    "        old_prices = re.findall('(?:[\\$]{1}[,\\d]+\\d*)', text)\n",
    "        # Intialize empty list to store the new prices after processing old prices\n",
    "        new_prices = []\n",
    "\n",
    "        # Walk through each price in the post\n",
    "        for price in old_prices:\n",
    "            # Clean unwanted characters\n",
    "            price = price.replace('$', '')\n",
    "            price = price.replace('/', '')\n",
    "            price = price.replace('!', '')\n",
    "            price = price.replace('h', '')\n",
    "            price = price.replace('.', '')\n",
    "            price = price.replace(')', '')\n",
    "            price = price.replace(',', '')\n",
    "            price = price.replace('>', '')\n",
    "            price = price.rstrip()   \n",
    "            # Some tutors give prices as a range ie '$30-40'.  In order to\n",
    "            # work with this data, I split based on the hyphen, then can \n",
    "            # use each price individually\n",
    "            split_prices = price.split('-')\n",
    "\n",
    "            # Walk through each price in the posting, including one's that have been               split\n",
    "            for p in split_prices:\n",
    "                # Only proceed if p is a non-empty string\n",
    "                if len(p)!=0:\n",
    "                    # Convert string price to int\n",
    "                    try:\n",
    "                        # Ignore prices over 150, which are far too high to be reasonable\n",
    "                        new_int = int(p)\n",
    "                        if new_int <= 150:\n",
    "                            new_prices.append(new_int)\n",
    "                    except:\n",
    "                        # Show which prices aren't able to convert to an int and \n",
    "                        # the post they came from\n",
    "                        print(F'Error converting this price: {p}')\n",
    "                        print(old_prices)\n",
    "                        print()\n",
    "                        print('Here is the text of the post:')\n",
    "                        print()\n",
    "                        print(text)\n",
    "                        print('-'*50)\n",
    "                        print()\n",
    "                        new_prices.append(np.nan) # set prices that can't be covered to NaN\n",
    "\n",
    "        # For posts that had no prices listed, we append new_prices with \"None\"\n",
    "        if len(new_prices)==0:\n",
    "            price_list.append('None')\n",
    "        # For posts that had a single price, we use it\n",
    "        elif len(new_prices)==1:\n",
    "            price_list.append(new_prices[0])\n",
    "        # For posts that contained two prices, we average them\n",
    "        elif len(new_prices)==2:\n",
    "            avg_price_2 = np.average(new_prices)\n",
    "            price_list.append(avg_price_2)\n",
    "        # If a post has more than 3 prices, we append them, but this means we have to           inspect them and deal with them manually later\n",
    "        else:\n",
    "            price_list.append(new_prices)\n",
    "\n",
    "\n",
    "        # Get city information for each posting\n",
    "        try:\n",
    "            city = soup.find(class_='postingtitletext').small.get_text()\n",
    "            re_pattern = re.compile('online')\n",
    "            online_flag = re.search(re_pattern, city.lower())\n",
    "            if online_flag:\n",
    "                city_list.append('Online')\n",
    "            else:\n",
    "                # Strip out leading and trailing white spaces, replace parentheses, and                 capitalize each word in the str\n",
    "                city = city.strip()\n",
    "                city = city.replace('(', '').replace(')', '')        \n",
    "                city = city.title()\n",
    "                city_list.append(city)\n",
    "        except:\n",
    "            # If a post has no city information, use None\n",
    "            city_list.append('None')\n",
    "\n",
    "        # Extract subregion of Craigslist that post was made\n",
    "        # This will allow for comparison of prices across different cities\n",
    "        # within the same metropolitan sub_region\n",
    "        try:\n",
    "            subregion = soup.find_all('li', class_='crumb subarea')[0].find('a').get_text()\n",
    "            subregion = subregion.title()\n",
    "            subregion_list.append(subregion)\n",
    "        except:\n",
    "            subregion_list.append('None')\n",
    "\n",
    "\n",
    "        # Extract time the posting was made\n",
    "        try:\n",
    "            dt_object = soup.find('time')['datetime']\n",
    "            datetime_list.append(dt_object)\n",
    "        except:\n",
    "            datetime_list.append('None')\n",
    "    else:\n",
    "        pass"
   ]
  },
  {
   "cell_type": "code",
   "execution_count": 760,
   "id": "functional-dutch",
   "metadata": {},
   "outputs": [
    {
     "data": {
      "text/plain": [
       "False    53\n",
       "True     27\n",
       "Name: post_text, dtype: int64"
      ]
     },
     "execution_count": 760,
     "metadata": {},
     "output_type": "execute_result"
    }
   ],
   "source": [
    "# Get date of html request to label our output\n",
    "date_of_html_request = str(dt.date.today())\n",
    "\n",
    "# Create dataframe of our results\n",
    "\n",
    "df = pd.DataFrame(data=zip(datetime_list, link_list, price_list, city_list, subregion_list, region_list, body_text_list),\n",
    "                  columns=['date_posted', 'link', 'price', 'city', 'subregion', 'region', 'post_text'])\n",
    "\n",
    "# Keep track of which prices are still lists, we will need to investigate these later\n",
    "df['prices_need_cleaning'] = df['price'].apply(lambda x: isinstance(x, list) and len(x) >= 3)\n",
    "\n",
    "# Include date posts were scraped on to track tutoring prices over time\n",
    "df['posts_scraped_on'] = date_of_html_request\n",
    "\n",
    "# Count duplicates\n",
    "df['post_text'].duplicated().value_counts()"
   ]
  },
  {
   "cell_type": "code",
   "execution_count": 761,
   "id": "false-freeze",
   "metadata": {},
   "outputs": [],
   "source": [
    "# Find indices of duplicate results, then drop them\n",
    "duplicate_indices = df[df['post_text'].duplicated()==True].index\n",
    "df_no_dups = df.drop(index=duplicate_indices)\n",
    "df_no_dups = df_no_dups.reset_index(drop=True)"
   ]
  },
  {
   "cell_type": "code",
   "execution_count": 762,
   "id": "animal-beatles",
   "metadata": {},
   "outputs": [],
   "source": [
    "# Filter out results that don't have a price and reset index\n",
    "df_with_prices = df_no_dups[df_no_dups['price']!='None']\n",
    "df_with_prices = df_with_prices.reset_index(drop=True)"
   ]
  },
  {
   "cell_type": "code",
   "execution_count": 763,
   "id": "manual-raising",
   "metadata": {},
   "outputs": [
    {
     "data": {
      "text/plain": [
       "0                              [30, 35, 45]\n",
       "2              [40, 30, 40, 30, 40, 40, 40]\n",
       "7                            [50, 100, 135]\n",
       "9                              [25, 50, 25]\n",
       "10    [40, 80, 40, 10, 40, 30, 40, 80, 100]\n",
       "Name: price, dtype: object"
      ]
     },
     "execution_count": 763,
     "metadata": {},
     "output_type": "execute_result"
    }
   ],
   "source": [
    "# These are the entries with 3 or more prices listed, let's investigate why\n",
    "df_with_prices[df_with_prices['prices_need_cleaning']==True]['price']"
   ]
  },
  {
   "cell_type": "code",
   "execution_count": 764,
   "id": "descending-applicant",
   "metadata": {},
   "outputs": [
    {
     "data": {
      "text/plain": [
       "'https://dallas.craigslist.org/dal/lss/d/new-york-ivy-grad-math-tutor-psat-sat/7420345516.html'"
      ]
     },
     "metadata": {},
     "output_type": "display_data"
    }
   ],
   "source": [
    "# Inspect links manually, one by one, to decide what to do about price information\n",
    "with pd.option_context('display.max_colwidth', None):\n",
    "  display(df_with_prices.iloc[1]['link'])"
   ]
  },
  {
   "cell_type": "markdown",
   "id": "latest-cincinnati",
   "metadata": {},
   "source": [
    "# Cleaning entries manually - these are the posts that had 3 or more prices listed"
   ]
  },
  {
   "cell_type": "code",
   "execution_count": 765,
   "id": "vanilla-shade",
   "metadata": {},
   "outputs": [],
   "source": [
    "price_col_index = df_with_prices.columns.get_loc('price')\n",
    "need_clean_col_index = df_with_prices.columns.get_loc('prices_need_cleaning')"
   ]
  },
  {
   "cell_type": "markdown",
   "id": "alternate-occurrence",
   "metadata": {},
   "source": [
    "### Dropping duplicates that weren't spotted earlier\n",
    "\n",
    "These posts come up multiple times and are duplicates, but they change the text of their posting just slightly, so Pandas is unable to detect the duplicate postings on it's own, and we have to find and drop them manually.  Next, we distill their pricing schedule to a single value and mark these entries and having been cleaned."
   ]
  },
  {
   "cell_type": "code",
   "execution_count": 766,
   "id": "productive-nebraska",
   "metadata": {},
   "outputs": [],
   "source": [
    "# Find duplicates and drop them\n",
    "kenari_tutor_indices = df_with_prices[df_with_prices['post_text'].str.contains('kenaritutor.com')==True].index\n",
    "\n",
    "df_with_prices.drop(labels=kenari_tutor_indices[1:], inplace=True)\n",
    "\n",
    "\n",
    "park_academy_indices = df_with_prices[df_with_prices['post_text'].str.contains('(949) 490-0872', regex=False)==True].index\n",
    "\n",
    "df_with_prices.drop(labels=park_academy_indices[1:], inplace=True)\n",
    "\n",
    "\n",
    "\n",
    "try:\n",
    "    # Because the ad says $90 in person, $60 for online, and Corona Virus pricing of\n",
    "    # $40 for online weekdays, I'm using the $40 per hour rate because it seems the\n",
    "    # most reasonable.  We also set prices_need_cleaning to False b/c the prices have\n",
    "    # been cleaned\n",
    "    df_with_prices.iloc[kenari_tutor_indices[0],\n",
    "                        [price_col_index,\n",
    "                         need_clean_col_index]\n",
    "                       ] = 40, False\n",
    "except:\n",
    "    pass\n",
    "\n",
    "try:\n",
    "    # The add says $55/hr for K-12, then $65/hr for AP/Honors, as well as Pre-calc, \n",
    "    # etc., I'm going to average the two prices\n",
    "    df_with_prices.iloc[park_academy_indices[0],\n",
    "                        [price_col_index,\n",
    "                         need_clean_col_index]\n",
    "                       ] = 60, False\n",
    "except:\n",
    "    pass\n",
    "\n",
    "# Reset indices again\n",
    "df_with_prices = df_with_prices.reset_index(drop=True)\n",
    "\n",
    "# Find duplicates and drop them\n",
    "star_star_college_math_tutor_indices = df_with_prices[df_with_prices['post_text'].str.contains('https://www.youtube.com/channel/UCqhFZRmUqOAAPMQpo58TV7g'\n",
    "                   ) == True].index\n",
    "\n",
    "df_with_prices.drop(labels=star_star_college_math_tutor_indices[1:], inplace=True)\n",
    "\n",
    "\n",
    "# The ad repeats the price of $40 over and over, so I'm replacing the price with a single instance.  We also set prices_need_cleaning to False b/c the prices have been cleaned.\n",
    "try:\n",
    "    df_with_prices.iloc[star_star_college_math_tutor_indices[0], [price_col_index, need_clean_col_index]] = 40, False\n",
    "    \n",
    "except:\n",
    "    pass\n",
    "# Reset indices again because we dropped more rows\n",
    "df_with_prices = df_with_prices.reset_index(drop=True)"
   ]
  },
  {
   "cell_type": "markdown",
   "id": "fancy-glasgow",
   "metadata": {},
   "source": [
    "### Distilling long lists of prices down to one price\n",
    "\n",
    "Manually inspect each "
   ]
  },
  {
   "cell_type": "code",
   "execution_count": 767,
   "id": "silver-death",
   "metadata": {},
   "outputs": [],
   "source": [
    "# This ad mentions several prices for different subjects, but explicitly says $30 for math\n",
    "la_honda_indices = df_with_prices[df_with_prices['post_text'].str.contains('909-640-3570')].index\n",
    "\n",
    "df_with_prices.iloc[la_honda_indices,[price_col_index, need_clean_col_index]] = 30, False\n",
    "\n",
    "\n",
    "# This ad mentions $45 for lower division courses, which are primarily the subjects I help with, so I'm using that price to compare myself against.\n",
    "ucb_phd_student_and_ta_indices = df_with_prices[df_with_prices['post_text'].str.contains('Former UC-Berkeley economics Ph.D. student and TA')].index\n",
    "\n",
    "df_with_prices.iloc[ucb_phd_student_and_ta_indices,[price_col_index, need_clean_col_index]] = 45, False\n",
    "\n",
    "\n",
    "# Says $40 for in person, or $45 for at home, so I took the average\n",
    "san_mateo_tutor_indices = df_with_prices[df_with_prices['post_text'].str.contains('I mainly tutor, in person, at the Downtown Redwood City, downtown San Mateo')].index\n",
    "\n",
    "df_with_prices.iloc[san_mateo_tutor_indices,[price_col_index, need_clean_col_index]] = 42.5, False"
   ]
  },
  {
   "cell_type": "code",
   "execution_count": 768,
   "id": "military-swift",
   "metadata": {},
   "outputs": [],
   "source": [
    "#This guy has weird price structuring, but I basically found his hourly rate for each time interval, $100 for 80 minutes, $115 for 100 minutes, $130 for 120 minutes, then averaged those hourly rates\n",
    "oakland_exp_tutor_online_indices = df_with_prices[df_with_prices['post_text'].str.contains('I received a full scholarship to University of Cincinnati and held a 3.8 GPA through my master’s program in aerospace')==True].index\n",
    "\n",
    "oakland_tutor_avg_rate = ((100/80) + (115/100) + (130/120)) * 60 / 3\n",
    "\n",
    "df_with_prices.iloc[oakland_exp_tutor_online_indices,[price_col_index, need_clean_col_index]] = oakland_tutor_avg_rate, False\n",
    "\n",
    "\n",
    "# This guy's ad says $57 per hour, but for some reason Python has trouble parsing this price on it's own earlier, so we do it ourselves.\n",
    "blake_tutoring_indices = df_with_prices[df_with_prices['post_text'].str.contains('BlakeTutoring.com', case=False)==True].index\n",
    "\n",
    "df_with_prices.iloc[blake_tutoring_indices, price_col_index] = 57\n",
    "\n",
    "# Charges $50 per hour for sessions under 3 hours\n",
    "spss_tutor_indices = df_with_prices[df_with_prices['post_text'].str.contains('Worked for 2 companies named', case=False)==True].index\n",
    "\n",
    "df_with_prices.iloc[spss_tutor_indices, [price_col_index, need_clean_col_index]] = 50, False"
   ]
  },
  {
   "cell_type": "code",
   "execution_count": 769,
   "id": "associate-alcohol",
   "metadata": {},
   "outputs": [],
   "source": [
    "sharp_mind_indices = df_with_prices[df_with_prices['post_text'].str.contains('(650) 398-9490', regex=False)==True].index\n",
    "\n",
    "# Says $25/hr for high school, $30/hr for college, just went with $30/hr\n",
    "df_with_prices.iloc[sharp_mind_indices, [price_col_index, need_clean_col_index]] = 30, False\n",
    "\n",
    "trevor_skelly_indices = df_with_prices[df_with_prices['post_text'].str.contains('trevorskelly')==True].index\n",
    "\n",
    "# Says $50/hr\n",
    "df_with_prices.iloc[trevor_skelly_indices, [price_col_index, need_clean_col_index]] = 50, False"
   ]
  },
  {
   "cell_type": "code",
   "execution_count": 770,
   "id": "vulnerable-rogers",
   "metadata": {},
   "outputs": [],
   "source": [
    "best_math_idx = df_with_prices[df_with_prices['post_text'].str.contains('bestmathtutoring.com')==True].index\n",
    "\n",
    "# $25/hr if meeting near CSU Sac, $35/hr if they drive to you, $20/hr for online.\n",
    "# I chose $30/hr to split the difference between the in person prices.\n",
    "df_with_prices.iloc[best_math_idx, [price_col_index, need_clean_col_index]] = 30, False\n",
    "\n",
    "glasses_lady_idx = df_with_prices[df_with_prices['post_text'].str.contains(\"offering virtual one-on-one Math tutoring via Zoom\")==True].index\n",
    "\n",
    "df_with_prices.iloc[glasses_lady_idx, [price_col_index, need_clean_col_index]] = 60, False\n",
    "\n",
    "ucla_grad_henry_idx = df_with_prices[df_with_prices['post_text'].str.contains(\"916 390-7923\", regex=False)==True].index\n",
    "\n",
    "df_with_prices.iloc[ucla_grad_henry_idx, [price_col_index, need_clean_col_index]] = 35, False"
   ]
  },
  {
   "cell_type": "code",
   "execution_count": 771,
   "id": "retired-training",
   "metadata": {},
   "outputs": [],
   "source": [
    "peter_d_idx = df_with_prices[df_with_prices['post_text'].str.contains('Peter D.')==True].index\n",
    "\n",
    "df_with_prices.iloc[peter_d_idx, [price_col_index, need_clean_col_index]] = 40, False"
   ]
  },
  {
   "cell_type": "code",
   "execution_count": 772,
   "id": "infinite-council",
   "metadata": {},
   "outputs": [],
   "source": [
    "austin_sabrina_idx = df_with_prices[df_with_prices['post_text'].str.contains('My girlfriend Sabrina')==True].index\n",
    "\n",
    "# $20/hr online, $30/hr in person, split the difference at $25\n",
    "df_with_prices.iloc[austin_sabrina_idx, [price_col_index, need_clean_col_index]] = 25, False"
   ]
  },
  {
   "cell_type": "code",
   "execution_count": 773,
   "id": "micro-symbol",
   "metadata": {},
   "outputs": [],
   "source": [
    "alex_farrell_idx = df_with_prices[df_with_prices['post_text'].str.contains('Alexander Farrell')==True].index\n",
    "df_with_prices.iloc[alex_farrell_idx, [price_col_index, need_clean_col_index]] = 25, False"
   ]
  },
  {
   "cell_type": "markdown",
   "id": "offshore-characteristic",
   "metadata": {},
   "source": [
    "### Checking results"
   ]
  },
  {
   "cell_type": "code",
   "execution_count": 774,
   "id": "orange-quarter",
   "metadata": {},
   "outputs": [
    {
     "name": "stdout",
     "output_type": "stream",
     "text": [
      "There were 12 posts that had prices included.\n",
      "Only 22.64% of the posts that we scraped had pricing information included.\n"
     ]
    }
   ],
   "source": [
    "post_with_prices_count = len(df_with_prices)\n",
    "num_posts = len(df_no_dups)\n",
    "\n",
    "percent_with_prices = post_with_prices_count/num_posts * 100\n",
    "\n",
    "print(F\"There were {post_with_prices_count} posts that had prices included.\")\n",
    "print(F\"Only {percent_with_prices:.2f}% of the posts that we scraped had pricing information included.\")"
   ]
  },
  {
   "cell_type": "code",
   "execution_count": 775,
   "id": "reflected-intent",
   "metadata": {},
   "outputs": [
    {
     "data": {
      "text/plain": [
       "Series([], Name: price, dtype: object)"
      ]
     },
     "execution_count": 775,
     "metadata": {},
     "output_type": "execute_result"
    }
   ],
   "source": [
    "# Check to see if there are any prices with more than one value listed that would still need cleaning\n",
    "df_with_prices[df_with_prices['prices_need_cleaning']==True]['price']"
   ]
  },
  {
   "cell_type": "code",
   "execution_count": 776,
   "id": "stretch-boston",
   "metadata": {},
   "outputs": [
    {
     "data": {
      "text/html": [
       "<div>\n",
       "<style scoped>\n",
       "    .dataframe tbody tr th:only-of-type {\n",
       "        vertical-align: middle;\n",
       "    }\n",
       "\n",
       "    .dataframe tbody tr th {\n",
       "        vertical-align: top;\n",
       "    }\n",
       "\n",
       "    .dataframe thead th {\n",
       "        text-align: right;\n",
       "    }\n",
       "</style>\n",
       "<table border=\"1\" class=\"dataframe\">\n",
       "  <thead>\n",
       "    <tr style=\"text-align: right;\">\n",
       "      <th></th>\n",
       "      <th>date_posted</th>\n",
       "      <th>link</th>\n",
       "      <th>price</th>\n",
       "      <th>city</th>\n",
       "      <th>subregion</th>\n",
       "      <th>region</th>\n",
       "      <th>post_text</th>\n",
       "      <th>prices_need_cleaning</th>\n",
       "      <th>posts_scraped_on</th>\n",
       "    </tr>\n",
       "  </thead>\n",
       "  <tbody>\n",
       "  </tbody>\n",
       "</table>\n",
       "</div>"
      ],
      "text/plain": [
       "Empty DataFrame\n",
       "Columns: [date_posted, link, price, city, subregion, region, post_text, prices_need_cleaning, posts_scraped_on]\n",
       "Index: []"
      ]
     },
     "execution_count": 776,
     "metadata": {},
     "output_type": "execute_result"
    }
   ],
   "source": [
    "# Check to see if there are any prices with that are NaN because Python wasn't able to parse them properly according to our rules from earlier\n",
    "df_with_prices[df_with_prices['price'].isnull()==True]"
   ]
  },
  {
   "cell_type": "code",
   "execution_count": 777,
   "id": "abroad-things",
   "metadata": {},
   "outputs": [
    {
     "data": {
      "text/plain": [
       "'https://dallas.craigslist.org/dal/lss/d/arlington-tutoring-lessons-in/7423210219.html'"
      ]
     },
     "metadata": {},
     "output_type": "display_data"
    }
   ],
   "source": [
    "# If any prices still need cleaning, inspect their links to decide what to do about price information\n",
    "with pd.option_context('display.max_colwidth', None):\n",
    "  display(df_with_prices.iloc[9]['link'])"
   ]
  },
  {
   "cell_type": "code",
   "execution_count": 778,
   "id": "utility-depression",
   "metadata": {},
   "outputs": [
    {
     "data": {
      "text/plain": [
       "0     dallas\n",
       "1     dallas\n",
       "2     dallas\n",
       "3     dallas\n",
       "4     dallas\n",
       "5     dallas\n",
       "6     dallas\n",
       "7     dallas\n",
       "8     dallas\n",
       "9     dallas\n",
       "10    dallas\n",
       "11    dallas\n",
       "Name: region, dtype: object"
      ]
     },
     "execution_count": 778,
     "metadata": {},
     "output_type": "execute_result"
    }
   ],
   "source": [
    "df_with_prices['region']"
   ]
  },
  {
   "cell_type": "markdown",
   "id": "german-auditor",
   "metadata": {},
   "source": [
    "# Saving results"
   ]
  },
  {
   "cell_type": "code",
   "execution_count": 779,
   "id": "waiting-score",
   "metadata": {},
   "outputs": [],
   "source": [
    "# Store cleaned data as CSV file in preparation for importing to SQL database\n",
    "df_for_sql = df_with_prices.drop(labels=['prices_need_cleaning','link'], axis=1)\n",
    "df_for_sql.to_csv(\"./{}_{}_with_prices.csv\".format(date_of_html_request, region_list[0]), index=False, sep=';')\n",
    "\n",
    "# Store original data, before we did any manual cleaning, in case it's needed\n",
    "df.to_csv(\"./{}_{}_all_posts.csv\".format(date_of_html_request, region_list[0]), index=False)"
   ]
  },
  {
   "cell_type": "markdown",
   "id": "comprehensive-miracle",
   "metadata": {},
   "source": [
    "# Importing into PostgreSQL database"
   ]
  },
  {
   "cell_type": "code",
   "execution_count": 780,
   "id": "disciplinary-county",
   "metadata": {},
   "outputs": [],
   "source": [
    "# Establish connection to PSQL database\n",
    "conn = psycopg2.connect(\"host=localhost dbname=rancher user=rancher\")\n",
    "\n",
    "# Instantiate a cursor object\n",
    "cur = conn.cursor()\n",
    "\n",
    "# Use cursor object to create a database for storing the information we scraped and cleaned\n",
    "cur.execute(\"\"\"    \n",
    "    CREATE TABLE IF NOT EXISTS cl_tutoring2(\n",
    "    id SERIAL primary key,\n",
    "    date_scraped date,\n",
    "    price decimal,\n",
    "    city text,\n",
    "    subregion text,\n",
    "    region text,\n",
    "    post_text text,\n",
    "    date_posted timestamp\n",
    ");\n",
    "\"\"\")\n",
    "\n",
    "# Commit changes to database\n",
    "conn.commit()"
   ]
  },
  {
   "cell_type": "code",
   "execution_count": 781,
   "id": "economic-contamination",
   "metadata": {},
   "outputs": [],
   "source": [
    "# Instantiate a new cursor object\n",
    "cur = conn.cursor()\n",
    "\n",
    "# Copy data from our CSV file into database.  \n",
    "### Note, we use the ; separator because we replaced all instances of semicolons in a post to commas, ensuring that psycopg2 won't misinterpret a semicolon in the body of a post as a separator, splitting a row in the CSV file into too many columns as a result.\n",
    "### Also, we must specify null=\"\" because Python represents null values as an empty string when writing to a CSV file and psycopg2 needs to know how null values are represented in the CSV file in order to properly insert null values into the database\n",
    "with open(str(date_of_html_request) + '_' + region_list[0] + '_with_prices.csv', 'r') as file:\n",
    "    next(file) # Skip the header row\n",
    "    cur.copy_from(file, 'cl_tutoring2', sep=';', null=\"\", columns=('date_posted', 'price', 'city', 'subregion', 'region', 'post_text', 'date_scraped'))\n",
    "    \n",
    "# Commit changes to database\n",
    "conn.commit()"
   ]
  },
  {
   "cell_type": "code",
   "execution_count": 4,
   "id": "wound-religious",
   "metadata": {},
   "outputs": [
    {
     "ename": "NameError",
     "evalue": "name 'psycopg2' is not defined",
     "output_type": "error",
     "traceback": [
      "\u001b[0;31m---------------------------------------------------------------------------\u001b[0m",
      "\u001b[0;31mNameError\u001b[0m                                 Traceback (most recent call last)",
      "\u001b[0;32m<ipython-input-4-b128cf731faa>\u001b[0m in \u001b[0;36m<module>\u001b[0;34m\u001b[0m\n\u001b[0;32m----> 1\u001b[0;31m \u001b[0mconn\u001b[0m \u001b[0;34m=\u001b[0m \u001b[0mpsycopg2\u001b[0m\u001b[0;34m.\u001b[0m\u001b[0mconnect\u001b[0m\u001b[0;34m(\u001b[0m\u001b[0;34m\"host=localhost dbname=rancher\"\u001b[0m\u001b[0;34m)\u001b[0m\u001b[0;34m\u001b[0m\u001b[0;34m\u001b[0m\u001b[0m\n\u001b[0m\u001b[1;32m      2\u001b[0m \u001b[0;34m\u001b[0m\u001b[0m\n\u001b[1;32m      3\u001b[0m \u001b[0mcur\u001b[0m \u001b[0;34m=\u001b[0m \u001b[0mconn\u001b[0m\u001b[0;34m.\u001b[0m\u001b[0mcursor\u001b[0m\u001b[0;34m(\u001b[0m\u001b[0;34m)\u001b[0m\u001b[0;34m\u001b[0m\u001b[0;34m\u001b[0m\u001b[0m\n\u001b[1;32m      4\u001b[0m \u001b[0;34m\u001b[0m\u001b[0m\n\u001b[1;32m      5\u001b[0m \u001b[0mcur\u001b[0m\u001b[0;34m.\u001b[0m\u001b[0mexecute\u001b[0m\u001b[0;34m(\u001b[0m\u001b[0;34m\"\"\"SELECT * FROM cl_tutoring2\"\"\"\u001b[0m\u001b[0;34m)\u001b[0m\u001b[0;34m\u001b[0m\u001b[0;34m\u001b[0m\u001b[0m\n",
      "\u001b[0;31mNameError\u001b[0m: name 'psycopg2' is not defined"
     ]
    }
   ],
   "source": [
    "conn = psycopg2.connect(\"host=localhost dbname=rancher\")\n",
    "\n",
    "cur = conn.cursor()\n",
    "\n",
    "cur.execute(\"\"\"SELECT * FROM cl_tutoring2\"\"\")\n",
    "\n",
    "results = cur.fetchall()"
   ]
  },
  {
   "cell_type": "code",
   "execution_count": 3,
   "id": "worldwide-fight",
   "metadata": {},
   "outputs": [
    {
     "ename": "NameError",
     "evalue": "name 'pd' is not defined",
     "output_type": "error",
     "traceback": [
      "\u001b[0;31m---------------------------------------------------------------------------\u001b[0m",
      "\u001b[0;31mNameError\u001b[0m                                 Traceback (most recent call last)",
      "\u001b[0;32m<ipython-input-3-05dd4e03fa2e>\u001b[0m in \u001b[0;36m<module>\u001b[0;34m\u001b[0m\n\u001b[0;32m----> 1\u001b[0;31m \u001b[0mdf\u001b[0m \u001b[0;34m=\u001b[0m \u001b[0mpd\u001b[0m\u001b[0;34m.\u001b[0m\u001b[0mread_sql_query\u001b[0m\u001b[0;34m(\u001b[0m\u001b[0;34m\"\"\"SELECT * FROM cl_tutoring2\"\"\"\u001b[0m\u001b[0;34m,\u001b[0m \u001b[0mcon\u001b[0m\u001b[0;34m=\u001b[0m\u001b[0mconn\u001b[0m\u001b[0;34m)\u001b[0m\u001b[0;34m\u001b[0m\u001b[0;34m\u001b[0m\u001b[0m\n\u001b[0m",
      "\u001b[0;31mNameError\u001b[0m: name 'pd' is not defined"
     ]
    }
   ],
   "source": [
    "df = pd.read_sql_query(\"\"\"SELECT * FROM cl_tutoring2\"\"\", con=conn)"
   ]
  },
  {
   "cell_type": "code",
   "execution_count": 72,
   "id": "liable-accordance",
   "metadata": {},
   "outputs": [
    {
     "data": {
      "text/plain": [
       "San Francisco    11\n",
       "South Bay         7\n",
       "East Bay          5\n",
       "Peninsula         5\n",
       "North Bay         1\n",
       "Santa Cruz        1\n",
       "Name: subregion, dtype: int64"
      ]
     },
     "execution_count": 72,
     "metadata": {},
     "output_type": "execute_result"
    }
   ],
   "source": [
    "df['subregion'].value_counts()"
   ]
  },
  {
   "cell_type": "code",
   "execution_count": 1,
   "id": "acceptable-award",
   "metadata": {},
   "outputs": [
    {
     "ename": "NameError",
     "evalue": "name 'df' is not defined",
     "output_type": "error",
     "traceback": [
      "\u001b[0;31m---------------------------------------------------------------------------\u001b[0m",
      "\u001b[0;31mNameError\u001b[0m                                 Traceback (most recent call last)",
      "\u001b[0;32m<ipython-input-1-730b730013d5>\u001b[0m in \u001b[0;36m<module>\u001b[0;34m\u001b[0m\n\u001b[0;32m----> 1\u001b[0;31m \u001b[0mdf\u001b[0m\u001b[0;34m[\u001b[0m\u001b[0;34m'price'\u001b[0m\u001b[0;34m]\u001b[0m\u001b[0;34m.\u001b[0m\u001b[0mmean\u001b[0m\u001b[0;34m(\u001b[0m\u001b[0;34m)\u001b[0m\u001b[0;34m\u001b[0m\u001b[0;34m\u001b[0m\u001b[0m\n\u001b[0m",
      "\u001b[0;31mNameError\u001b[0m: name 'df' is not defined"
     ]
    }
   ],
   "source": [
    "df['price'].mean()"
   ]
  },
  {
   "cell_type": "code",
   "execution_count": 74,
   "id": "infrared-poverty",
   "metadata": {},
   "outputs": [
    {
     "data": {
      "text/plain": [
       "45.0"
      ]
     },
     "execution_count": 74,
     "metadata": {},
     "output_type": "execute_result"
    }
   ],
   "source": [
    "df['price'].median()"
   ]
  },
  {
   "cell_type": "code",
   "execution_count": 726,
   "id": "amended-revision",
   "metadata": {
    "collapsed": true,
    "jupyter": {
     "outputs_hidden": true
    }
   },
   "outputs": [
    {
     "data": {
      "text/plain": [
       "[(1,\n",
       "  datetime.date(2021, 12, 22),\n",
       "  Decimal('60'),\n",
       "  'Fremont / Union City / Newark',\n",
       "  'East Bay',\n",
       "  'sf_bay_area',\n",
       "  '$60/hr.I have a broad background in the sciences, as well as skills useful for the college application process.Undergraduate: Rice University, double major Biochemistry and Physics, summa cum laude.Ph.D. Yale University, Molecular Biophysics and Biochemistry.  My Ph.D. advisor, Thomas A. Steitz, received the Nobel Prize in Chemistry, 2009.I’ve had great success helping students edit their college application essays.  I’ve taught a small writing class.  I’ve also had experience interviewing student applicants, as an alumni interviewer for Rice.As a tutor, I believe strongly in teaching students how to think critically. I prefer in-person tutoring.  I received my second Moderna shot on 4/30/2021 and the Moderna booster at the end of October.    ',\n",
       "  datetime.datetime(2021, 12, 22, 15, 47, 32)),\n",
       " (2,\n",
       "  datetime.date(2021, 12, 22),\n",
       "  Decimal('20'),\n",
       "  'None',\n",
       "  'South Bay',\n",
       "  'sf_bay_area',\n",
       "  '\"\"\"Hey there!My name is Angel and I’ve been tutoring with Ansari Math for about a year and a half now.Math can get a bit tricky sometimes but a big part of it is trying to look at it from different perspectives, one explanation doesn’t always work for everybody!Let’s find your explanations, I’m always happy to help and I can’t wait to work with you!\"\"-AngelRate: $20/hour (1 hour and 1 week free)\"\"Best tutoring service I have worked with. Flexible hours, fair prices, friendly/knowledgeable staff.\"\"-Daniel\"\" Finally, my daughter has tutors who are extremely knowledgeable and professional. After each session, a progress report is provided, keeping me well-informed. She is now optimistic and hopeful that she will do well in her Math Analysis course.\"\"-Claudina Fenley\"\"Couldn’t have asked for a better tutor! Helped me bring up my grades and prepare me for future courses. Would definitely recommend to anyone struggling with math.\"\"-Nima\"\"I registered to take my ACT in July, and started studying a month before. Math was my weakness and I had limited time to address my content issues, nevertheless, my tutor Peerlinc was so reliable and available for our scheduled appointments, even if they were last minute. At the end of our sessions, I felt confident and prepared content-wise going into the Math Section of my ACT. My tutor taught me how to decode word problems with many factors that to the untrained eye, might look difficult, after just one month of studying my tutor taught me many skills in approaching concepts that I knew, but were worded differently than I was used to. Overall, I had an excellent experience with my tutor and I strongly recommend him to anyone with content issues and a limited time to study!\"\"-Sonya S\"\"Its super easy to book a class you can do it in under a minute.\"\"-Liam Herrera“I could not be more pleased with my daughter’s tutor and this program overall. I love the technology. She enjoys her lesson and is ever more confident in math. She is empowered to schedule her own sessions on the website. Her tutor was kind, positive and gave her follow up homework. I also love that her tutor is a student at a top tier university. It motivates her and she can better visualize herself at an amazing college for added motivation. I highly recommend. Stacey ( mother of a 7 grader)”-Stacey Zionts\"\"Great experience. Needed help with multiple math subjects and accommodate me on everything I needed. Great tutors.\"\"-Shayan\"\"I was struggling during my summer semester in my intermediate algebra class. Luckily, through the tutoring and guidance from Peerlinc tutoring, I was able to bring my grade from a certain F all the way back up to an A. They really had a great way of breaking down each problem to the point where I could understand the material. More importantly, they always made time for me and always prioritized the needs that I had for school. I would highly recommend Peerlinc Math Tutoring to anyone!!!\"\"-David Lindwall\"\"Loved it! Made learning calculus so much easier. The tutors are super helpful and they genuinely care to help you succeed in math. Definitely use Ansari Mathematics!\"\"-Sifath Mannan\"\"Great tutor. Really knows his material. Walked through math , step by step, didn’t skip any parts.\"\"-Greg SiasText 2133408660 or register at peerlinc.com for 1 free hour (1 week free trial period included)    \"',\n",
       "  datetime.datetime(2021, 12, 21, 8, 7, 58)),\n",
       " (3,\n",
       "  datetime.date(2021, 12, 22),\n",
       "  Decimal('40'),\n",
       "  'Cupertino',\n",
       "  'South Bay',\n",
       "  'sf_bay_area',\n",
       "  \"Don't wait to get a tutor! This applies to struggling students or brilliant ones, as I can help both achieve their best.Would your student perform better in his or her subjects with a weekly tutor? I am here to help. I am a master tutor with fifteen years of experience bringing out the best of my students. I can help your student improve their English and Math skills, and maximize both learning and grades.I earned a graduate degree from Harvard University, and I specialize adapting my teaching style to each unique student. Additionally, I have lived overseas for five years, and so I have a speciality helping students who have English as a second language (ESL). I also am an expert SAT and ACT tutor.I can help you with the following:ENGLISH: English classes,Writing, Grammar, StyleHISTORY & OTHER LIBERAL ARTS: History, Social Studies, Government, Political Science, etc.MATH: Arithmetic, Fractions, Algebra, Geometry, TrigonometrySCIENCE: Chemistry, Biology, PhysicsIndividualized TutoringEach student is different and I listen carefully so that our sessions are most productive. There is no substitute for one-on-one tutoring.Short Term or Long TermSome students have stayed with me their entire high school career. Others need just a bit of help to complete a difficult assignment. RatesIndividualized tutoring costs $90/hr for in-person or $60/hr for online. (AT LEAST UNTIL MAY  2022 CORONA VIRUS PRICING: $40/hr for online weekdays.) The introductory meeting is free without any obligation. I tutor online or in-person, and I use google docs and a whiteboard program for online students. Online tutoring works very well.NOTE: If your income has been disrupted due to the coronavirus, please indicate the hourly rate you are able to pay. ContactYou can text me or simply reply to this ad and we'll arrange a Zoom meeting.kenaritutor.com    \",\n",
       "  datetime.datetime(2021, 12, 20, 12, 5, 20)),\n",
       " (4,\n",
       "  datetime.date(2021, 12, 22),\n",
       "  Decimal('30'),\n",
       "  'Mountain View',\n",
       "  'Peninsula',\n",
       "  'sf_bay_area',\n",
       "  'I’m available for in-person sessions, either in your home or at a Public Library.  I’m completely vaccinated and live in Mountain View.I have 10 years experience tutoring math.  I majored in math and statistics at UC Berkeley.Rates: Algebra, geometry, trigonometry - $30 hourCalculus - $ 35 hourEd    ',\n",
       "  datetime.datetime(2021, 12, 18, 16, 52, 42)),\n",
       " (5,\n",
       "  datetime.date(2021, 12, 22),\n",
       "  Decimal('69.66666666666667'),\n",
       "  'None',\n",
       "  'San Francisco',\n",
       "  'sf_bay_area',\n",
       "  '\"Learn better, faster - and have more fun doing it!Experienced Teaching Professional-----------------------------------------------I have been pursuing continual learning and teaching since graduating college, tutoring full time since 2017 and part time since 2008. I have always had a passion for learning, but I fell in love with teaching in high school. I have been loving it ever since: now I have over 12 years of tutoring experience with 300+ students. I\\'ve tutored for a number of professional organizations (e. g. https://www.gradepotentialtutoring.com, http://www.stemivy.com, Walnut Hills Alumni Association, OSU Young Scholar Program to name a few) but I now do most of my tutoring privately.I teach a wide variety of subjects and students of all ages: engineering students, college students in multivariable calculus and calc-based physics (my favorites), grade school students with ADHD, high school students in AP classes or ACT/SAT prep, etc.My focus is developing an understanding from the deepest roots of a concept to its sun and sky. I do NOT preach memorization or repetition. My students tell me that I’m easy to get along with, and always have a new way to explain an idea that isn\\'t making sense. I consistently see a significant improvement in my students’ grades - part of what makes my job so satisfying! My passion is to make learning as easy and enjoyable as possible.Proven Academic Success---------------------------------------I received a full scholarship to University of Cincinnati and held a 3.8 GPA through my master’s program in aerospace and mechanical engineering, graduating magna cum laude.-99th percentile score on PSAT, SAT, and ACT-Awarded the National Merit Scholarship-35/36 ACT Math, 36/36 ACT Math and Science-5/5 on the AP Calculus BC and AP Physcis C exams-Ranked in state math and science competitionsI have helped countless students to exceed their own expectations with their grades and test scores. I can help beyond just knowing the material, but with strategies and time management techniques to test with confidence.The Tutoring Experience--------------------------------I use a fantastic free whiteboard website (check out “bitpaper”) along with an artist tablet that allows me to write and draw.It\\'s super easy:Snap screenshots or pictures of your assignment or study materialsDrag and drop onto the whiteboardWe video or audio chat while we write, draw, graph and collaborate on solutions. All of our notes are autosaved, organized, and available to you forever.Rates and Scheduling-------------------------------I offer lower hourly rates for longer sessions:1 hour 20 min-------$1001 hour 40 min-------$1152 hours---------------$130>2 hours-------------$65/hrTake $30 off your first session, and $60 off when you refer a new student to me. If you are not satisfied with the quality of help you receive, it\\'s free.I prefer communication by call or text, but email is fine too. Let me know if I can help you!! Please feel free to ask me for student and teacher references!Reviews------------\"\"Eric is very knowledgeable, has been able to connect our daughter to the material in a way that makes her excited to be learning, and has a GREAT attitude! In other words - the perfect tutor! If you hire him he\\'ll reset the bar for what a tutor can be.\"\"-Andreas D.\"\"My tutoring experience with Eric has been great. He’s very knowledgeable and patient. I felt comfortable working with him, and he knows how to explain topics in plenty of ways to make them easy to understand. Math has always been the most difficult subject for me, but when I met Eric I gained a better understanding and my first ever A on my final exam!\"\"-Teonna C.\"\"Eric was my student in high school. He was the top student in the most demanding math course we offered at the time: AP Calculus BC. Not only was he a brilliant and diligent student, he also took first place in our math team competition. Eric is dependable, caring and well liked. He has the personality and intelligence to do absolutely anything he wants. Kids will love his energy and sense of humor. Students seeking help will be hard pressed to find a better candidate.\"\"-Susan C.--------------------------------------------------------Even if you don\\'t see your subject listed here - ask me about help with your university graduate or undergraduate engineering, math, or science courses.--------------------------------------------------------Keywords:science algebra statistics chemistry geometry pre-calculus precalculus precalc pre-algebra electricity and magnetism E&M circuits statics dynamics vectors mechanics polar cylindrical integrals derivatives trig trigonometry 1 calc 2 3 I II III A B C AB BC senior junior sophomore freshman 12th grader 11th grade 10th 9th advanced placement test exam university college private teacher one-on-one school helpBerkeley Stanford California San Francisco University Institution CollegeMcclymondsOaklandAbraham Lincoln High School (San Francisco)Academy of Arts & Sciences (San Francisco, California)Archbishop Riordan High SchoolBalboa High School (California)The Bay School of San FranciscoConvent Stuart HallConvent of the Sacred Heart High School (California)Envision SchoolsFrench American International School (San Francisco)Galileo Academy of Science and TechnologyGateway High School (San Francisco)Ida B. Wells Continuation High SchoolImmaculate Conception Academy (California)International High School of San FranciscoInternational Studies AcademyJewish Community High School of the BayJohn A. O\\'Connell High SchoolJune Jordan School for EquityLeadership High SchoolLick-Wilmerding High SchoolLowell High School (San Francisco)Lycée Français de San FranciscoMercy High School (San Francisco)Mission High School (San Francisco)Mountain View Academy (San Francisco)Phillip & Sala Burton High SchoolSacred Heart Cathedral PreparatorySt. Ignatius College PreparatorySan Francisco Polytechnic High SchoolRuth Asawa San Francisco School of the ArtsSan Francisco University High SchoolSan Francisco Waldorf SchoolStuart Hall High SchoolThurgood Marshall Academic High SchoolThe Urban School of San FranciscoRaoul Wallenberg Traditional High SchoolGeorge Washington High School (San Francisco)Youth Chance High School    \"',\n",
       "  datetime.datetime(2021, 12, 17, 18, 27, 55)),\n",
       " (6,\n",
       "  datetime.date(2021, 12, 22),\n",
       "  Decimal('45'),\n",
       "  'Berkeley',\n",
       "  'East Bay',\n",
       "  'sf_bay_area',\n",
       "  \"Hi all,My name is Mabel Kimble and I am currently a 3rd-year medical student. Prior to medical school, I was a research scientist at UCLA. I currently hold a Bachelor's of Science in Health Education, a Double Master's in Biomedical Sciences and Social Epidemiology. I am hoping to share my educational experience and offer tutoring services to students coming up in academics. I also have a very rich background in teaching which includes teaching Anatomy for 3 years and previous tutoring experience among elementary, middle, high school, and college students. I am also a published author of multiple peer-reviewed journals (google me or better yet PubMed me) lol. I love learning and better yet, I love to teach. Ultimately, love to see others begin to love STEM courses just as much as I do. I am also seasoned in research methods, biostatistics and epidemiology.  Here are the courses I am tutoring at this time (FYI courses are not limited to the ones listed, ask me). Research methodsBiostatisticsBiology Physiology Anatomy Pharmacology Immunology Algebra I and IITrigonometryLiterature BiochemistryEpidemiology Public Health General chemistry and etc. Other services I offer are the following: 1. In case of emergency and you need a presentation created (48 hours turn around time), this can be costly, just because when I've had student's reach out to me to do this, I've had to do an overnight and then coach them through the presentation before the presentation. 2. Presentation/Public Speaking coach (I've presented my research locally (Boston, San Diego, Washington DC, just to name a few) and internationally (Europe), there is a simple remedy to your anxiety and I can help)3. Edit your paper Use this link to my online calendar: https://calendly.com/mabelkimble (schedule a 15 min intro meeting or 60 min tutoring session of the subject of your choice) or message me at 510-993-7485. Accept: Zelle and venmo $45/hr Hourly,weekly, and monthly rates availablehttps://www.linkedin.com/in/mabel-m-kimble-mdc-ms-mph-a07b9425/\",\n",
       "  datetime.datetime(2021, 12, 17, 10, 25, 52)),\n",
       " (7,\n",
       "  datetime.date(2021, 12, 22),\n",
       "  Decimal('57.5'),\n",
       "  'Santa Clara',\n",
       "  'South Bay',\n",
       "  'sf_bay_area',\n",
       "  \"I have tutored Mathematics to many young students as well as adults throughout my college years, and also during my practice as a Licensed Professional Engineer in the state of California.I am very patient with students when they have difficulty understanding the material.  I gear my explanations at the same level as my students, and provide good matching analogies to explain material in different ways to help them understand the basics.  I help my students gain the confidence they need for future mathematics courses.Shown below are the courses I can tutor.•\\tPre-Algebra.•\\tAlgebra.•\\tGeometry.•\\tIntermediate Algebra.•\\tTrigonometry.•\\tAdvanced Algebra.•\\tPre-Calculus.•\\tCollege Algebra.•\\tElementary Probability & Statistics.•\\tCalculus (Differential, Integral, and Advanced).•\\tAny Math from K-12 to College level Calculus.•\\tBoolean Algebra and Basic Computer Arithmetic.•\\tCombinational and Sequential Digital Logic Design.•\\tACT Math Section.•\\tSAT Math Section and SAT Subject Math Preparation.I will help you with the material exactly as you are expected to know it for your class.  I will buy myself the same book used in your class to prepare myself and be ready to help you understand the material thoroughly.  We can also have emails between tutoring sessions to answer questions, or to help with you with homework.I have a perfect 4.00 Math GPA in all High School Mathematics courses taken, and College Math up to and including Advanced Calculus, and many graduate level Applied Mathematics courses.Background & Academic/Professional Credentials: HSD, Abraham Lincoln High School, San Francisco, CA, Math Major (Honors – 4.0 GPA).BSEE, UC Berkeley, Electrical Engineering and Computer Sciences.MSEE, Santa Clara University, Communication Theory, Digital Design, and Applied Math.PE, Registered Professional Engineer in the State of California, License #E15005.Fluency in Spanish (reading, writing, speaking).E-mail me with information about the course, brief explanation of area of confusion, and your textbook title & author (or ISBN), or call me (408-249-3916).  If there is no answer, please leave a message.  I'll respond soon.I can help you with a particular problem at hand, even if you decide not to hire me.  Just send me an email with your unsolved homework (or test problem), and I’ll email back with an explained solution.  I just love to help.My charge:  $45 ~ $70 per hour, depending on subject, negotiable for longer terms and/or affordability.  If I can’t help you understand the material you are having problems with, you don’t pay.  You will be satisfied.** If you are unsure about hiring a tutor, we can have an initial session at no charge to you.  During that time, I will evaluate your needs, you can evaluate me, and then later decide if we will meet again.\",\n",
       "  datetime.datetime(2021, 12, 17, 1, 57, 46)),\n",
       " (8,\n",
       "  datetime.date(2021, 12, 22),\n",
       "  Decimal('40'),\n",
       "  'Online',\n",
       "  'San Francisco',\n",
       "  'sf_bay_area',\n",
       "  \"★★ College Math Tutor★ Calculus I ,II & III, AP Calculus AB/BC , Trig, College Algebra, College Statistics, Linear Algebra, ODEWebsite :www.collegemathcourses.comYouTube :(Under Construction)https://www.youtube.com/channel/UCqhFZRmUqOAAPMQpo58TV7g★★All tutoring is done by One Tutor. ★★Elementary Statistics and ProbabilityIntroduction to Statistical ReasoningProbability and StatisticsMathematical StatisticsPre-AlgebraIntermediate AlgebraCollege Algebra/Algebra 1/Algebra 2GeometryTrigonometry (Trig)Finite MathematicsPre-Calculus /Math AnalysisCalculus I , II and IIIVector CalculusIntroduction Linear Algebra (Matrix)Finite Mathematics===For Engineering students ========================Advanced CalculusDifferential and Integral CalculusMultiple Variable CalculusApplied Statistics and Probability for EngineersComplex NumbersDifferential EquationEngineering Analysis===For MBA and EMBA students ====================Business StatisticsBusiness CalculusIntroduction to Statistical ReasoningOperational ResearchOptimizationQuantitative AnalysisDecision AnalysisManagement ScienceLinear ProgrammingTransportation ProblemsExcel TableauMathematics and PoliticsProject ManagementTest PreparationSATCBEST, CSET I, II and III (MATHEMATICS for HS and Middle school Teachers)GRE MATHGMAT MATHAP Calculus AB and BCAP StatisticsGraphing Calculation helpHourly Rate : Depending on the subject: ==== Most Math/Stats Subjects $40/hr ================= ★★ $40/hr ★★ ====================================Assignment Help, Homework Help -Step by Step Solutions Rate : $40/hr================================================================================== ★★ $40/hr ★★ =========================================Zoom 1-on-1 tutoring : $40/hr====================================================================★ I can help students with their homework assignments , projects, and prepare for the Exams★★ I will forward you a PDF file of the notes and problems solved during the tutoring session if needed★==★★ Exp University Level Math Tutor (MS Applied Mathematics, MS Applied Statistics and MS Aerospace Engineering) ★★ ================ ★★ ★★ =======================================GRE MATH (My GRE MATH Score : 800/800)============================================================★★ You're not paying for the hours or minutes but for Education, Knowledge and Experience ★★★★★★★★ Text/ Email Preferred (Text for a Faster Response ) ★★★★★★============================================================================Keywords: High School, Middle School, College, University, Home school, Online Help, Google Drive, Zoom, Screen share, whiteboard, , Graphing Calculator Help, Consultation, STEM, Excel, statcrunch, F201, MBA 626, QUMS 505, BUAD 310 (USC), QBUS 215, MATH 227, QMS 321, IS 310 (CSULB), QMS 423, BUS 14A, BUS 14B, Pre-Calculus MATH 1 (UCLA), Introduction to Statistical Reasoning STATISTICS 10 (UCLA), MATH 8 (SMC), MATH 31A (UCLA), MATH 112, MATH 120, MATH 102 (LMU), MATH 142, MATH 241/242, STAT 015, STAT 050, MATH 10, MAT 191, MAT 192, MAT 131, MAT 321, MAT 421, MAT 131, MAT 323, MAE 505, PPD 502X, Psych 210, Psy 3307 , MA-336 (CUNY), MA-114 (CUNY), MA-119 (CUNY) , MA-441 (CUNY), MA-442 (CUNY), MA-440(CUNY), MA-261 (CUNY), MA-121 (CUNY), MA-120 (CUNY), MA-10 (CUNY), MATH 2 (UCSD), MATH 3C (UCSD), MATH 4C (UCSD), MATH 10A (UCSD), MATH 10B (UCSD), MATH 20A (UCSD), MATH 20B (UCSD), MATH 20C (UCSD), MATH 20D (UCSD), MATH 11 (UCSD), MATH 2 (UCSD),Math 165 (El Camino), Math12400,.....(SMC) Math 1, Math 2, Math 2C, Math 3, Math 3C, Math 4, Math 4C, Math 7, Math 8, Math 15, Math 18, Math 20, Math 21C, Math 26, Math 26C, Math 28, Math 29, Math 31, Math 32, Math 41, Math 50, Math 54,Math 54C,Math 81,Math 84,Math 85 (SMC)(SBCC) MATH 114, MATH 117, MATH 110C, MATH 130C, MATH 131, MATH 137,, MATH 138, MATH 150C, MATH 160C, MATH 138, MATH 150, MATH 160, MATH 200, MATH 220 (SBCC), MATH 124, MATH 1040 (Honors), MATH G160, MAT 241 ( Calculus 3/ Chicago/Illinois)Calculus II :Integration by PartsConvergence TEST & Divergence TESTAbsolutely ConvergentConditionally ConvergentGeometric Seriesp-SeriesDirect ComparisonLimit ComparisonRatio TestRoot TestIntegral TestAlternating SeriesCalculus III3D Coordinate SystemsVector FunctionsPartial DerivativesMaximum and Minimum Values (With constraints)Multiple IntegralsVector CalculusLine IntegralsSurface IntegralsApplications (Calculus 1, 2 and 3)College Statistics :Elasticity, ANOVA, Z , t , Normal, Poisson, Binomial, Exponential, Uniform, Negative Binomial, Hyper-geometric distributions , Trigonometry, Integration, Integration by Parts, Differentiation, derivative , Theory of Voting, Majority Rule, Voting Methods, Voting Power, Minimum Spanning tree , Shortest path, spanning tree , PERT, CPM, ALEKS, Cengage ,Canvas, MyMathLab , MyStatLab ,Pearson , Wiley , Brightspace, MyOpenMath, Connect,Webwork. ConnectMath, StraighterLine , Statcrunch ,WebAssign , Lumenohm. etc    \",\n",
       "  datetime.datetime(2021, 12, 16, 8, 27, 3)),\n",
       " (9,\n",
       "  datetime.date(2021, 12, 22),\n",
       "  Decimal('30'),\n",
       "  'None',\n",
       "  'South Bay',\n",
       "  'sf_bay_area',\n",
       "  'Feel free to text me at 909-640-3570Hi, I was accepted into the Ivy Leagues and tutor math, chemistry, and SAT/ACT. I’ve been a tutor for over 8 years working with students of all ages. I help with homework, quizzes and tests. For ACT/SAT I scored in the top 1%, use official practice tests and teach high-level tricks. I tutor through videocall, so you can work with me from the comfort of your home 🏠.+ Math ($30)+ Chem ($35)+ SAT/ACT ($45)+ Online Tutoring (Zoom/Skype/Facetime)Give me a call or text me at 909-640-3570. My schedule is flexible and we can get started ASAP.    ',\n",
       "  datetime.datetime(2021, 12, 14, 13, 24, 2)),\n",
       " (10,\n",
       "  datetime.date(2021, 12, 22),\n",
       "  Decimal('20'),\n",
       "  'None',\n",
       "  'San Francisco',\n",
       "  'sf_bay_area',\n",
       "  '\"Text 2133408660 or register at peerlinc.com for 1 free hour\"\"Hello! My name is Ali Ansari, a UC Berkeley student and the founder of AnsariMath.com. I am a private math tutor for any math level from Basic Math to Multivariable Calculus. I also tutor physics, bio, chemistry, and computer science. I hold a perfect score on the SAT math reasoning and SAT math level 2. I am also the former mathematics competitor for the national Science Bowl team. My number one priority is to make sure that my clients truly understand the concepts rather than memorizing them. Cravings are usually acquisitive, but my craving for mathematics and STEM is different. It\\'s not about what I take in but what I take on. Further, it\\'s not about what I can possess, but about what I can give. Mathematics has been my greatest source of confidence. It\\'s always been there: A very instinctive and obvious strength, however, through math, I\\'ve grown in ways I hadn\\'t foreseen. I have been tutoring for over 5 years. I enjoy every second of tutoring, helping students raise not only their score but their confidence in mathematics. In order to tutor effectively I develop a custom approach that specifically fits all YOUR needs and whether you want to do better in class, study for a certain test, or just learn something completely new, I am here for it! SAT Math 2 score: 800/800 SAT Math 1 score: 800/800 SAT math reasoning test: 800/800\"\"--AliRate: $20/hour (1 hour and 1 week free)\"\"Best tutoring service I have worked with. Flexible hours, fair prices, friendly/knowledgeable staff.\"\"-Daniel\"\" Finally, my daughter has tutors who are extremely knowledgeable and professional. After each session, a progress report is provided, keeping me well-informed. She is now optimistic and hopeful that she will do well in her Math Analysis course.\"\"-Claudina Fenley\"\"Couldn’t have asked for a better tutor! Helped me bring up my grades and prepare me for future courses. Would definitely recommend to anyone struggling with math.\"\"-Nima\"\"I registered to take my ACT in July, and started studying a month before. Math was my weakness and I had limited time to address my content issues, nevertheless, my tutor Peerlinc was so reliable and available for our scheduled appointments, even if they were last minute. At the end of our sessions, I felt confident and prepared content-wise going into the Math Section of my ACT. My tutor taught me how to decode word problems with many factors that to the untrained eye, might look difficult, after just one month of studying my tutor taught me many skills in approaching concepts that I knew, but were worded differently than I was used to. Overall, I had an excellent experience with my tutor and I strongly recommend him to anyone with content issues and a limited time to study!\"\"-Sonya S\"\"Its super easy to book a class you can do it in under a minute.\"\"-Liam Herrera“I could not be more pleased with my daughter’s tutor and this program overall. I love the technology. She enjoys her lesson and is ever more confident in math. She is empowered to schedule her own sessions on the website. Her tutor was kind, positive and gave her follow up homework. I also love that her tutor is a student at a top tier university. It motivates her and she can better visualize herself at an amazing college for added motivation. I highly recommend. Stacey ( mother of a 7 grader)”-Stacey Zionts\"\"Great experience. Needed help with multiple math subjects and accommodate me on everything I needed. Great tutors.\"\"-Shayan\"\"I was struggling during my summer semester in my intermediate algebra class. Luckily, through the tutoring and guidance from Peerlinc tutoring, I was able to bring my grade from a certain F all the way back up to an A. They really had a great way of breaking down each problem to the point where I could understand the material. More importantly, they always made time for me and always prioritized the needs that I had for school. I would highly recommend Peerlinc Math Tutoring to anyone!!!\"\"-David Lindwall\"\"Loved it! Made learning calculus so much easier. The tutors are super helpful and they genuinely care to help you succeed in math. Definitely use Ansari Mathematics!\"\"-Sifath Mannan\"\"Great tutor. Really knows his material. Walked through math , step by step, didn’t skip any parts.\"\"-Greg SiasText 2133408660 or register at peerlinc.com for 1 free hour    \"',\n",
       "  datetime.datetime(2021, 12, 14, 0, 54, 18)),\n",
       " (11,\n",
       "  datetime.date(2021, 12, 22),\n",
       "  Decimal('40'),\n",
       "  'Usf / Panhandle',\n",
       "  'San Francisco',\n",
       "  'sf_bay_area',\n",
       "  'Hi! Offering Math/Calculus, Physics and Chemistry online tutoring sessions for college and high school students. All levels. I have a mechanical engineering background and over 8 years of experience tutoring Math/Calculus, Physics and Chemistry to college and high school students. Affordable and convenient tutoring sessions online at $40 an hour using a shared board and audio platform. Expert in: - Math up to and including Calc 4 (differential equations) - Linear Algebra - Physics (calculus and algebra based) - Inorganic chemistry - Fundamentals of Engineering exam (ME)- SAT Math, SAT Math Levels 1&2- GRE Math - ACT- AP Physics, AP Chemistry, AP Calculus AB, AP Calculus BCReply with what course you need tutoring in and I’ll be happy to help.    ',\n",
       "  datetime.datetime(2021, 12, 13, 8, 32, 4)),\n",
       " (12,\n",
       "  datetime.date(2021, 12, 22),\n",
       "  Decimal('40'),\n",
       "  'None',\n",
       "  'San Francisco',\n",
       "  'sf_bay_area',\n",
       "  'My background:- Currently a PhD student at UC Davis- Undergrad and Master’s degrees from top colleges in EuropeExperience:- 2 years Math tutoring experience- 1.5 years Math and Statistics Teaching Assistant at multiple universities Currently only teaching on Zoom ($40 per hour).    ',\n",
       "  datetime.datetime(2021, 12, 11, 16, 9, 25)),\n",
       " (13,\n",
       "  datetime.date(2021, 12, 22),\n",
       "  Decimal('47.5'),\n",
       "  'Concord / Pleasant Hill / Martinez',\n",
       "  'East Bay',\n",
       "  'sf_bay_area',\n",
       "  \"Dear students and parents,My name is James Xu. I  graduated from UCLA with a B.A degree in Business Economics and Accounting. I have been helping DVC and Saint Mary's College students over then years and a math tutor at DVC college for two semester. I have helped my students greatly improve their math grade, most of them get an A! I can teach all levels of Math, Economics and Accounting the hourly rate is $45-$50 depend on the traveling distance. Sincerely,James Xu    \",\n",
       "  datetime.datetime(2021, 12, 11, 14, 8, 51)),\n",
       " (14,\n",
       "  datetime.date(2021, 12, 22),\n",
       "  Decimal('65.0'),\n",
       "  'Palo Alto',\n",
       "  'Peninsula',\n",
       "  'sf_bay_area',\n",
       "  'Need extra help to further excel in your desired subject? I am an experienced Math and Physics tutor to provide learning services to students in high school and college to improve in their courses. I have my PhD in Applied Physics from Stanford University and my undergraduate degree in Engineering Physics, specializing in Electrical Engineering. I am available via zoom or in person locally in the Peninsula and East Bay Area.High school courses $60/hrCollege courses $70/hrPlease feel free to reach out if you have any questions or are interested in my services. Thank you.',\n",
       "  datetime.datetime(2021, 12, 10, 16, 57, 49)),\n",
       " (15,\n",
       "  datetime.date(2021, 12, 22),\n",
       "  Decimal('45'),\n",
       "  'Berkeley',\n",
       "  'East Bay',\n",
       "  'sf_bay_area',\n",
       "  'Former UC-Berkeley economics Ph.D. student and TA offers virtual tutoring for undergraduate and secondary school economics and math classes. Rush notice and latenight availability may be available. Undergraduate rates: $45/hour for lower division courses and $55/hour for upper division courses. Secondary rates: $40/hour for regular classes, $50/hour for AP/gifted classes.Full payment is required at the beginning of the lesson.    ',\n",
       "  datetime.datetime(2021, 12, 10, 15, 3, 53)),\n",
       " (16,\n",
       "  datetime.date(2021, 12, 22),\n",
       "  None,\n",
       "  'Ingleside / Sfsu / Ccsf',\n",
       "  'San Francisco',\n",
       "  'sf_bay_area',\n",
       "  \"BlakeTutoring.comOVER 450 5-star reviews on Wyzant & Thumbtack1 hour sessions for only $5730 minute sessions for only $35Text/Call: 724-804-8356Hi, my name is Alexander Blake, and I have been tutoring for over 10,000 hours! I graduated with a Bachelor's in Computer Science from California State University, Fullerton. In my time tutoring, I have tutored elementary through graduate level students.I have successfully prepared students for SAT and ACT Math tests, and up to Calculus level work. In high school, I was in an accelerated math program where I was able to take AP Calculus AB my junior year, and AP Calculus BC my senior year. After taking the AP Calculus AB & BC Exams, I scored a 5 out of 5 on both tests. This allowed me to not only begin my higher-level math courses early in college but has also enabled me to keep my math skills refined, and graduate with a 3.8 GPA.My tutoring philosophy focuses on the individual. I like to know what each of my clients likes to do outside of school so I can relate the math concepts they are learning about things they enjoy doing. To accomplish this, I personally design my lesson plans and customize them to my client's personality. For example, if I have a student that plays basketball, I will have them solve problems that incorporate concepts of basketball, such as finding a team's field goal percentage. By focusing on each person uniquely, I am able to fully understand why the student is not grasping certain concepts and can help them understand concepts and terms they are already familiar with. This is why all of my students have been and will continue to be successful!Math: Algebra I/II, Calculus (AP AB & College Level), Common Core, Geometry, Precalculus, Statistics (AP/College Level), & TrigonometryComputer Science: AP CS A/Principles, C/C++, CSS, HTML, Java, JavaScript, Linux (Bash/Zsh), Python, & SQLTest Preparation: ACT (All Sections), ASVAB, GED, HiSET, & SAT (All Sections)Text/Call: 724-804-8356 \",\n",
       "  datetime.datetime(2021, 12, 9, 11, 57, 15)),\n",
       " (17,\n",
       "  datetime.date(2021, 12, 22),\n",
       "  Decimal('25'),\n",
       "  'San Jose North',\n",
       "  'South Bay',\n",
       "  'sf_bay_area',\n",
       "  'Hello Everyone, My name is Rinki and  I teach maths and science for elementary, middle school and high school students .I have been tutoring math and science for more than 2 years in India.I have a bachelor degree in computer science (engineering) and have a working experience of more than 7 years in Information technology industry. My goal is helping students to achieve various goals (improving GPA, establishing the way to study, developing problem solving skill..)The cost is $25 /hr and first class is free. I take cash and Debit/credit cards (square), and Venmo/Cashapp, Zelle,Apple PayCell no. 4084251341    ',\n",
       "  datetime.datetime(2021, 12, 9, 10, 52, 36)),\n",
       " (18,\n",
       "  datetime.date(2021, 12, 22),\n",
       "  Decimal('45'),\n",
       "  'San Jose',\n",
       "  'South Bay',\n",
       "  'sf_bay_area',\n",
       "  'Hello All,My name is Qusai. I have been a tutor and a teaching assistant for over 7 years. I recently graduated from UC Santa Barbara where I used to teach undergraduate students. I have taught and tutored more than 200 students and have put in more than 300 hours of teaching time. The most important aspect of tutoring, in my opinion, is to identify and fill in gaps in their knowledge. The last thing you want is your child having trouble with a specific concept because their foundation was shaky. I can help make sure there are no gaps in their knowledge and make sure they are performing well in school.Some places I have taught:- Los Angeles Pierce College- UC Santa Barbara- For a Company in Shanghai, China- Private Clients in LASpecialty Subjects:- Algebra 1- Algebra 2- Geometry- Precalc- Math Analysis- Trigonometry- Chemistry 1- Biology- Essay WritingQualifications:Undergrad: UC BerkeleyGrad: UC Santa Barbara(Check out some of my reviews in the images attached)If you are looking to help your child in high school or college, reach out to me. I can help break things down and get them back on track towards a positive future.Rate: $45/hourOnline TutoringNote: I have all the tools for effective online tutoring including screen share and a stylus/digital whiteboard.Text, call, or email- Qusai from QS Tutoring',\n",
       "  datetime.datetime(2021, 12, 8, 13, 38, 26)),\n",
       " (19,\n",
       "  datetime.date(2021, 12, 22),\n",
       "  Decimal('50'),\n",
       "  'Palo Alto',\n",
       "  'Peninsula',\n",
       "  'sf_bay_area',\n",
       "  \"I am an experienced male tutor with PhD degree from Stanford University (engineering). I teach math and science for middle school and high school students. While I am working in technology industry, I also enjoy teaching. I am currently teaching about 10 students, and looking for a few students for winter. My goal is helping students to achieve various goal (improving GPA, establishing the way to study, developing problem solving skill...). I teach at students' home or public places such as coffee shops. My rate is $50/h flat rate. Zoom tutoring is also available.(Currently only Zoom sessions are available.) Reference is available upon request. Subjects general math algebra trigonometry geometry pre calculus analysisH AP calculusAB/BC multivariable calculus physics/AP physics chemistry/AP chemistry SAT (math, physics, and chemistry)/ACT Please feel free to send me an e-mail if you are interested in my service.  Thank you.    \",\n",
       "  datetime.datetime(2021, 12, 8, 10, 21, 10)),\n",
       " (20,\n",
       "  datetime.date(2021, 12, 22),\n",
       "  Decimal('35'),\n",
       "  'San Francisco',\n",
       "  'San Francisco',\n",
       "  'sf_bay_area',\n",
       "  'Hello Everyone,My name is Maggie and I am currently a Math graduate student.I can online tutor any kind of Math at a high school and beginning college levelfrom College Algebra I and IIGeometryTrigonometryPre-CalculusCalculusAP Calculus testand CBESTThe cost if $35 hr I take cash and Debit/credit cards (square), and Venmo/Cashapp, Zelle951-289-0121    ',\n",
       "  datetime.datetime(2021, 12, 7, 15, 40, 14)),\n",
       " (21,\n",
       "  datetime.date(2021, 12, 22),\n",
       "  Decimal('42.5'),\n",
       "  'San Mateo',\n",
       "  'Peninsula',\n",
       "  'sf_bay_area',\n",
       "  \"!!** ALL SUBJECTS PROFESSIONAL TUTOR: ∰Math E=mc²Science English Chemistry Biology Spanish Pro Tutor All Grades $40hr: 10 YEARS EXPERIENCE*!!Only in Person: $40 or at Home: $45!!**I'M ALWAYS WORKING WITH STUDENTS!!**PLEASE ONLY CONTACT ME BY TEXT-No Calls of any Kind-AND MENTION TYPE OF HELP NEEDED PLUS PREFERRED DAY, TIME AND LOCATION**!!I Tutor Students from Every Grade and Level Up to College.I HAD STUDENTS FROM:*ELEMENTARY AND MIDDLE SCHOOLS: Henry Ford (1st to 8th Grade), Hawes, Adelante (1st to 6th grades), Selby Lane (1st to 7th grade), MIT (1st, 2nd, 3rd grades), John Gill(1st, 2nd, 3rd grades) , Notre Dame(5th and 6th grades), Mount Carmel (1st, 2nd, 3rd grades), La Entrada (3rd, 4th and 5th grades), Roosevelt (5th to 8th grade), North Star (1st to 8th grade), Almond Elementary (1st and 4th grades), German American School (3rd and 8th grades), St. Timothy's (1st, 7th and 8th grades), College Park (1st, 2nd grades), Bowditch (7th grade), Rocketship (1st-4th grades), Sacred Heart(1st grade), St. Matthew's( 6th, 7th, 8th grades: all subjects), Highlands Christian (1st, 5th, 7th grades: all subjects), Burbank Elementary( 1st-4th grades), Phillips Brooks School (1st, 4th Grades), Abbot Elementary (8th Grade) .*HIGH SCHOOLS: Summit Prep High (Algebra1-2, Statistics, Pre-Calculus, Calculus), Everest High (Chemistry, Trigonometry, Spanish), Woodside High (Algebra 1, 2, Geometry, Physics, Chemistry, Pre-Calculus, AP Calculus, AP Statistics, English, Spanish 1-3 AP), Sequoia High (Algebra 1, 2, Pre-Calculus, Calculus, Chemistry, Spanish, French), Menlo-Atherton High (Algebra 1, 2, Geometry, Spanish 1, 2, English, Chemistry, AP History), Hillsdale High (Chemistry, Geometry), Carlmont High (English1,2,3,Senior, Chemistry, AP Calculus, Spanish 3, Pre-Calculus), Mills High (Spanish 3-4, Algebra 2, Bio), Woodside Priory (Geometry, Algebra 2, Physics, Pre-Calculus), Aragon High(Spanish 1,2,3, English, Geometry, Algebra 2, Chemistry, Pre-Calculus, AP Calculus, AP Computer Science), Burlingame High( Geometry, Spanish, Algebra 2), Castilleja (Spanish 3, Algebra 2), Notre Dame High(Geometry), Junipero Serra High (Algebra1), Mercy High(Geometry, Algebra 2), Castro Valley High(AP Physics, AP Biology, SAT General, SAT Biology, SAT Physics, AP Calculus, AP Statistics), Los Altos High (Pre-calculus), Saint Francis (Algebra 1 Honors).*COLLEGES AND UNIVERSITIES: Stanford University, Northern Arizona University (Finite Math, College Algebra), University of North Carolina, College of San Mateo (Math 200, Statistics, Math 241 Applied Calculus), Canada College (Math 200, Statistics, Math 130 Trigonometry), Foothill College (Math 10, Statistics), De Anza College (Math 10 Statistics), City College of San Francisco (Math 110A, Calculus I), UC San Diego (Introduction to Statistics), University of the Pacific (GRE), UCSF (Biology, Physics, Chemistry, Organic Chemistry, Pre-Calculus, Business Statistics, English), UC Merced (CSE 015: Discrete Mathematics, Calculus 1).*HOME SCHOOLING: 4th and 6th grades (All Subjects: Math, English Reading, Writing, Comprehension, Grammar, Science, Social Studies), 10th Grade (All Subjects: Algebra 1-2, English Writing and Composition, History, Environmental Science), 9th Grade (Geometry, Algebra 2), 11th Grade (Physics).*Catholic High School Entrance Exams (COOP, HSPT, TACHS, math, reading, logic).*GIFTED STUDENTS: Advanced math and science for young, advanced students to prepare them for advanced classes, math and science Olympiads or math Kangaroo.* INTERNATIONAL STUDENTS: ESL (English As a Second Language) for international students, 1st to 12th grades, who speak no word of English to beginning, intermediate and advanced, including vocabulary, phonetics, speaking, writing and pronunciation. I had many students from: China, Taiwan, Korea, Thailand, Mexico, Belgium, Israel and others.*I CAN HELP WITH: HOMEWORK, SCHOOL PROJECTS, TEACH AND IMPROVE ENGLISH READING, WRITING, COMPREHENSION, SPEAKING, ESSAYS, BOOK REPORTS, MATH, SCIENCE, LANGUAGES AND ANY OTHER SUBJECTS SO STUDENTS CAN ALWAYS BE AHEAD.The Subjects I Tutor Include:*MATH: ALGEBRA, GEOMETRY, STATISTICS, TRIGONOMETRY,CALCULUS.*ENGLISH: READING, WRITING AND COMPOSITION, COMPREHENSION, ESSAYS, BOOKREPORTS, ESL, PUBLIC SPEAKING.*SPANISH: BASIC TO ADVANCED, FLUENCY, WRITING, GRAMMAR, SPEAKING AND LISTENING.*FRENCH: BEGINNING TO INTERMEDIATE.*PHYSICS, CHEMISTRY, BIOLOGY: BASIC TO ADVANCED AP.*TECHNICAL AND ACADEMIC TRAINING: WORD, EXCEL, POWER POINT,SAT General, SAT Subject, AP Classes, GED, CBEST, GRE, COLLEGE PREP, WEBPAGES.!!**I mainly tutor, in person, at the Downtown Redwood City, downtown San Mateo, Foster City or Millbrae libraries. or Starbucks, library: 40hr or !!**at home ($45): Redwood City, San Mateo, Foster City, Millbrae and surrounding cities only!!**--------------------------------------------------------------------------------------------------------------------------------------------------Key words: Math tutor, Science tutor, Spanish tutor, English tutor, ESL, International Students, Calculus tutor, Algebra, Geometry, Chemistry tutor, Statistics Tutor, Los Altos, Los Altos Hills, Mountain View, Palo Alto, Menlo Park, Atherton, Redwood City, San Carlos, San Mateo, Foster city, Hillsborough, Burlingame, Millbrae, San Francisco, Alameda, East Bay, Contra Costa, Santa Clara, San Jose, Cupertino.    \",\n",
       "  datetime.datetime(2021, 12, 7, 8, 43, 38)),\n",
       " (22,\n",
       "  datetime.date(2021, 12, 22),\n",
       "  Decimal('35.0'),\n",
       "  'None',\n",
       "  'South Bay',\n",
       "  'sf_bay_area',\n",
       "  'Hi,Math has always been my strong suit. I have tutored various leveled students from Pre Algebra to Calculus. I am familiar with the curriculum of home schooling and have worked with students who do their courses in an online school or University. I teach and encourage them to find the solutions to math problems step-by-step. I teach and/or review concepts with basic, easy-to-understand explanations, delving deeper if needed. I tutor the following subjects: Pre-algebra, Algebra 1 and 2, Geometry, Trigonometry, Pre -Calculus, and Calculus.I usually charge $30 to $40 per hour. Please contact me for more details. ',\n",
       "  datetime.datetime(2021, 12, 4, 13, 18, 31)),\n",
       " (23,\n",
       "  datetime.date(2021, 12, 22),\n",
       "  Decimal('25'),\n",
       "  'South San Francisco',\n",
       "  'Peninsula',\n",
       "  'sf_bay_area',\n",
       "  'If you need an online or in-person Math Tutor on the following subjects at Middle School,  High School,  or College level, we can help you! Tutorials: Mathematics, Algebra 1 & 2, Geometry, Trigonometry, PreCalculus, AP Calculus/Calculus, AP Statistics/Statistics, Linear Algebra, Physics, and Econometrics. Test Preparations:  SAT, SSAT, ISEE, and Electrical Apprenticeship Math.Rate starts at $25/hour    ',\n",
       "  datetime.datetime(2021, 12, 4, 13, 15, 33)),\n",
       " (24,\n",
       "  datetime.date(2021, 12, 22),\n",
       "  Decimal('70.0'),\n",
       "  'Online',\n",
       "  'East Bay',\n",
       "  'sf_bay_area',\n",
       "  '\"About meI am a motivated and energetic UCBerkeley (B.S. in Engineering Physics) and USC alumnus (Graduate studies in Biomedical Engineering) with over 20 years of tutoring experience to middle school, high school, and undergraduate students in a variety of topics. I also have extensive experience in applying many of the topics I tutor through hands-on research experience in world-class research institutions such as Lawrence Berkeley National Laboratory, IBM Almaden Research Center, California Institute of Technology, University of California at Berkeley, University of Rochester, and Swiss Federal Institute of Technology in Zurich, Switzerland. A more detailed resume is available upon request.SubjectsThe topics that I can tutor include:- Math: Algebra, Calculus, Geometry, Linear Algebra, Differential Equations- Physics: AP Physics, most of undergraduate physics courses- Chemistry: AP Chemistry, General College Chemistry- Engineering: Statics, Dynamics, Continuum Mechanics, Digital and Analogue Circuits- Computer programming: Matlab, JAVA, C++RatesMy rates are generally very flexible and range between $60-$80/hr depending on the subject of study. Group discount is also available to a group of 2 or more students. Contact InformationPlease send me an email with your name, number, subject of the inquiry, as well as availability and the best time to contact you, and I will be in touch with you shortly. Please don\\'t hesitate to contact me should you have any questions and/or would like to make an appointment for a first session. Don\\'t wait until the last day of class to seek tutoring. I look forward to hearing back from yousome of the past testimonials:\"\"Sepehr is undoubtedly the tutor you want to prepare you for challenging classes! He tutored me through Physics 8B at UC Berkeley and by the end of semester, I honestly felt ready for the final. He thoroughly explains all of the material, and is very, very good at answering questions. That said, I really appreciated how devoted, organized, and patient he was all throughout the semester. He also comes out to Berkeley two times a week, so it is very convenient to meet with him. If you are a dedicated student that is serious about your work, this tutor is the one for you!. \"\"Camila H, UCBerkeley, Physics\"\"I have always struggled significantly with math. A requirement for acceptance to my graduate program is Physics which terrified me. It had been 10 years since my last math class and I was completely unprepared for physics. Despite studying very hard for my first exam, it came back with an \"\"F\"\" on it. My options were either drop the class or get a tutor. After speaking with Sepehr I was convinced that I\\'d be able to make it through physics. After just one session I was able to understand the material more thoroughly and my next exam grade jumped to an \"\"A\"\". My grades remained high and I completed the course earning an \"\"A\"\" overall. Sepehr went above and beyond to make sure that I truly understood the material. He was able to identify why I was having trouble and adapt his style to get at the root of my difficulties. Additionally, he pushed me to work hard. He was genuinely proud of me when I did well which motivated me even more so I would not let him down. Sepehr is very intelligent person who seems to receive great satisfaction from sharing his knowledge. \"\"Dave K, Santa Monica College, Physics\"\"I remember being so lost and so confused when I first started out in the CS field in college. It was hard getting by class and understanding what was actually going on. One of the biggest reasons was that I never had a CS background back in high school. With the already fast pace of the class, the lack of a CS background made things exponentially harder to the point where I just felt like I was falling back behind the other students. Understanding my situation, I went through several tutors to try catch up, but none of which really showed me how to go about completing a project. Instead they just told me the answers, so I ended up learning nothing. They helped me survive school, but I wanted to excel in it. This \"\"show not tell\"\" style of teaching, the most effective in my opinion, is a skill that Sky Tutoring has mastered. My tutor understood my situation from the very beginning of our sessions and even developed a personal plan for me to learn as much as possible. He knew right away, which fundamental concepts I lacked and which concepts I was already strong in. Many tutors before were able to get me the grades I wanted, but Sky Tutoring gave me the fundamentals and more. Learning and understanding is the number one priority of Sky Tutoring, thanks to my tutor, I felt at ease whenever I had an upcoming cs project. For grades, you can go to any tutor. But for gaining a refined set of skills that can last you a lifetime, I highly recommend Sky Tutoring.\"\"Derrick Ch, UCIrvine, Data Structures in Java\"\"I would like to recommend Sepehr as an Algebra, Geometry and Chemistry tutor. He has tutored my daughter in these 3 subjects during the past 7 months and her understanding of the subject matter and her grades have improved significantly. His knowledge of the subject matter is outstanding. He has the ability and communication skills to take complex and complicated materials and make them easy to understand. My daughter looks forward to her tutor sessions with him. He has taken 3 very hard and boring subjects and made them exciting and fun to learn. I whole heartedly would recommend him for anyone who needs assistance with Algebra, Geometry or Chemistry. He truly is a professional. If you are looking for a tutor in any of these subjects, both my daughter and I agree, he is the \"\"Best\"\".\"\"Charles A, Los Angeles, Chemistry, Algebra, Geometry\"\"Sepehr was very helpful and very patient. He answered all of my questions with useful explanations, and made a big difference for me in learning C++ with almost no programming experience. He was generous with staying a little later at the end of the sessions when I needed more help.\"\"Will B, Programming in C++\"\"Sepehr has been my tutor for math and physics for two years now. As a computer engineering major, my math and science courses have gotten pretty advanced, but I have yet to take a math or science class Sepehr couldn\\'t help me with. So far, he has tutored me in Calculus 1, Physics: Mechanics, and Physics: Electromagnetism. I ended up getting A\\'s and B\\'s in all of those classes. I am a really hardworking and dedicated student, but everyone gets stuck sometimes. Sepehr has such a broad knowledge of the big picture that he can really help me understand exactly what it is I\\'m learning and what it\\'s leading up to. He is really smart and is able to look at any textbook I\\'ve shown him and immediately know how to do it, what\\'s important, how it fits into the big picture, and, most importantly, how to explain it to me. He\\'s a great tutor and a great guy.\"\"Trent R, Santa Monica College, Calculus I, Physics I, Physics II\"\"I used Sky Tutoring services for Physics 4A at Berkeley City College (the equivalent of Physics 7A at UC Berkeley). Sepehr was very professional and always punctual for our meetings. He has a thorough understanding of the material and was able to help me work through some of the more difficult practice problems from the book. His explanations definitely clarified the information that was not presented in an approachable way during lectures. Overall I would recommend his services because by having him explain complex concepts during individual sessions, it is easier to absorb the material at your own pace.\"\"Morgan P, Berkeley City College, Physics I\"\"After a few sessions with Sepehr I quickly realized I was not only receiving excellent tutoring, but I had acquired a mentor in physics that cared about my success and understanding of the material. Sepehr\\'s vast knowledge of the subject allows him to answer virtually any question that deepens an understanding of physics. Most of my sessions showed little regard to a definite ending time of a two hour session where Sepehr and I often worked overtime in order to keep the momentum of a difficult problem going. Sepehr\\'s energy and enthusiasm really helped trudge through some of the more difficult areas of physics -- I highly recommend this tutor that understands where you may be having difficulty and truly seeks to facilitate growth. I owe my final grade of an A in physics 4A (w/ Calculus) to the root understanding of physics that Sepehr helped me achieve.\"\"Andrew K, Berkeley City College, Physics I\"\"I started Physics 1 and before I finished my first homework assignment, I realized I was in trouble. I had no concept of how to approach physics problems and my professor had no clue how to show this to the class. Sepehr showed me the proper way to approach the material and set up the problems. The class was still extremely difficult and frustrating, but I managed to walk away with an A-. Had I not sought Sepehr\\'s help, I think I would have dropped the class. He explains material clearly and concisely and he drills you on how to build good habits when approaching problems. As long as you are willing to put the work in, he will help you to learn Physics very well.\"\"Thomas W, UCBerkeley Extension, Physics I\"\"Sepehr tutored me in Physics II, which covers electricity, magnetism, optics, waves, and sound. I did not do as well as I wanted to on my second midterm and so I was a little worried about not getting the grade I wanted for the class. I was also struggling with the concepts of magnetism and electricity. So I decided to meet with Sepehr and he was able to answer every question I asked in several different ways. Whenever I seemed unconvinced by his answer, he would try a different approach to make sure that I really understood what was happening. I met with Sepehr for two very productive 2-hour sessions. I got an A in the class and my success is due to the time I spent working out the concepts and problems with Sepehr. This man is also a workhorse. On one of the days, I was his 6th student and he was still energetic and sharp. He truly enjoys what he does.\"\"Mara C, Samuel Merritt University, Physics II\"\"Sepehr is an excellent tutor. He is very dedicated to his students and goes above and beyond to help them succeed. His knowledge of physics and chemistry is excellent and is very good at explaining key concepts it a concise manner that makes a very complex subject like physics much more manageable. I contacted Sepehr after receiving my first midterm grade and with 1.5 months of hard work and tutoring, I was able to drastically improve my grade in both subjects. Thank you Sepehr for your teaching and dedication..\"\"Joel L, UCBerkeley Extension, Physics I, Chemistry II\"\"Sepehr tutored me in Physics 4A and 4B. We had scheduled 2 hr sessions once a week and he was often willing to schedule additional sessions when there were upcoming exams. His explanations were thorough and he was very patient with me. He helped me feel much more comfortable taking these difficult classes.\"\"Sachi I, Laney College, Physics I, Physics II    \"',\n",
       "  datetime.datetime(2021, 12, 22, 10, 5, 31)),\n",
       " (25,\n",
       "  datetime.date(2021, 12, 22),\n",
       "  Decimal('60'),\n",
       "  'None',\n",
       "  'San Francisco',\n",
       "  'sf_bay_area',\n",
       "  '\"Have you ever gone into a math or science test well-prepared but afterward felt like the test threw you a curveball? Do you sometimes struggle with what approach to take in solving a math problem in a topic that you already studied? I want to help ensure that doesn\\'t happen to you or repeat itself by teaching you in a way that ensures that you not only to learn the material well but also build creativity in tackling new problems and question types. Over many years of tutoring, I\\'ve developed a knack for teaching math and physics in a way that gives students the best chance of solving a wide range of problems, including those that they\\'ve never seen before. Here is feedback from a student that benefitted from my tutoring approach:“Daniel was a huge help when I took Physics 1 in the summer. He was very responsive to emails and worked efficiently during tutoring sessions. I went from failing my first test to an A on the last. Daniel’s strategy was to make sure I was understanding the concepts so that I could creatively think my way to solve the more complex problems. I learned skills that I have used in other classes and my grades reflect that.”— Kathy R., PRE-MED STUDENT at TCUI\\'m having success helping students in math, physics, and statistics at high school, college, and beyond. Specific subjects I\\'ve recently taught include Algebra, Busines Statistics, AP Calculus (AB & BC), AP Statistics, AP Physics (Algebra- and Calculus-based), Business Calculus, Pre-Calculus, Calculus I, II, & III, College Physics, and University Physics. I\\'m good at breaking down difficult concepts and explaining the type of challenging homework problems that would naturally be expected at the AP and College levels. My tutoring skills are constantly being strengthened through feedback I seek from students. Here is another testimonial I received on my tutoring:\"\"Daniel is by far the best tutor I have ever worked with. His knowledge in physics and math is unparalleled and if he happens to stumble upon a concept he isn’t familiar with he will work his hardest to understand it. He is very good at breaking down difficult concepts into easily understood fractions that are much easier to understand. Once, I missed school for a little longer than a week and fell behind in physics. Daniel helped teach me the topics I’d missed and when quizzed over the material I received a 100. He is kind and understanding and I would recommend him to anyone that needs help in school.\"\"— Matt M., HIGH SCHOOL SENIOR at ALL SAINTS\\' EPISCOPAL SchoolAnd here\\'s more info about my work: In my approach to tutoring, I\\'m very mindful that every student is unique, so I pay close attention to seeking methods that produce the best possible learning with how each individual is wired. I\\'m not afraid to ask feedback questions to learn what works and what doesn\\'t. And a well-asked question would also usually stimulate thinking and help students retain learned information longer. In order to truly help my students, I am humble and willing to learn how they learn. In over 10+ years of tutoring, I\\'ve had the pleasure and privilege of helping many clients succeed.After completing my first degree, I spent a summer taking graduate courses in math and computing in linear algebra and differential equations and in scientific computing at Harvard University Summer School. Before that, I earned by B.S summa cum laude in math along with minors in computer science and economics and upper-level coursework in physics. I received a full college scholarship and a number of university-wide awards.Subjects in which I have an excellent grasp or have tutored include: Physics (College Physics I &II, University Physics I & II, AP Physics, and High School Physics)Math (All algebra till College Algebra, Geometry, Trig, Pre-Calc, Calculus I, II, & III, Business Calc, Finite Math, Integrated Math) GRE Math, GMAT Math, & SATStatistics (College-level and High School)Intro to Computer Science and Computer ProgrammingBy drawing from how I prepared and made perfect scores or scores above the 90th percentile on several standardized tests and test components,   I\\'ve also coached students on test preparation for SAT, GRE, and GMAT. This helped to further hone the depth and breadth of my tutoring skills.Sessions are scheduled for a minimum of one hour. Virtual tutoring has been getting increasingly popular. I have a good tutoring setup by Google Meet that includes a whiteboard for writing as one would write with pencil on paper and that permanently saves lesson notes for future review and reference. The days I\\'m best available to respond to inquiries and to set up tutoring for are Saturdays, Tuesdays, and Thursdays.Satisfactorily meeting your needs in the fairly advanced subjects I teach would usually require significant chunks of time ahead of each session to prepare and to think of good ways to explain solutions to the questions you have. With this in mind, the fee for the high-quality tutoring you\\'d be receiving at this busy time of the semester is $60 per hour. I look forward to serving you as best as I can. You can call or text me at 903-884-6744 or email me through this ad. The best days to contact me are Mondays, Tuesdays, or Thursdays.    \"',\n",
       "  datetime.datetime(2021, 11, 29, 21, 24, 6)),\n",
       " (26,\n",
       "  datetime.date(2021, 12, 22),\n",
       "  Decimal('60.0'),\n",
       "  'Santa Rosa',\n",
       "  'North Bay',\n",
       "  'sf_bay_area',\n",
       "  \"Experienced, qualified Middle School teacher (licensed in both California and Hawai'i) offering virtual one-on-one Math tutoring via Zoom to support students with their specific academic needs.  Price per session begins at $30. Please contact me for more information and to schedule a free consultation.  Session Options/Pricing:Initial Consultation (Free)30-minute session ($30)60-minute session ($60)90-minute session ($90)\",\n",
       "  datetime.datetime(2021, 11, 28, 23, 21, 44)),\n",
       " (27,\n",
       "  datetime.date(2021, 12, 22),\n",
       "  Decimal('60.0'),\n",
       "  'Santa Cruz',\n",
       "  'Santa Cruz',\n",
       "  'sf_bay_area',\n",
       "  \"Experienced, qualified Middle School teacher (licensed in both California and Hawai'i) offering virtual one-on-one Math tutoring via Zoom to support students with their specific academic needs. Price per session begins at $30. Please contact me for more information and to schedule a free consultation.Session Options/Pricing:Initial Consultation (Free)30-minute session ($30)60-minute session ($60)90-minute session ($90)    \",\n",
       "  datetime.datetime(2021, 11, 28, 23, 20, 50)),\n",
       " (28,\n",
       "  datetime.date(2021, 12, 22),\n",
       "  Decimal('50.0'),\n",
       "  'San Francisco',\n",
       "  'San Francisco',\n",
       "  'sf_bay_area',\n",
       "  \"ABOUT MEI'm a math and science tutor who works with San Francisco/Daly City middle and high school students. I've been teaching for 4 years and specialize in helping high school students feel more confident in Algebra and Pre Calculus. My goal isn't to answer my students' questions as fast as possible or to do their homework, but to help them see patterns so they can solve problems when their big tests come around. My experience started when I took honors and accelerated classes in middle and high school. Later in life, I graduated with a Civil Engineering degree from Santa Clara University and currently work at a Transportation Engineering company in San Francisco. I recently passed my Fundamentals of Engineering Exam where I studied multiple subjects in math and science so I am fresh on various topics.When I'm not working my day job, you can find me riding my bike, reading, or tutoring in Pre-Calculus or Japanese (as I am half Japanese/American). Tutoring brings me great joy as I love seeing my students feel more confident because they get better grades in classes they used to struggle in. Not only am I really good at tutoring, but I also connect easily with my students. I can provide references from previous families if needed. I am fully vaccinated. SUBJECTSMath:- Algebra (Pre, 1 and 2)- Geometry- Pre Calculus- Calculus- Probability and StatisticsScience:- Biology- Chemistry- Physics- Environmental Science- Circuits/ElectricalI'm also a tutor in Japanese. Ask me for more details.AVAILABILITY & RATESI'm generally available 7 days a week. Weekdays 4-9 pm and Weekends 10 am - 8 pm.I can either come to your house to tutor or we can meet at a local libraryMy hourly rate is:$50 - 80 (In Person)$50 (Online)\",\n",
       "  datetime.datetime(2021, 11, 28, 21, 7, 24)),\n",
       " (29,\n",
       "  datetime.date(2021, 12, 22),\n",
       "  Decimal('40'),\n",
       "  'Downtown / Civic / Van Ness',\n",
       "  'San Francisco',\n",
       "  'sf_bay_area',\n",
       "  'Instead of spending countless hours with the homework, tests, and quizzes, your online math classes, on any popular online platforms, could be assisted. Whether it is Pearson, Aleks, Blackboard, or Webassign, the years of experience navigating in these platform have helped many other students who received such service in the past to obtain their desired, above average passing results!The following online math classes are available for service:- Intermediate Algebra, College Algebra- Geometry, Trigonometry, PreCalculus- Calculus 1/2/3, Business Calculus- Statistics, Business Statistics, Bio/Psychology Statistics- Finite Math, Liberal Art MathEstimate based on the detail of each assignment or assessment, average $40 an hour. Please contact me at (626) 200-5922 at least few days prior to the due date of the assignment or assessment for smooth, comfortable remote experience.Thank you so much and I look forward to work with you!- Terry------------Keywords: Math, Homework, Test, Exam, tutor, proctor, proctorio, proctorU, Teacher, Helper, Completion, Complete, Online, Remote, Quizzes, Quiz Mathematics, College, Algebra, final, course, aleks, webassign, pearson, mymathlab, cengage, SPSS, mathxl, mcgraw-hill, apex, connectmath, connect, mystatlab, respondus lockdown, web, assign, Canvas, d2l, Desire2learn, professional, writing, assignment, assignments    ',\n",
       "  datetime.datetime(2021, 11, 28, 14, 20, 58)),\n",
       " (30,\n",
       "  datetime.date(2021, 12, 22),\n",
       "  Decimal('80'),\n",
       "  'Atherton',\n",
       "  'Peninsula',\n",
       "  'sf_bay_area',\n",
       "  \"I am the founder of Iterative Venture - a Facebook alumni angel investment syndicate. The reason why I am posting on Craigslist is because I am currently not drawing on salary and that can make the cashflow situation precarious. As such, I want to do what I can to make this work and thus I am freelancing and bridge the gap.== EDUCATION ==- Former engineer at Facebook- Co-founder of my own company right now- B.S. Electrical Engineering and Math Economics from UCLA- Top of UCLA Engineering Graduation Class- Linkedin: https://www.linkedin.com/in/richard-chen-04697215/- UniversityTutor profile: https://athertonca.universitytutor.com/tutors/186729== EXPERIENCE ==I have a passion for learning and teaching math and science, having tutored high school science and math for over 7 years since senior year in high school. While as a student at UCLA, I also enthusiastically helped others by participating in leading workshops as well as mentoring incoming students.== Experience ==Having the experience of helping people from various background, I am able to see these subjects from the students' point of view and help students understand with the best studying strategy suitable for the students. In addition, I believe that only a patient tutor is able to help students build a solid foundation.I am not just a tutor but I work with parents and students on setting the best strategy as well as studying habit and schedule in order to achieve the best grades possible. Typically I break down my lecture to be 25% lecture and 75% practice. I believe that only with ample practice can a student do well. Most students have tremendous improvement over the course of tutoring in a matter of weeks.I am also on the UCLA committee for the engineering school recommending students for engineering scholarship so I can also provide guidance on application essay writing as well as admissions.Style: I am teaching you a method rather than just what's in the book. Furthermore, my goal is to inspire you to do well.Standardized Test Scores: - SAT Math I: 800/800 - SAT Math IIC: 750/800 - SAT II Chemistry: 750/800 - SAT II Physics: 800/800 - SAT II Chinese/Mandarin 800/800 - High school GPA: 4.0/4.0 un-weighted - ValedictorianSelected Results: - College Organic Chemistry - D+ to A- - College Physics - C- to B+ - High School Chemistry C+ to A - SAT I Math 800/800 - AP Statistics 5, A - AP Chemistry 5, A - AP Physics 5, A - AP Calculus AB 5, A - AP Calculus BC 5, A - SAT Math 800 - SAT Math IIC 800Latest Results: - AP Physics B from D- to B+ - AP Physics C from C to A-, 5 - AP Calculus BC from B- to A-, 5Have helped students getting into (Mainly engineering/political science/economics/business majors): - Stanford - Harvard - Cornell - University of Illinois Urbana Champaign - Georgetown - Syracuse - Johns Hopkins - UCLA - USC - Berkeley - UCSD - Vanderbilt - NYU - Columbia== Fee ==I charge $80 per hour. No extra cost for traveling and off-hour help!!\",\n",
       "  datetime.datetime(2021, 11, 28, 13, 17, 39)),\n",
       " (31,\n",
       "  datetime.date(2021, 12, 22),\n",
       "  Decimal('80'),\n",
       "  'Redwood City',\n",
       "  'Peninsula',\n",
       "  'sf_bay_area',\n",
       "  \"I am the founder of Iterative Venture - a Facebook alumni angel investment syndicate. The reason why I am posting on Craigslist is because I am currently not drawing on salary and that can make the cashflow situation precarious. As such, I want to do what I can to make this work and thus I am freelancing and bridge the gap.== CREDENTIAL ==- Former engineer at Facebook- Co-founder of my own company right now- B.S. Electrical Engineering and Math Economics from UCLA - Top of UCLA Engineering Graduation Class- Linkedin: https://www.linkedin.com/in/richard-chen-04697215/- UniversityTutor profile: https://athertonca.universitytutor.com/tutors/186729== EXPERIENCE ==I have a passion for learning and teaching math and science, having tutored high school science and math for over 10 years since senior year in high school. While as a student at UCLA, I also enthusiastically helped others by participating in leading workshops as well as mentoring incoming students.== Experience ==Having the experience of helping people from various background, I am able to see these subjects from the students' point of view and help students understand with the best studying strategy suitable for the students. In addition, I believe that only a patient tutor is able to help students build a solid foundation.I am not just a tutor but I work with parents and students on setting the best strategy as well as studying habit and schedule in order to achieve the best grades possible. Typically I break down my lecture to be 25% lecture and 75% practice. I believe that only with ample practice can a student do well. Most students have tremendous improvement over the course of tutoring in a matter of weeks.I am also on the UCLA committee for the engineering school recommending students for engineering scholarship so I can also provide guidance on application essay writing as well as admissions.Style: I am teaching you a method rather than just what's in the book. Furthermore, my goal is to inspire you to do well.Standardized Test Scores: - SAT Math I: 800/800 - SAT Math IIC: 750/800 - SAT II Chemistry: 750/800 - SAT II Physics: 800/800 - SAT II Chinese/Mandarin 800/800 - High school GPA: 4.0/4.0 un-weighted - ValedictorianSelected Results: - College Organic Chemistry - D+ to A- - College Physics - C- to B+ - High School Chemistry C+ to A - SAT I Math 800/800 - AP Statistics 5, A - AP Chemistry 5, A - AP Physics 5, A - AP Calculus AB 5, A - AP Calculus BC 5, A - SAT Math 800 - SAT Math IIC 800Latest Results: - AP Physics B from D- to B+ - AP Physics C from C to A-, 5 - AP Calculus BC from B- to A-, 5Have helped students getting into (Mainly engineering/political science/economics/business majors): - Stanford - Harvard - Cornell - University of Illinois Urbana Champaign - Georgetown - Syracuse - Johns Hopkins - UCLA - USC - Berkeley - UCSD - Vanderbilt - NYU - Columbia== Fee ==I charge $80 per hour. No extra cost for traveling and off-hour help!\",\n",
       "  datetime.datetime(2021, 11, 28, 13, 15, 1))]"
      ]
     },
     "execution_count": 726,
     "metadata": {},
     "output_type": "execute_result"
    }
   ],
   "source": [
    "results"
   ]
  },
  {
   "cell_type": "markdown",
   "id": "knowing-directory",
   "metadata": {},
   "source": [
    "# Scratch work"
   ]
  },
  {
   "cell_type": "code",
   "execution_count": 114,
   "id": "juvenile-kazakhstan",
   "metadata": {},
   "outputs": [],
   "source": [
    "# sf_response = get('https://post.craigslist.org/k/avwmCB5A7BGhNo8Z2XZiFg/nQia5?s=hood')\n",
    "\n",
    "# sf_soup = BeautifulSoup(sf_response.text, 'html.parser')\n",
    "\n",
    "# sf_options = sf_soup.find_all(class_='option-label')\n",
    "\n",
    "# sf_towns = []\n",
    "# for town in sf_options[1:]:\n",
    "#     town_str = town.get_text()\n",
    "#     sf_towns.append(town_str)"
   ]
  },
  {
   "cell_type": "code",
   "execution_count": 118,
   "id": "excited-antique",
   "metadata": {},
   "outputs": [],
   "source": [
    "# southbay_response = get('https://post.craigslist.org/k/QocjZx5A7BGoSgyNMfHWMg/enONz?s=hood')\n",
    "\n",
    "# southbay_soup = BeautifulSoup(southbay_response.text, 'html.parser')\n",
    "\n",
    "# southbay_options = southbay_soup.find_all(class_='option-label')\n",
    "\n",
    "# southbay_towns = []\n",
    "# for town in southbay_options[1:]:\n",
    "#     town_str = town.get_text()\n",
    "#     southbay_towns.append(town_str)"
   ]
  },
  {
   "cell_type": "code",
   "execution_count": 123,
   "id": "coordinate-collector",
   "metadata": {},
   "outputs": [],
   "source": [
    "# eastbay_response = get('https://post.craigslist.org/k/chJu8h5A7BG1vbkl7zGu2A/zoAyD?s=hood')\n",
    "\n",
    "# eastbay_soup = BeautifulSoup(eastbay_response.text, 'html.parser')\n",
    "\n",
    "# eastbay_options = eastbay_soup.find_all(class_='option-label')\n",
    "\n",
    "# eastbay_towns = []\n",
    "# for town in eastbay_options[1:]:\n",
    "#     town_str = town.get_text()\n",
    "#     eastbay_towns.append(town_str)"
   ]
  },
  {
   "cell_type": "code",
   "execution_count": 120,
   "id": "engaged-provision",
   "metadata": {},
   "outputs": [],
   "source": [
    "# peninsula_response = get('https://post.craigslist.org/k/MGmMsB5A7BGZmpPWoASCRg/ZNqLC?s=hood')\n",
    "\n",
    "# peninsula_soup = BeautifulSoup(peninsula_response.text, 'html.parser')\n",
    "\n",
    "# peninsula_options = peninsula_soup.find_all(class_='option-label')\n",
    "\n",
    "# peninsula_towns = []\n",
    "# for town in peninsula_options[1:]:\n",
    "#     town_str = town.get_text()\n",
    "#     peninsula_towns.append(town_str)"
   ]
  },
  {
   "cell_type": "code",
   "execution_count": 133,
   "id": "entire-alignment",
   "metadata": {},
   "outputs": [],
   "source": [
    "# northbay_response = get('https://post.craigslist.org/k/EDIENx1A7BGuYAts9K5Q4g/LPMna?s=hood')\n",
    "\n",
    "# northbay_soup = BeautifulSoup(northbay_response.text, 'html.parser')\n",
    "\n",
    "# northbay_options = northbay_soup.find_all(class_='option-label')\n",
    "\n",
    "# northbay_towns = []\n",
    "# for town in northbay_options[1:]:\n",
    "#     town_str = town.get_text()\n",
    "#     northbay_towns.append(town_str)"
   ]
  },
  {
   "cell_type": "code",
   "execution_count": 122,
   "id": "numerous-measure",
   "metadata": {},
   "outputs": [],
   "source": [
    "# santacruzco_response = get('https://post.craigslist.org/k/DF_j3B5A7BGwdNr-8yOE1Q/xmAGM?s=hood')\n",
    "\n",
    "# santacruzco_soup = BeautifulSoup(santacruzco_response.text, 'html.parser')\n",
    "\n",
    "# santacruzco_options = santacruzco_soup.find_all(class_='option-label')\n",
    "\n",
    "# santacruzco_towns = []\n",
    "# for town in santacruzco_options[1:]:\n",
    "#     town_str = town.get_text()\n",
    "#     santacruzco_towns.append(town_str)"
   ]
  }
 ],
 "metadata": {
  "kernelspec": {
   "display_name": "Python 3",
   "language": "python",
   "name": "python3"
  },
  "language_info": {
   "codemirror_mode": {
    "name": "ipython",
    "version": 3
   },
   "file_extension": ".py",
   "mimetype": "text/x-python",
   "name": "python",
   "nbconvert_exporter": "python",
   "pygments_lexer": "ipython3",
   "version": "3.9.1"
  }
 },
 "nbformat": 4,
 "nbformat_minor": 5
}
